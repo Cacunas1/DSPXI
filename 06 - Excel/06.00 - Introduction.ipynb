{
 "cells": [
  {
   "cell_type": "markdown",
   "metadata": {},
   "source": [
    "![image.png](https://raw.githubusercontent.com/fjvarasc/DSPXI/master/figures/python_logo.png)"
   ]
  },
  {
   "cell_type": "markdown",
   "metadata": {
    "toc": true
   },
   "source": [
    "<h1>Table of Contents<span class=\"tocSkip\"></span></h1>\n",
    "<div class=\"toc\"><ul class=\"toc-item\"><li><span><a href=\"#Using-Python-And-Excel-For-Data-Science\" data-toc-modified-id=\"Using-Python-And-Excel-For-Data-Science-1\">Using Python And Excel For Data Science</a></span><ul class=\"toc-item\"><li><span><a href=\"#The-Data-As-Your-Starting-Point\" data-toc-modified-id=\"The-Data-As-Your-Starting-Point-1.1\">The Data As Your Starting Point</a></span></li><li><span><a href=\"#Check-The-Quality-of-Your-Spreadsheet\" data-toc-modified-id=\"Check-The-Quality-of-Your-Spreadsheet-1.2\">Check The Quality of Your Spreadsheet</a></span></li><li><span><a href=\"#Best-Practices-For-Spreadsheet-Data\" data-toc-modified-id=\"Best-Practices-For-Spreadsheet-Data-1.3\">Best Practices For Spreadsheet Data</a></span></li></ul></li></ul></div>"
   ]
  },
  {
   "cell_type": "markdown",
   "metadata": {},
   "source": [
    "# Using Python And Excel For Data Science"
   ]
  },
  {
   "cell_type": "markdown",
   "metadata": {},
   "source": [
    "You will probably already know that Excel is a spreadsheet application developed by Microsoft. You can use this easily accessible tool to organize, analyze and store your data in tables. What’s more, this software is widely used in many different application fields all over the world.\n",
    "\n",
    "And, whether you like it or not, this applies to data science.\n",
    "\n",
    "You’ll need to deal with these spreadsheets at some point, but you won’t always want to continue working in it either. That’s why Python developers have implemented ways to read, write and manipulate not only these files, but also many other types of files.\n",
    "\n",
    "Today’s tutorial will give you some insights into how you can work with Excel and Python. It will provide you with an overview of packages that you can use to load and write these spreadsheets to files with the help of Python. You’ll learn how to work with packages such as `pandas`, `openpyxl`, `xlrd`, `xlutils` and `pyexcel`."
   ]
  },
  {
   "cell_type": "markdown",
   "metadata": {},
   "source": [
    "## The Data As Your Starting Point\n",
    "When you’re starting a data science project, you will often work from data that you have gathered maybe from web scraping, but probably mostly from datasets that you download from other places, such as Kaggle, Quandl, etc.\n",
    "\n",
    "But more often than not, you’ll also find data on Google or on repositories that are shared by other users. This data might be in an Excel file or saved to a file with .csv extension, … The possibilities can seem endless sometimes. But whenever you have data, your first step should be to make sure that you’re working with a qualitative data.\n",
    "\n",
    "In the case of a spreadsheet, you should corroborate that it's qualitative because you might not only want to check if this data can answer the research question that you have in mind but also if you can trust the data that the spreadsheet holds."
   ]
  },
  {
   "cell_type": "markdown",
   "metadata": {},
   "source": [
    "## Check The Quality of Your Spreadsheet\n",
    "To check the overall quality of your spreadsheet, you can go over the following checklist:\n",
    "\n",
    "- Does the spreadsheet represent static data?\n",
    "- Does your spreadsheet mix data, calculation, and reporting?\n",
    "- Is the data in your spreadsheet complete and consistent?\n",
    "    - Does your spreadsheet have a systematic worksheet structure?\n",
    "    - Did you check if the live formulas in the spreadsheet are valid?\n",
    "\n",
    "This list of questions is to make sure that your spreadsheet doesn’t ‘sin’ against the best practices that are generally accepted in the industry. Of course, the above list is not exhaustive: there are many more general rules that you can follow to make sure your spreadsheet is not an ugly duckling. However, the questions that have been formulated above are most relevant for when you want to make sure if the spreadsheet is qualitative."
   ]
  },
  {
   "cell_type": "markdown",
   "metadata": {},
   "source": [
    "## Best Practices For Spreadsheet Data\n",
    "Previous to reading in your spreadsheet in Python, you also want to consider adjusting your file to meet some basic principles, such as:\n",
    "\n",
    "- The first row of the spreadsheet is usually reserved for the header, while the first column is used to identify the sampling unit;\n",
    "- Avoid names, values or fields with blank spaces. Otherwise, each word will be interpreted as a separate variable, resulting in errors that are related to the number of elements per line in your data set. Consider using:\n",
    " - Underscores,\n",
    " - Dashes,\n",
    " - Camel case, where the first letter of each section of text is capitalized, or\n",
    " - Concatenating words\n",
    "- Short names are preferred over longer names;\n",
    "- Try to avoid using names that contain symbols such as ?, `$`,`%`, `^`, `&`, `*`, `(`,`)`,`-`,`#`, `?`,`,`,`<`,`>`, `/`, `|`, `\\`, `[` ,`]` ,`{`, and `}`;\n",
    "- Delete any comments that you have made in your file to avoid extra columns or NA’s to be added to your file; and\n",
    "Make sure that any missing values in your data set are indicated with NA.\n",
    "\n",
    "Next, after you have made the necessary changes or when you have taken a thorough look at your data, make sure that you save your changes if you have made any. By doing this, you can revisit the data later to edit it, to add more data or to change them, while you preserve the formulas that you maybe used to calculate the data, etc.\n",
    "\n",
    "If you’re working with Microsoft Excel, you’ll see that there are a considerable amount of options to save your file: besides the default extension `.xls` or .`xlsx`, you can go to the “File” tab, click on “Save As” and select one of the extensions that are listed as the “Save as Type” options. The most commonly used extensions to save datasets for data science are `.csv` and `.txt` (as tab-delimited text file). Depending on the saving option that you choose, your data set’s fields are separated by tabs or commas, which will make up the “field separator characters” of your data set.\n",
    "\n",
    "Now that have checked and saves your data, you can start with the preparation of your workspace!"
   ]
  }
 ],
 "metadata": {
  "kernelspec": {
   "display_name": "Python 3",
   "language": "python",
   "name": "dspxi"
  },
  "language_info": {
   "codemirror_mode": {
    "name": "ipython",
    "version": 3
   },
   "file_extension": ".py",
   "mimetype": "text/x-python",
   "name": "python",
   "nbconvert_exporter": "python",
   "pygments_lexer": "ipython3",
   "version": "3.6.8"
  },
  "toc": {
   "base_numbering": 1,
   "nav_menu": {},
   "number_sections": false,
   "sideBar": true,
   "skip_h1_title": false,
   "title_cell": "Table of Contents",
   "title_sidebar": "Contents",
   "toc_cell": true,
   "toc_position": {},
   "toc_section_display": true,
   "toc_window_display": true
  },
  "varInspector": {
   "cols": {
    "lenName": 16,
    "lenType": 16,
    "lenVar": 40
   },
   "kernels_config": {
    "python": {
     "delete_cmd_postfix": "",
     "delete_cmd_prefix": "del ",
     "library": "var_list.py",
     "varRefreshCmd": "print(var_dic_list())"
    },
    "r": {
     "delete_cmd_postfix": ") ",
     "delete_cmd_prefix": "rm(",
     "library": "var_list.r",
     "varRefreshCmd": "cat(var_dic_list()) "
    }
   },
   "types_to_exclude": [
    "module",
    "function",
    "builtin_function_or_method",
    "instance",
    "_Feature"
   ],
   "window_display": false
  }
 },
 "nbformat": 4,
 "nbformat_minor": 2
}
