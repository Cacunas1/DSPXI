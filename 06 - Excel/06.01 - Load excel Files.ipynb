{
 "cells": [
  {
   "cell_type": "markdown",
   "metadata": {},
   "source": [
    "![image.png](https://raw.githubusercontent.com/fjvarasc/DSPXI/master/figures/python_logo.png)"
   ]
  },
  {
   "cell_type": "markdown",
   "metadata": {
    "toc": true
   },
   "source": [
    "<h1>Table of Contents<span class=\"tocSkip\"></span></h1>\n",
    "<div class=\"toc\"><ul class=\"toc-item\"><li><span><a href=\"#Load-Excel-Files-As-Pandas-DataFrames\" data-toc-modified-id=\"Load-Excel-Files-As-Pandas-DataFrames-1\"><span class=\"toc-item-num\">1&nbsp;&nbsp;</span>Load Excel Files As Pandas DataFrames</a></span><ul class=\"toc-item\"><li><span><a href=\"#Pandas-read_excel\" data-toc-modified-id=\"Pandas-read_excel-1.1\"><span class=\"toc-item-num\">1.1&nbsp;&nbsp;</span>Pandas read_excel</a></span></li><li><span><a href=\"#How-To-Write-Pandas-DataFrames-to-Excel-Files\" data-toc-modified-id=\"How-To-Write-Pandas-DataFrames-to-Excel-Files-1.2\"><span class=\"toc-item-num\">1.2&nbsp;&nbsp;</span>How To Write Pandas DataFrames to Excel Files</a></span></li></ul></li></ul></div>"
   ]
  },
  {
   "cell_type": "markdown",
   "metadata": {},
   "source": [
    "# Load Excel Files As Pandas DataFrames\n",
    "One of the ways that you’ll often used to import your files when you’re working with them for data science is with the help of the Pandas package. As we saw previously, the Pandas library is built on NumPy and provides easy-to-use data structures and data analysis tools for the Python programming language.\n",
    "\n",
    "This powerful and flexible library is very frequently used by (aspiring) data scientists to get their data into data structures that are highly expressive for their analyses.\n",
    "\n",
    "If you already have Pandas available through Anaconda, you can just load your files in Pandas DataFrames with pd.Excelfile():"
   ]
  },
  {
   "cell_type": "code",
   "execution_count": 125,
   "metadata": {
    "ExecuteTime": {
     "end_time": "2019-03-25T00:43:45.806191Z",
     "start_time": "2019-03-25T00:43:43.474481Z"
    }
   },
   "outputs": [
    {
     "name": "stdout",
     "output_type": "stream",
     "text": [
      "['2010', '2009', '2008', '2007', '2006']\n"
     ]
    }
   ],
   "source": [
    "# Import pandas\n",
    "import pandas as pd\n",
    "\n",
    "# Load spreadsheet\n",
    "xl = pd.ExcelFile('https://github.com/fjvarasc/DSPXI/blob/master/data/IMDB-Movie-Data.xlsx?raw=true')\n",
    "# Print the sheet names\n",
    "print(xl.sheet_names)\n"
   ]
  },
  {
   "cell_type": "code",
   "execution_count": 126,
   "metadata": {
    "ExecuteTime": {
     "end_time": "2019-03-25T00:43:47.092382Z",
     "start_time": "2019-03-25T00:43:46.970287Z"
    }
   },
   "outputs": [
    {
     "data": {
      "text/html": [
       "<div>\n",
       "<style scoped>\n",
       "    .dataframe tbody tr th:only-of-type {\n",
       "        vertical-align: middle;\n",
       "    }\n",
       "\n",
       "    .dataframe tbody tr th {\n",
       "        vertical-align: top;\n",
       "    }\n",
       "\n",
       "    .dataframe thead th {\n",
       "        text-align: right;\n",
       "    }\n",
       "</style>\n",
       "<table border=\"1\" class=\"dataframe\">\n",
       "  <thead>\n",
       "    <tr style=\"text-align: right;\">\n",
       "      <th></th>\n",
       "      <th>Rank</th>\n",
       "      <th>Title</th>\n",
       "      <th>Genre</th>\n",
       "      <th>Description</th>\n",
       "      <th>Director</th>\n",
       "      <th>Actors</th>\n",
       "      <th>Year</th>\n",
       "      <th>Runtime (Minutes)</th>\n",
       "      <th>Rating</th>\n",
       "      <th>Votes</th>\n",
       "      <th>Revenue (Millions)</th>\n",
       "      <th>Metascore</th>\n",
       "    </tr>\n",
       "  </thead>\n",
       "  <tbody>\n",
       "    <tr>\n",
       "      <th>0</th>\n",
       "      <td>81</td>\n",
       "      <td>Inception</td>\n",
       "      <td>Action,Adventure,Sci-Fi</td>\n",
       "      <td>A thief, who steals corporate secrets through ...</td>\n",
       "      <td>Christopher Nolan</td>\n",
       "      <td>Leonardo DiCaprio, Joseph Gordon-Levitt, Ellen...</td>\n",
       "      <td>2010</td>\n",
       "      <td>148</td>\n",
       "      <td>8.8</td>\n",
       "      <td>1583625</td>\n",
       "      <td>292.57</td>\n",
       "      <td>74.0</td>\n",
       "    </tr>\n",
       "    <tr>\n",
       "      <th>1</th>\n",
       "      <td>139</td>\n",
       "      <td>Shutter Island</td>\n",
       "      <td>Mystery,Thriller</td>\n",
       "      <td>In 1954, a U.S. marshal investigates the disap...</td>\n",
       "      <td>Martin Scorsese</td>\n",
       "      <td>Leonardo DiCaprio, Emily Mortimer, Mark Ruffal...</td>\n",
       "      <td>2010</td>\n",
       "      <td>138</td>\n",
       "      <td>8.1</td>\n",
       "      <td>855604</td>\n",
       "      <td>127.97</td>\n",
       "      <td>63.0</td>\n",
       "    </tr>\n",
       "    <tr>\n",
       "      <th>2</th>\n",
       "      <td>142</td>\n",
       "      <td>Diary of a Wimpy Kid</td>\n",
       "      <td>Comedy,Family</td>\n",
       "      <td>The adventures of a teenager who is fresh out ...</td>\n",
       "      <td>Thor Freudenthal</td>\n",
       "      <td>Zachary Gordon, Robert Capron, Rachael Harris,...</td>\n",
       "      <td>2010</td>\n",
       "      <td>94</td>\n",
       "      <td>6.2</td>\n",
       "      <td>34184</td>\n",
       "      <td>64.00</td>\n",
       "      <td>56.0</td>\n",
       "    </tr>\n",
       "    <tr>\n",
       "      <th>3</th>\n",
       "      <td>159</td>\n",
       "      <td>Scott Pilgrim vs. the World</td>\n",
       "      <td>Action,Comedy,Fantasy</td>\n",
       "      <td>Scott Pilgrim must defeat his new girlfriend's...</td>\n",
       "      <td>Edgar Wright</td>\n",
       "      <td>Michael Cera, Mary Elizabeth Winstead, Kieran ...</td>\n",
       "      <td>2010</td>\n",
       "      <td>112</td>\n",
       "      <td>7.5</td>\n",
       "      <td>291457</td>\n",
       "      <td>31.49</td>\n",
       "      <td>69.0</td>\n",
       "    </tr>\n",
       "    <tr>\n",
       "      <th>4</th>\n",
       "      <td>220</td>\n",
       "      <td>Kick-Ass</td>\n",
       "      <td>Action,Comedy</td>\n",
       "      <td>Dave Lizewski is an unnoticed high school stud...</td>\n",
       "      <td>Matthew Vaughn</td>\n",
       "      <td>Aaron Taylor-Johnson, Nicolas Cage, Chlo√´ Gra...</td>\n",
       "      <td>2010</td>\n",
       "      <td>117</td>\n",
       "      <td>7.7</td>\n",
       "      <td>456749</td>\n",
       "      <td>48.04</td>\n",
       "      <td>66.0</td>\n",
       "    </tr>\n",
       "  </tbody>\n",
       "</table>\n",
       "</div>"
      ],
      "text/plain": [
       "   Rank                        Title                    Genre  \\\n",
       "0    81                    Inception  Action,Adventure,Sci-Fi   \n",
       "1   139               Shutter Island         Mystery,Thriller   \n",
       "2   142         Diary of a Wimpy Kid            Comedy,Family   \n",
       "3   159  Scott Pilgrim vs. the World    Action,Comedy,Fantasy   \n",
       "4   220                     Kick-Ass            Action,Comedy   \n",
       "\n",
       "                                         Description           Director  \\\n",
       "0  A thief, who steals corporate secrets through ...  Christopher Nolan   \n",
       "1  In 1954, a U.S. marshal investigates the disap...    Martin Scorsese   \n",
       "2  The adventures of a teenager who is fresh out ...   Thor Freudenthal   \n",
       "3  Scott Pilgrim must defeat his new girlfriend's...       Edgar Wright   \n",
       "4  Dave Lizewski is an unnoticed high school stud...     Matthew Vaughn   \n",
       "\n",
       "                                              Actors  Year  Runtime (Minutes)  \\\n",
       "0  Leonardo DiCaprio, Joseph Gordon-Levitt, Ellen...  2010                148   \n",
       "1  Leonardo DiCaprio, Emily Mortimer, Mark Ruffal...  2010                138   \n",
       "2  Zachary Gordon, Robert Capron, Rachael Harris,...  2010                 94   \n",
       "3  Michael Cera, Mary Elizabeth Winstead, Kieran ...  2010                112   \n",
       "4  Aaron Taylor-Johnson, Nicolas Cage, Chlo√´ Gra...  2010                117   \n",
       "\n",
       "   Rating    Votes  Revenue (Millions)  Metascore  \n",
       "0     8.8  1583625              292.57       74.0  \n",
       "1     8.1   855604              127.97       63.0  \n",
       "2     6.2    34184               64.00       56.0  \n",
       "3     7.5   291457               31.49       69.0  \n",
       "4     7.7   456749               48.04       66.0  "
      ]
     },
     "execution_count": 126,
     "metadata": {},
     "output_type": "execute_result"
    }
   ],
   "source": [
    "# Load a sheet into a DataFrame by name: df1\n",
    "df1 = xl.parse('2010')\n",
    "\n",
    "df1.head()"
   ]
  },
  {
   "cell_type": "markdown",
   "metadata": {},
   "source": [
    "## Pandas read_excel\n",
    "We import the pandas module, including ExcelFile. The method read_excel() reads the data into a Pandas Data Frame, where the first parameter is the filename and the second parameter is the sheet.\n",
    "\n",
    "The list of columns will be called df.columns."
   ]
  },
  {
   "cell_type": "code",
   "execution_count": 130,
   "metadata": {
    "ExecuteTime": {
     "end_time": "2019-03-25T00:48:47.728857Z",
     "start_time": "2019-03-25T00:48:45.230364Z"
    }
   },
   "outputs": [
    {
     "name": "stdout",
     "output_type": "stream",
     "text": [
      "Column headings:\n",
      "Index(['Rank', 'Title', 'Genre', 'Description', 'Director', 'Actors', 'Year',\n",
      "       'Runtime (Minutes)', 'Rating', 'Votes', 'Revenue (Millions)',\n",
      "       'Metascore'],\n",
      "      dtype='object')\n"
     ]
    }
   ],
   "source": [
    "from pandas import ExcelWriter\n",
    "from pandas import ExcelFile\n",
    " \n",
    "#df = pd.read_excel('IMDB-Movie-Data.xlsx', sheet_name='2010')\n",
    "df = pd.read_excel('https://github.com/fjvarasc/DSPXI/blob/master/data/IMDB-Movie-Data.xlsx?raw=true', sheet_name='2010')\n",
    "print(\"Column headings:\")\n",
    "print(df.columns)"
   ]
  },
  {
   "cell_type": "markdown",
   "metadata": {},
   "source": [
    "Using the data frame, we can get all the rows below an entire column as a list. To get such a list, simply use the column header"
   ]
  },
  {
   "cell_type": "code",
   "execution_count": 131,
   "metadata": {
    "ExecuteTime": {
     "end_time": "2019-03-25T00:48:56.806186Z",
     "start_time": "2019-03-25T00:48:56.757842Z"
    }
   },
   "outputs": [
    {
     "name": "stdout",
     "output_type": "stream",
     "text": [
      "0                                             Inception\n",
      "1                                        Shutter Island\n",
      "2                                  Diary of a Wimpy Kid\n",
      "3                           Scott Pilgrim vs. the World\n",
      "4                                              Kick-Ass\n",
      "5                                             Predators\n",
      "6     Percy Jackson & the Olympians: The Lightning T...\n",
      "7                                            Black Swan\n",
      "8                                She's Out of My League\n",
      "9                                    The Social Network\n",
      "10                                           Robin Hood\n",
      "11                                        Despicable Me\n",
      "12                                              Tangled\n",
      "13         Harry Potter and the Deathly Hallows: Part 1\n",
      "14                                          Srpski film\n",
      "15                                       Blue Valentine\n",
      "16                                           Iron Man 2\n",
      "17                                             The Town\n",
      "18                                                 Salt\n",
      "19                                       The Other Guys\n",
      "20                                           Stake Land\n",
      "21                                      The Book of Eli\n",
      "22                                               Easy A\n",
      "23                                                Trust\n",
      "24                                     The Ghost Writer\n",
      "25                                  Alice in Wonderland\n",
      "26                                      The Expendables\n",
      "27                                  Clash of the Titans\n",
      "28                                                 Tron\n",
      "29                                      All Good Things\n",
      "30                                   The Last Airbender\n",
      "31                                            Let Me In\n",
      "32                                             Megamind\n",
      "33                                        Winter's Bone\n",
      "34                                   Love & Other Drugs\n",
      "35                                            Insidious\n",
      "36                                    The King's Speech\n",
      "37                                          Toy Story 3\n",
      "38                                                  RED\n",
      "39                                               Faster\n",
      "40                                            Incendies\n",
      "41                                            Grown Ups\n",
      "42                                       The Karate Kid\n",
      "43                                           The A-Team\n",
      "44                                            True Grit\n",
      "45                                          The Fighter\n",
      "46                             How to Train Your Dragon\n",
      "47                  Prince of Persia: The Sands of Time\n",
      "48                                            127 Hours\n",
      "49                                          Unstoppable\n",
      "50                                          Remember Me\n",
      "51                                   Life as We Know It\n",
      "52                                           Piranha 3D\n",
      "53                                            Centurion\n",
      "54                                                Super\n",
      "55                           The Twilight Saga: Eclipse\n",
      "56                                   Sex and the City 2\n",
      "57                                               Legion\n",
      "58                                 I Spit on Your Grave\n",
      "59                             Resident Evil: Afterlife\n",
      "Name: Title, dtype: object\n"
     ]
    }
   ],
   "source": [
    "print(df['Title'])"
   ]
  },
  {
   "cell_type": "markdown",
   "metadata": {},
   "source": [
    "## How To Write Pandas DataFrames to Excel Files\n",
    "Let’s say that after your analysis of the data, you want to write the data back to a new file. There’s also a way to write your Pandas DataFrames back to files with the to_excel() function.\n",
    "\n",
    "But, before you use this function, make sure that you have the XlsxWriter installed if you want to write your data to multiple worksheets in an .xlsx file:\n",
    "```\n",
    "# Install `XlsxWriter` \n",
    "pip install XlsxWriter\n",
    "```"
   ]
  },
  {
   "cell_type": "code",
   "execution_count": 111,
   "metadata": {
    "ExecuteTime": {
     "end_time": "2019-03-24T22:43:13.153593Z",
     "start_time": "2019-03-24T22:43:12.892387Z"
    }
   },
   "outputs": [],
   "source": [
    "# Specify a writer\n",
    "writer = pd.ExcelWriter('example.xlsx', engine='xlsxwriter')\n",
    "\n",
    "# Write your DataFrame to a file     \n",
    "df1.to_excel(writer, 'Sheet1')\n",
    "\n",
    "# Save the result \n",
    "writer.save()"
   ]
  },
  {
   "cell_type": "markdown",
   "metadata": {},
   "source": [
    "Note that in the code chunk above, you use an ExcelWriter object to output the DataFrame.\n",
    "\n",
    "Stated differently, you pass the writer variable to the to_excel() function and you also specify the sheet name. This way, you add a sheet with the data to an existing workbook: you can use the ExcelWriter to save multiple, (slightly) different DataFrames to one workbook.\n",
    "\n",
    "This all means that if you just want to save one DataFrame to a file, you can also go without installing the XlsxWriter package. Then, you just don’t specify the engine argument that you would pass to the pd.ExcelWriter() function. The rest of the steps stay the same.\n",
    "\n",
    "Similarly to the functions that you used to read in .csv files, you also have a function to_csv() to write the results back to a comma separated file. It again works much in the same way as when you used it to read in the file:\n"
   ]
  },
  {
   "cell_type": "code",
   "execution_count": 112,
   "metadata": {
    "ExecuteTime": {
     "end_time": "2019-03-24T22:43:13.191668Z",
     "start_time": "2019-03-24T22:43:13.164431Z"
    }
   },
   "outputs": [],
   "source": [
    "# Write the DataFrame to csv\n",
    "df1.to_csv(\"example.csv\")"
   ]
  },
  {
   "cell_type": "markdown",
   "metadata": {},
   "source": [
    "If you want to have a tab separated file, you can also pass a \\t to the sep argument to make this clear. Note that there are various other functions that you can use to output your files. You can find all of them [here](http://pandas.pydata.org/pandas-docs/stable/api.html#id12)."
   ]
  }
 ],
 "metadata": {
  "kernelspec": {
   "display_name": "Python 3",
   "language": "python",
   "name": "dspxi"
  },
  "language_info": {
   "codemirror_mode": {
    "name": "ipython",
    "version": 3
   },
   "file_extension": ".py",
   "mimetype": "text/x-python",
   "name": "python",
   "nbconvert_exporter": "python",
   "pygments_lexer": "ipython3",
   "version": "3.6.8"
  },
  "toc": {
   "base_numbering": 1,
   "nav_menu": {},
   "number_sections": true,
   "sideBar": true,
   "skip_h1_title": false,
   "title_cell": "Table of Contents",
   "title_sidebar": "Contents",
   "toc_cell": true,
   "toc_position": {},
   "toc_section_display": true,
   "toc_window_display": true
  },
  "varInspector": {
   "cols": {
    "lenName": 16,
    "lenType": 16,
    "lenVar": 40
   },
   "kernels_config": {
    "python": {
     "delete_cmd_postfix": "",
     "delete_cmd_prefix": "del ",
     "library": "var_list.py",
     "varRefreshCmd": "print(var_dic_list())"
    },
    "r": {
     "delete_cmd_postfix": ") ",
     "delete_cmd_prefix": "rm(",
     "library": "var_list.r",
     "varRefreshCmd": "cat(var_dic_list()) "
    }
   },
   "types_to_exclude": [
    "module",
    "function",
    "builtin_function_or_method",
    "instance",
    "_Feature"
   ],
   "window_display": false
  }
 },
 "nbformat": 4,
 "nbformat_minor": 2
}
