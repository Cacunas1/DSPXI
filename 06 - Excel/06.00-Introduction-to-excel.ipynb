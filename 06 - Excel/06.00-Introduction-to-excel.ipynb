{
 "cells": [
  {
   "cell_type": "code",
   "execution_count": null,
   "metadata": {},
   "outputs": [],
   "source": [
    "https://www.datacamp.com/community/tutorials/python-excel-tutorial\n",
    "\n",
    "https://stackoverflow.com/questions/19616205/running-an-excel-macro-via-python\n",
    "https://www.dataquest.io/blog/excel-and-pandas\n",
    "    \n",
    "https://github.com/python-excel\n",
    "#https://pbpython.com/excel-pandas-comp.html\n",
    "#https://www.dataquest.io/blog/excel-and-pandas/\n",
    "#https://medium.com/importexcel/common-excel-task-in-python-vlookup-with-pandas-merge-c99d4e108988\n",
    "#https://assets.datacamp.com/blog_assets/PandasPythonForDataScience.pdf\n",
    "https://medium.com/importexcel/common-excel-task-in-python-vlookup-with-pandas-merge-c99d4e108988\n",
    "https://www.dataquest.io/blog/excel-and-pandas/\n",
    "https://www.dataquest.io/blog/pandas-pivot-table/"
   ]
  },
  {
   "cell_type": "markdown",
   "metadata": {},
   "source": [
    "![image.png](https://raw.githubusercontent.com/fjvarasc/DSPXI/master/figures/python_logo.png)"
   ]
  },
  {
   "cell_type": "markdown",
   "metadata": {},
   "source": [
    "# Using Python And Excel For Data Science"
   ]
  },
  {
   "cell_type": "markdown",
   "metadata": {},
   "source": [
    "You will probably already know that Excel is a spreadsheet application developed by Microsoft. You can use this easily accessible tool to organize, analyze and store your data in tables. What’s more, this software is widely used in many different application fields all over the world.\n",
    "\n",
    "And, whether you like it or not, this applies to data science.\n",
    "\n",
    "You’ll need to deal with these spreadsheets at some point, but you won’t always want to continue working in it either. That’s why Python developers have implemented ways to read, write and manipulate not only these files, but also many other types of files.\n",
    "\n",
    "Today’s tutorial will give you some insights into how you can work with Excel and Python. It will provide you with an overview of packages that you can use to load and write these spreadsheets to files with the help of Python. You’ll learn how to work with packages such as `pandas`, `openpyxl`, `xlrd`, `xlutils` and `pyexcel`."
   ]
  },
  {
   "cell_type": "markdown",
   "metadata": {},
   "source": [
    "## The Data As Your Starting Point\n",
    "When you’re starting a data science project, you will often work from data that you have gathered maybe from web scraping, but probably mostly from datasets that you download from other places, such as Kaggle, Quandl, etc.\n",
    "\n",
    "But more often than not, you’ll also find data on Google or on repositories that are shared by other users. This data might be in an Excel file or saved to a file with .csv extension, … The possibilities can seem endless sometimes. But whenever you have data, your first step should be to make sure that you’re working with a qualitative data.\n",
    "\n",
    "In the case of a spreadsheet, you should corroborate that it's qualitative because you might not only want to check if this data can answer the research question that you have in mind but also if you can trust the data that the spreadsheet holds."
   ]
  },
  {
   "cell_type": "markdown",
   "metadata": {},
   "source": [
    "## Check The Quality of Your Spreadsheet\n",
    "To check the overall quality of your spreadsheet, you can go over the following checklist:\n",
    "\n",
    "- Does the spreadsheet represent static data?\n",
    "- Does your spreadsheet mix data, calculation, and reporting?\n",
    "- Is the data in your spreadsheet complete and consistent?\n",
    "    - Does your spreadsheet have a systematic worksheet structure?\n",
    "    - Did you check if the live formulas in the spreadsheet are valid?\n",
    "\n",
    "This list of questions is to make sure that your spreadsheet doesn’t ‘sin’ against the best practices that are generally accepted in the industry. Of course, the above list is not exhaustive: there are many more general rules that you can follow to make sure your spreadsheet is not an ugly duckling. However, the questions that have been formulated above are most relevant for when you want to make sure if the spreadsheet is qualitative."
   ]
  },
  {
   "cell_type": "markdown",
   "metadata": {},
   "source": [
    "## Best Practices For Spreadsheet Data\n",
    "Previous to reading in your spreadsheet in Python, you also want to consider adjusting your file to meet some basic principles, such as:\n",
    "\n",
    "- The first row of the spreadsheet is usually reserved for the header, while the first column is used to identify the sampling unit;\n",
    "- Avoid names, values or fields with blank spaces. Otherwise, each word will be interpreted as a separate variable, resulting in errors that are related to the number of elements per line in your data set. Consider using:\n",
    " - Underscores,\n",
    " - Dashes,\n",
    " - Camel case, where the first letter of each section of text is capitalized, or\n",
    " - Concatenating words\n",
    "- Short names are preferred over longer names;\n",
    "- Try to avoid using names that contain symbols such as ?, `$`,`%`, `^`, `&`, `*`, `(`,`)`,`-`,`#`, `?`,`,`,`<`,`>`, `/`, `|`, `\\`, `[` ,`]` ,`{`, and `}`;\n",
    "- Delete any comments that you have made in your file to avoid extra columns or NA’s to be added to your file; and\n",
    "Make sure that any missing values in your data set are indicated with NA.\n",
    "\n",
    "Next, after you have made the necessary changes or when you have taken a thorough look at your data, make sure that you save your changes if you have made any. By doing this, you can revisit the data later to edit it, to add more data or to change them, while you preserve the formulas that you maybe used to calculate the data, etc.\n",
    "\n",
    "If you’re working with Microsoft Excel, you’ll see that there are a considerable amount of options to save your file: besides the default extension `.xls` or .`xlsx`, you can go to the “File” tab, click on “Save As” and select one of the extensions that are listed as the “Save as Type” options. The most commonly used extensions to save datasets for data science are `.csv` and `.txt` (as tab-delimited text file). Depending on the saving option that you choose, your data set’s fields are separated by tabs or commas, which will make up the “field separator characters” of your data set.\n",
    "\n",
    "Now that have checked and saves your data, you can start with the preparation of your workspace!"
   ]
  },
  {
   "cell_type": "markdown",
   "metadata": {},
   "source": [
    "# Load Excel Files As Pandas DataFrames\n",
    "One of the ways that you’ll often used to import your files when you’re working with them for data science is with the help of the Pandas package. As we saw previously, the Pandas library is built on NumPy and provides easy-to-use data structures and data analysis tools for the Python programming language.\n",
    "\n",
    "This powerful and flexible library is very frequently used by (aspiring) data scientists to get their data into data structures that are highly expressive for their analyses.\n",
    "\n",
    "If you already have Pandas available through Anaconda, you can just load your files in Pandas DataFrames with pd.Excelfile():"
   ]
  },
  {
   "cell_type": "code",
   "execution_count": 11,
   "metadata": {},
   "outputs": [
    {
     "name": "stdout",
     "output_type": "stream",
     "text": [
      "['MainData', 'IMDB-Movie-Data']\n"
     ]
    }
   ],
   "source": [
    "# Import pandas\n",
    "import pandas as pd\n",
    "\n",
    "# Load spreadsheet\n",
    "xl = pd.ExcelFile('IMDB-Movie-Data.xlsx')\n",
    "# Print the sheet names\n",
    "print(xl.sheet_names)\n"
   ]
  },
  {
   "cell_type": "code",
   "execution_count": 12,
   "metadata": {},
   "outputs": [
    {
     "data": {
      "text/html": [
       "<div>\n",
       "<style scoped>\n",
       "    .dataframe tbody tr th:only-of-type {\n",
       "        vertical-align: middle;\n",
       "    }\n",
       "\n",
       "    .dataframe tbody tr th {\n",
       "        vertical-align: top;\n",
       "    }\n",
       "\n",
       "    .dataframe thead th {\n",
       "        text-align: right;\n",
       "    }\n",
       "</style>\n",
       "<table border=\"1\" class=\"dataframe\">\n",
       "  <thead>\n",
       "    <tr style=\"text-align: right;\">\n",
       "      <th></th>\n",
       "      <th>Rank</th>\n",
       "      <th>Title</th>\n",
       "      <th>Genre</th>\n",
       "      <th>Description</th>\n",
       "      <th>Director</th>\n",
       "      <th>Actors</th>\n",
       "      <th>Year</th>\n",
       "      <th>Runtime (Minutes)</th>\n",
       "      <th>Rating</th>\n",
       "      <th>Votes</th>\n",
       "      <th>Revenue (Millions)</th>\n",
       "      <th>Metascore</th>\n",
       "    </tr>\n",
       "  </thead>\n",
       "  <tbody>\n",
       "    <tr>\n",
       "      <th>0</th>\n",
       "      <td>1</td>\n",
       "      <td>Guardians of the Galaxy</td>\n",
       "      <td>Action,Adventure,Sci-Fi</td>\n",
       "      <td>A group of intergalactic criminals are forced ...</td>\n",
       "      <td>James Gunn</td>\n",
       "      <td>Chris Pratt, Vin Diesel, Bradley Cooper, Zoe S...</td>\n",
       "      <td>2014</td>\n",
       "      <td>121</td>\n",
       "      <td>8.1</td>\n",
       "      <td>757074</td>\n",
       "      <td>333.13</td>\n",
       "      <td>76.0</td>\n",
       "    </tr>\n",
       "    <tr>\n",
       "      <th>1</th>\n",
       "      <td>2</td>\n",
       "      <td>Prometheus</td>\n",
       "      <td>Adventure,Mystery,Sci-Fi</td>\n",
       "      <td>Following clues to the origin of mankind, a te...</td>\n",
       "      <td>Ridley Scott</td>\n",
       "      <td>Noomi Rapace, Logan Marshall-Green, Michael Fa...</td>\n",
       "      <td>2012</td>\n",
       "      <td>124</td>\n",
       "      <td>7.0</td>\n",
       "      <td>485820</td>\n",
       "      <td>126.46</td>\n",
       "      <td>65.0</td>\n",
       "    </tr>\n",
       "    <tr>\n",
       "      <th>2</th>\n",
       "      <td>3</td>\n",
       "      <td>Split</td>\n",
       "      <td>Horror,Thriller</td>\n",
       "      <td>Three girls are kidnapped by a man with a diag...</td>\n",
       "      <td>M. Night Shyamalan</td>\n",
       "      <td>James McAvoy, Anya Taylor-Joy, Haley Lu Richar...</td>\n",
       "      <td>2016</td>\n",
       "      <td>117</td>\n",
       "      <td>7.3</td>\n",
       "      <td>157606</td>\n",
       "      <td>138.12</td>\n",
       "      <td>62.0</td>\n",
       "    </tr>\n",
       "    <tr>\n",
       "      <th>3</th>\n",
       "      <td>4</td>\n",
       "      <td>Sing</td>\n",
       "      <td>Animation,Comedy,Family</td>\n",
       "      <td>In a city of humanoid animals, a hustling thea...</td>\n",
       "      <td>Christophe Lourdelet</td>\n",
       "      <td>Matthew McConaughey,Reese Witherspoon, Seth Ma...</td>\n",
       "      <td>2016</td>\n",
       "      <td>108</td>\n",
       "      <td>7.2</td>\n",
       "      <td>60545</td>\n",
       "      <td>270.32</td>\n",
       "      <td>59.0</td>\n",
       "    </tr>\n",
       "    <tr>\n",
       "      <th>4</th>\n",
       "      <td>5</td>\n",
       "      <td>Suicide Squad</td>\n",
       "      <td>Action,Adventure,Fantasy</td>\n",
       "      <td>A secret government agency recruits some of th...</td>\n",
       "      <td>David Ayer</td>\n",
       "      <td>Will Smith, Jared Leto, Margot Robbie, Viola D...</td>\n",
       "      <td>2016</td>\n",
       "      <td>123</td>\n",
       "      <td>6.2</td>\n",
       "      <td>393727</td>\n",
       "      <td>325.02</td>\n",
       "      <td>40.0</td>\n",
       "    </tr>\n",
       "  </tbody>\n",
       "</table>\n",
       "</div>"
      ],
      "text/plain": [
       "   Rank                    Title                     Genre  \\\n",
       "0     1  Guardians of the Galaxy   Action,Adventure,Sci-Fi   \n",
       "1     2               Prometheus  Adventure,Mystery,Sci-Fi   \n",
       "2     3                    Split           Horror,Thriller   \n",
       "3     4                     Sing   Animation,Comedy,Family   \n",
       "4     5            Suicide Squad  Action,Adventure,Fantasy   \n",
       "\n",
       "                                         Description              Director  \\\n",
       "0  A group of intergalactic criminals are forced ...            James Gunn   \n",
       "1  Following clues to the origin of mankind, a te...          Ridley Scott   \n",
       "2  Three girls are kidnapped by a man with a diag...    M. Night Shyamalan   \n",
       "3  In a city of humanoid animals, a hustling thea...  Christophe Lourdelet   \n",
       "4  A secret government agency recruits some of th...            David Ayer   \n",
       "\n",
       "                                              Actors  Year  Runtime (Minutes)  \\\n",
       "0  Chris Pratt, Vin Diesel, Bradley Cooper, Zoe S...  2014                121   \n",
       "1  Noomi Rapace, Logan Marshall-Green, Michael Fa...  2012                124   \n",
       "2  James McAvoy, Anya Taylor-Joy, Haley Lu Richar...  2016                117   \n",
       "3  Matthew McConaughey,Reese Witherspoon, Seth Ma...  2016                108   \n",
       "4  Will Smith, Jared Leto, Margot Robbie, Viola D...  2016                123   \n",
       "\n",
       "   Rating   Votes  Revenue (Millions)  Metascore  \n",
       "0     8.1  757074              333.13       76.0  \n",
       "1     7.0  485820              126.46       65.0  \n",
       "2     7.3  157606              138.12       62.0  \n",
       "3     7.2   60545              270.32       59.0  \n",
       "4     6.2  393727              325.02       40.0  "
      ]
     },
     "execution_count": 12,
     "metadata": {},
     "output_type": "execute_result"
    }
   ],
   "source": [
    "# Load a sheet into a DataFrame by name: df1\n",
    "df1 = xl.parse('IMDB-Movie-Data')\n",
    "\n",
    "df1.head()"
   ]
  },
  {
   "cell_type": "markdown",
   "metadata": {},
   "source": [
    "## Pandas read_excel\n",
    "We import the pandas module, including ExcelFile. The method read_excel() reads the data into a Pandas Data Frame, where the first parameter is the filename and the second parameter is the sheet.\n",
    "\n",
    "The list of columns will be called df.columns."
   ]
  },
  {
   "cell_type": "code",
   "execution_count": 25,
   "metadata": {},
   "outputs": [
    {
     "name": "stdout",
     "output_type": "stream",
     "text": [
      "Column headings:\n",
      "Index(['Rank', 'Title', 'Genre', 'Description', 'Director', 'Actors', 'Year',\n",
      "       'Runtime (Minutes)', 'Rating', 'Votes', 'Revenue (Millions)',\n",
      "       'Metascore'],\n",
      "      dtype='object')\n"
     ]
    }
   ],
   "source": [
    "from pandas import ExcelWriter\n",
    "from pandas import ExcelFile\n",
    " \n",
    "df = pd.read_excel('IMDB-Movie-Data.xlsx', sheet_name='IMDB-Movie-Data')\n",
    " \n",
    "print(\"Column headings:\")\n",
    "print(df.columns)"
   ]
  },
  {
   "cell_type": "markdown",
   "metadata": {},
   "source": [
    "Using the data frame, we can get all the rows below an entire column as a list. To get such a list, simply use the column header"
   ]
  },
  {
   "cell_type": "code",
   "execution_count": 18,
   "metadata": {},
   "outputs": [
    {
     "name": "stdout",
     "output_type": "stream",
     "text": [
      "0                      Guardians of the Galaxy\n",
      "1                                   Prometheus\n",
      "2                                        Split\n",
      "3                                         Sing\n",
      "4                                Suicide Squad\n",
      "5                               The Great Wall\n",
      "6                                   La La Land\n",
      "7                                     Mindhorn\n",
      "8                           The Lost City of Z\n",
      "9                                   Passengers\n",
      "10     Fantastic Beasts and Where to Find Them\n",
      "11                              Hidden Figures\n",
      "12                                   Rogue One\n",
      "13                                       Moana\n",
      "14                                    Colossal\n",
      "15                     The Secret Life of Pets\n",
      "16                               Hacksaw Ridge\n",
      "17                                Jason Bourne\n",
      "18                                        Lion\n",
      "19                                     Arrival\n",
      "20                                        Gold\n",
      "21                       Manchester by the Sea\n",
      "22                              Hounds of Love\n",
      "23                                      Trolls\n",
      "24                Independence Day: Resurgence\n",
      "25                             Paris pieds nus\n",
      "26                     Bahubali: The Beginning\n",
      "27                                  Dead Awake\n",
      "28                                    Bad Moms\n",
      "29                            Assassin's Creed\n",
      "                        ...                   \n",
      "970                          Texas Chainsaw 3D\n",
      "971                                  Disturbia\n",
      "972                               Rock of Ages\n",
      "973                                   Scream 4\n",
      "974                             Queen of Katwe\n",
      "975                 My Big Fat Greek Wedding 2\n",
      "976                                Dark Places\n",
      "977                              Amateur Night\n",
      "978             It's Only the End of the World\n",
      "979                         The Skin I Live In\n",
      "980                       Miracles from Heaven\n",
      "981                                      Annie\n",
      "982                        Across the Universe\n",
      "983                              Let's Be Cops\n",
      "984                                        Max\n",
      "985                              Your Highness\n",
      "986                        Final Destination 5\n",
      "987                               Endless Love\n",
      "988                                    Martyrs\n",
      "989                                      Selma\n",
      "990             Underworld: Rise of the Lycans\n",
      "991                           Taare Zameen Par\n",
      "992                       Take Me Home Tonight\n",
      "993                   Resident Evil: Afterlife\n",
      "994                                  Project X\n",
      "995                       Secret in Their Eyes\n",
      "996                            Hostel: Part II\n",
      "997                     Step Up 2: The Streets\n",
      "998                               Search Party\n",
      "999                                 Nine Lives\n",
      "Name: Title, Length: 1000, dtype: object\n"
     ]
    }
   ],
   "source": [
    "print(df['Title'])"
   ]
  },
  {
   "cell_type": "markdown",
   "metadata": {},
   "source": [
    "## How To Write Pandas DataFrames to Excel Files\n",
    "Let’s say that after your analysis of the data, you want to write the data back to a new file. There’s also a way to write your Pandas DataFrames back to files with the to_excel() function.\n",
    "\n",
    "But, before you use this function, make sure that you have the XlsxWriter installed if you want to write your data to multiple worksheets in an .xlsx file:\n",
    "```\n",
    "# Install `XlsxWriter` \n",
    "pip install XlsxWriter\n",
    "```"
   ]
  },
  {
   "cell_type": "code",
   "execution_count": 19,
   "metadata": {},
   "outputs": [],
   "source": [
    "# Specify a writer\n",
    "writer = pd.ExcelWriter('example.xlsx', engine='xlsxwriter')\n",
    "\n",
    "# Write your DataFrame to a file     \n",
    "df1.to_excel(writer, 'Sheet1')\n",
    "\n",
    "# Save the result \n",
    "writer.save()"
   ]
  },
  {
   "cell_type": "markdown",
   "metadata": {},
   "source": [
    "Note that in the code chunk above, you use an ExcelWriter object to output the DataFrame.\n",
    "\n",
    "Stated differently, you pass the writer variable to the to_excel() function and you also specify the sheet name. This way, you add a sheet with the data to an existing workbook: you can use the ExcelWriter to save multiple, (slightly) different DataFrames to one workbook.\n",
    "\n",
    "This all means that if you just want to save one DataFrame to a file, you can also go without installing the XlsxWriter package. Then, you just don’t specify the engine argument that you would pass to the pd.ExcelWriter() function. The rest of the steps stay the same.\n",
    "\n",
    "Similarly to the functions that you used to read in .csv files, you also have a function to_csv() to write the results back to a comma separated file. It again works much in the same way as when you used it to read in the file:\n"
   ]
  },
  {
   "cell_type": "code",
   "execution_count": 20,
   "metadata": {},
   "outputs": [],
   "source": [
    "# Write the DataFrame to csv\n",
    "df1.to_csv(\"example.csv\")"
   ]
  },
  {
   "cell_type": "markdown",
   "metadata": {},
   "source": [
    "If you want to have a tab separated file, you can also pass a \\t to the sep argument to make this clear. Note that there are various other functions that you can use to output your files. You can find all of them [here](http://pandas.pydata.org/pandas-docs/stable/api.html#id12)."
   ]
  },
  {
   "cell_type": "markdown",
   "metadata": {},
   "source": [
    "## Packages To Parse Excel Files And Write Them Back With Python\n",
    "Besides the Pandas package, which you will probably use very often to load in your data, you can also use other packages to get your data in Python. Our overview of the available packages is based on [this page](http://www.python-excel.org/), which includes a list of packages that you can use to work with Excel files in Python.\n",
    "\n",
    "In what follows, you’ll see how to use these packages with the help of some real-life but simplified examples."
   ]
  },
  {
   "cell_type": "markdown",
   "metadata": {},
   "source": [
    "## How To Read and Write Excel Files With openpyxl\n",
    "\n",
    "This package is generally recommended if you want to read and write .xlsx, xlsm, xltx, and xltm files."
   ]
  },
  {
   "cell_type": "code",
   "execution_count": 24,
   "metadata": {},
   "outputs": [
    {
     "name": "stdout",
     "output_type": "stream",
     "text": [
      "['Sheet1', 'Sheet2', 'Sheet3']\n"
     ]
    }
   ],
   "source": [
    "# Import `load_workbook` module from `openpyxl`\n",
    "from openpyxl import load_workbook\n",
    "\n",
    "# Load in the workbook\n",
    "wb = load_workbook('./test.xlsx')\n",
    "\n",
    "# Get sheet names\n",
    "print(wb.sheetnames)"
   ]
  },
  {
   "cell_type": "markdown",
   "metadata": {},
   "source": [
    "You see that the code chunk above returns the sheet names of the workbook that you loaded in Python. Next, you can use this information to also retrieve separate sheets of the workbook.\n",
    "\n",
    "You can also check which sheet is currently active with `wb.active`. As you can see in the code below, you can also use it to load in another sheet from your workbook:"
   ]
  },
  {
   "cell_type": "code",
   "execution_count": 27,
   "metadata": {},
   "outputs": [
    {
     "data": {
      "text/plain": [
       "<Worksheet \"Sheet3\">"
      ]
     },
     "execution_count": 27,
     "metadata": {},
     "output_type": "execute_result"
    }
   ],
   "source": [
    "# Get a sheet by name \n",
    "sheet = wb['Sheet3']\n",
    "\n",
    "# Print the sheet title \n",
    "sheet.title\n",
    "\n",
    "# Get currently active sheet\n",
    "anotherSheet = wb.active\n",
    "\n",
    "# Check `anotherSheet` \n",
    "anotherSheet"
   ]
  },
  {
   "cell_type": "markdown",
   "metadata": {},
   "source": [
    "You’ll see that with these `Worksheet` objects, you won’t be able to do much at first sight. However, you can retrieve values from certain cells in your workbook's sheet by using square brackets `[]`, to which you pass the exact cell from which you want to retrieve the value.\n",
    "\n",
    "Note that this seems very similar to selecting, getting and indexing NumPy arrays and Pandas DataFrames, yet this is not all that you need to do to get the value; You need to add the attribute `value`:"
   ]
  },
  {
   "cell_type": "code",
   "execution_count": 29,
   "metadata": {},
   "outputs": [
    {
     "data": {
      "text/plain": [
       "'B2'"
      ]
     },
     "execution_count": 29,
     "metadata": {},
     "output_type": "execute_result"
    }
   ],
   "source": [
    "# Retrieve the value of a certain cell\n",
    "sheet['A1'].value\n",
    "\n",
    "# Select element 'B2' of your sheet \n",
    "c = sheet['B2']\n",
    "\n",
    "# Retrieve the row number of your element\n",
    "c.row\n",
    "\n",
    "# Retrieve the column letter of your element\n",
    "c.column\n",
    "\n",
    "# Retrieve the coordinates of the cell \n",
    "c.coordinate"
   ]
  },
  {
   "cell_type": "markdown",
   "metadata": {},
   "source": [
    "As you can see that besides `value`, there are also other attributes that you can use to inspect your cell, namely `row`, `column` and `coordinate`.\n",
    "\n",
    "- The `row` attribute will give back `2`;\n",
    "- Adding the `column` attribute to `c` will give you `'B'`, and\n",
    "- The `coordinate` will give back `'B2'`.\n",
    "\n",
    "You can also retrieve cell values by using the `cell()` function. Pass the `row` and the `column` arguments and add values to these arguments that correspond to the values of the cell that you want to retrieve and, of course, don’t forget to add the attribute `value`:"
   ]
  },
  {
   "cell_type": "code",
   "execution_count": 30,
   "metadata": {},
   "outputs": [
    {
     "name": "stdout",
     "output_type": "stream",
     "text": [
      "1 N\n",
      "2 11\n",
      "3 15\n"
     ]
    }
   ],
   "source": [
    "# Retrieve cell value \n",
    "sheet.cell(row=1, column=2).value\n",
    "\n",
    "# Print out values in column 2 \n",
    "for i in range(1, 4):\n",
    "     print(i, sheet.cell(row=i, column=2).value)"
   ]
  },
  {
   "cell_type": "markdown",
   "metadata": {},
   "source": [
    "Note that if you don’t specify the attribute `value`, you’ll get back `<Cell Sheet3.B1>`, which doesn’t tell you anything about the value that is contained within that particular cell.\n",
    "\n",
    "You see that you use a for loop with the help of the `range()` function to help you to print out the values of the rows that have values in column 2. If those particular cells are empty, you’ll just get back `None`.\n",
    "\n",
    "What’s more, there are also special functions that you can call to get certain other values back, like `get_column_letter()` and `column_index_from_string`.\n",
    "\n",
    "The two functions already state more or less what you can retrieve by using them, but for clarity it’s best to make them explicit: while you can retrieve the letter of the column with the former, you can do the reverse or get the index of a column when you pass a letter to the latter. You can see how it works below:"
   ]
  },
  {
   "cell_type": "code",
   "execution_count": 31,
   "metadata": {},
   "outputs": [
    {
     "data": {
      "text/plain": [
       "1"
      ]
     },
     "execution_count": 31,
     "metadata": {},
     "output_type": "execute_result"
    }
   ],
   "source": [
    "# Import relevant modules from `openpyxl.utils`\n",
    "from openpyxl.utils import get_column_letter, column_index_from_string\n",
    "\n",
    "# Return 'A'\n",
    "get_column_letter(1)\n",
    "\n",
    "# Return '1'\n",
    "column_index_from_string('A')"
   ]
  },
  {
   "cell_type": "markdown",
   "metadata": {},
   "source": [
    "You have already retrieved values for rows that have values in a particular column, but what do you need to do if you want to print out the rows of your file, without just focusing on one single column?\n",
    "\n",
    "You use another for loop, of course!\n",
    "\n",
    "You say, for example, that you want to focus on the area that lies in between `'A1'` and `'C3'`, where the first specifies the left upper corner and the second the right bottom corner of the area on which you want to focus.\n",
    "\n",
    "This area will be the so-called `cellObj` that you see in the first line of code below. You then say that for each cell that lies in that area, you print the coordinate and the value that is contained within that cell. After the end of each row, you’ll print a message that signals that the row of that `cellObj` area has been printed."
   ]
  },
  {
   "cell_type": "code",
   "execution_count": 36,
   "metadata": {},
   "outputs": [
    {
     "name": "stdout",
     "output_type": "stream",
     "text": [
      "A1 M\n",
      "B1 N\n",
      "C1 O\n",
      "--- END ---\n",
      "A2 10\n",
      "B2 11\n",
      "C2 12\n",
      "--- END ---\n",
      "A3 14\n",
      "B3 15\n",
      "C3 16\n",
      "--- END ---\n"
     ]
    }
   ],
   "source": [
    "# Print row per row\n",
    "for cellObj in sheet['A1':'C3']:\n",
    "    for cell in cellObj:\n",
    "        print(cell.coordinate, cell.value)\n",
    "    print('--- END ---')"
   ]
  },
  {
   "cell_type": "markdown",
   "metadata": {},
   "source": [
    "Note again how the selection of the area is very similar to selecting, getting and indexing list and NumPy array elements, where you also use square brackets and a colon `:` to indicate the area of which you want to get the values. In addition, the above loop also makes good use of the cell attributes!"
   ]
  }
 ],
 "metadata": {
  "kernelspec": {
   "display_name": "Python 3",
   "language": "python",
   "name": "python3"
  },
  "language_info": {
   "codemirror_mode": {
    "name": "ipython",
    "version": 3
   },
   "file_extension": ".py",
   "mimetype": "text/x-python",
   "name": "python",
   "nbconvert_exporter": "python",
   "pygments_lexer": "ipython3",
   "version": "3.7.2"
  }
 },
 "nbformat": 4,
 "nbformat_minor": 2
}
