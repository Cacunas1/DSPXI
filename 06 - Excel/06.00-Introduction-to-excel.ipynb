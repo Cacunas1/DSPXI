{
 "cells": [
  {
   "cell_type": "code",
   "execution_count": null,
   "metadata": {},
   "outputs": [],
   "source": [
    "https://www.dataquest.io/blog/excel-and-pandas    \n",
    "\n",
    "\n",
    "https://pbpython.com/excel-pandas-comp.html\n",
    "https://medium.com/importexcel/common-excel-task-in-python-vlookup-with-pandas-merge-c99d4e108988\n",
    "\n",
    "\n",
    "https://stackoverflow.com/questions/19616205/running-an-excel-macro-via-python\n",
    "\n",
    "https://github.com/python-excel\n",
    "    \n"
   ]
  },
  {
   "cell_type": "markdown",
   "metadata": {},
   "source": [
    "![image.png](https://raw.githubusercontent.com/fjvarasc/DSPXI/master/figures/python_logo.png)"
   ]
  },
  {
   "cell_type": "markdown",
   "metadata": {},
   "source": [
    "# Using Python And Excel For Data Science"
   ]
  },
  {
   "cell_type": "markdown",
   "metadata": {},
   "source": [
    "You will probably already know that Excel is a spreadsheet application developed by Microsoft. You can use this easily accessible tool to organize, analyze and store your data in tables. What’s more, this software is widely used in many different application fields all over the world.\n",
    "\n",
    "And, whether you like it or not, this applies to data science.\n",
    "\n",
    "You’ll need to deal with these spreadsheets at some point, but you won’t always want to continue working in it either. That’s why Python developers have implemented ways to read, write and manipulate not only these files, but also many other types of files.\n",
    "\n",
    "Today’s tutorial will give you some insights into how you can work with Excel and Python. It will provide you with an overview of packages that you can use to load and write these spreadsheets to files with the help of Python. You’ll learn how to work with packages such as `pandas`, `openpyxl`, `xlrd`, `xlutils` and `pyexcel`."
   ]
  },
  {
   "cell_type": "markdown",
   "metadata": {},
   "source": [
    "## The Data As Your Starting Point\n",
    "When you’re starting a data science project, you will often work from data that you have gathered maybe from web scraping, but probably mostly from datasets that you download from other places, such as Kaggle, Quandl, etc.\n",
    "\n",
    "But more often than not, you’ll also find data on Google or on repositories that are shared by other users. This data might be in an Excel file or saved to a file with .csv extension, … The possibilities can seem endless sometimes. But whenever you have data, your first step should be to make sure that you’re working with a qualitative data.\n",
    "\n",
    "In the case of a spreadsheet, you should corroborate that it's qualitative because you might not only want to check if this data can answer the research question that you have in mind but also if you can trust the data that the spreadsheet holds."
   ]
  },
  {
   "cell_type": "markdown",
   "metadata": {},
   "source": [
    "## Check The Quality of Your Spreadsheet\n",
    "To check the overall quality of your spreadsheet, you can go over the following checklist:\n",
    "\n",
    "- Does the spreadsheet represent static data?\n",
    "- Does your spreadsheet mix data, calculation, and reporting?\n",
    "- Is the data in your spreadsheet complete and consistent?\n",
    "    - Does your spreadsheet have a systematic worksheet structure?\n",
    "    - Did you check if the live formulas in the spreadsheet are valid?\n",
    "\n",
    "This list of questions is to make sure that your spreadsheet doesn’t ‘sin’ against the best practices that are generally accepted in the industry. Of course, the above list is not exhaustive: there are many more general rules that you can follow to make sure your spreadsheet is not an ugly duckling. However, the questions that have been formulated above are most relevant for when you want to make sure if the spreadsheet is qualitative."
   ]
  },
  {
   "cell_type": "markdown",
   "metadata": {},
   "source": [
    "## Best Practices For Spreadsheet Data\n",
    "Previous to reading in your spreadsheet in Python, you also want to consider adjusting your file to meet some basic principles, such as:\n",
    "\n",
    "- The first row of the spreadsheet is usually reserved for the header, while the first column is used to identify the sampling unit;\n",
    "- Avoid names, values or fields with blank spaces. Otherwise, each word will be interpreted as a separate variable, resulting in errors that are related to the number of elements per line in your data set. Consider using:\n",
    " - Underscores,\n",
    " - Dashes,\n",
    " - Camel case, where the first letter of each section of text is capitalized, or\n",
    " - Concatenating words\n",
    "- Short names are preferred over longer names;\n",
    "- Try to avoid using names that contain symbols such as ?, `$`,`%`, `^`, `&`, `*`, `(`,`)`,`-`,`#`, `?`,`,`,`<`,`>`, `/`, `|`, `\\`, `[` ,`]` ,`{`, and `}`;\n",
    "- Delete any comments that you have made in your file to avoid extra columns or NA’s to be added to your file; and\n",
    "Make sure that any missing values in your data set are indicated with NA.\n",
    "\n",
    "Next, after you have made the necessary changes or when you have taken a thorough look at your data, make sure that you save your changes if you have made any. By doing this, you can revisit the data later to edit it, to add more data or to change them, while you preserve the formulas that you maybe used to calculate the data, etc.\n",
    "\n",
    "If you’re working with Microsoft Excel, you’ll see that there are a considerable amount of options to save your file: besides the default extension `.xls` or .`xlsx`, you can go to the “File” tab, click on “Save As” and select one of the extensions that are listed as the “Save as Type” options. The most commonly used extensions to save datasets for data science are `.csv` and `.txt` (as tab-delimited text file). Depending on the saving option that you choose, your data set’s fields are separated by tabs or commas, which will make up the “field separator characters” of your data set.\n",
    "\n",
    "Now that have checked and saves your data, you can start with the preparation of your workspace!"
   ]
  },
  {
   "cell_type": "markdown",
   "metadata": {},
   "source": [
    "# Load Excel Files As Pandas DataFrames\n",
    "One of the ways that you’ll often used to import your files when you’re working with them for data science is with the help of the Pandas package. As we saw previously, the Pandas library is built on NumPy and provides easy-to-use data structures and data analysis tools for the Python programming language.\n",
    "\n",
    "This powerful and flexible library is very frequently used by (aspiring) data scientists to get their data into data structures that are highly expressive for their analyses.\n",
    "\n",
    "If you already have Pandas available through Anaconda, you can just load your files in Pandas DataFrames with pd.Excelfile():"
   ]
  },
  {
   "cell_type": "code",
   "execution_count": 53,
   "metadata": {
    "ExecuteTime": {
     "end_time": "2019-03-24T12:15:24.785917Z",
     "start_time": "2019-03-24T12:15:23.154856Z"
    }
   },
   "outputs": [
    {
     "name": "stdout",
     "output_type": "stream",
     "text": [
      "['MainData', 'IMDB-Movie-Data']\n"
     ]
    }
   ],
   "source": [
    "# Import pandas\n",
    "import pandas as pd\n",
    "\n",
    "# Load spreadsheet\n",
    "xl = pd.ExcelFile('IMDB-Movie-Data.xlsx')\n",
    "# Print the sheet names\n",
    "print(xl.sheet_names)\n"
   ]
  },
  {
   "cell_type": "code",
   "execution_count": 54,
   "metadata": {
    "ExecuteTime": {
     "end_time": "2019-03-24T12:15:25.158155Z",
     "start_time": "2019-03-24T12:15:24.951621Z"
    }
   },
   "outputs": [
    {
     "data": {
      "text/html": [
       "<div>\n",
       "<style scoped>\n",
       "    .dataframe tbody tr th:only-of-type {\n",
       "        vertical-align: middle;\n",
       "    }\n",
       "\n",
       "    .dataframe tbody tr th {\n",
       "        vertical-align: top;\n",
       "    }\n",
       "\n",
       "    .dataframe thead th {\n",
       "        text-align: right;\n",
       "    }\n",
       "</style>\n",
       "<table border=\"1\" class=\"dataframe\">\n",
       "  <thead>\n",
       "    <tr style=\"text-align: right;\">\n",
       "      <th></th>\n",
       "      <th>Rank</th>\n",
       "      <th>Title</th>\n",
       "      <th>Genre</th>\n",
       "      <th>Description</th>\n",
       "      <th>Director</th>\n",
       "      <th>Actors</th>\n",
       "      <th>Year</th>\n",
       "      <th>Runtime (Minutes)</th>\n",
       "      <th>Rating</th>\n",
       "      <th>Votes</th>\n",
       "      <th>Revenue (Millions)</th>\n",
       "      <th>Metascore</th>\n",
       "    </tr>\n",
       "  </thead>\n",
       "  <tbody>\n",
       "    <tr>\n",
       "      <th>0</th>\n",
       "      <td>1</td>\n",
       "      <td>Guardians of the Galaxy</td>\n",
       "      <td>Action,Adventure,Sci-Fi</td>\n",
       "      <td>A group of intergalactic criminals are forced ...</td>\n",
       "      <td>James Gunn</td>\n",
       "      <td>Chris Pratt, Vin Diesel, Bradley Cooper, Zoe S...</td>\n",
       "      <td>2014</td>\n",
       "      <td>121</td>\n",
       "      <td>8.1</td>\n",
       "      <td>757074</td>\n",
       "      <td>333.13</td>\n",
       "      <td>76.0</td>\n",
       "    </tr>\n",
       "    <tr>\n",
       "      <th>1</th>\n",
       "      <td>2</td>\n",
       "      <td>Prometheus</td>\n",
       "      <td>Adventure,Mystery,Sci-Fi</td>\n",
       "      <td>Following clues to the origin of mankind, a te...</td>\n",
       "      <td>Ridley Scott</td>\n",
       "      <td>Noomi Rapace, Logan Marshall-Green, Michael Fa...</td>\n",
       "      <td>2012</td>\n",
       "      <td>124</td>\n",
       "      <td>7.0</td>\n",
       "      <td>485820</td>\n",
       "      <td>126.46</td>\n",
       "      <td>65.0</td>\n",
       "    </tr>\n",
       "    <tr>\n",
       "      <th>2</th>\n",
       "      <td>3</td>\n",
       "      <td>Split</td>\n",
       "      <td>Horror,Thriller</td>\n",
       "      <td>Three girls are kidnapped by a man with a diag...</td>\n",
       "      <td>M. Night Shyamalan</td>\n",
       "      <td>James McAvoy, Anya Taylor-Joy, Haley Lu Richar...</td>\n",
       "      <td>2016</td>\n",
       "      <td>117</td>\n",
       "      <td>7.3</td>\n",
       "      <td>157606</td>\n",
       "      <td>138.12</td>\n",
       "      <td>62.0</td>\n",
       "    </tr>\n",
       "    <tr>\n",
       "      <th>3</th>\n",
       "      <td>4</td>\n",
       "      <td>Sing</td>\n",
       "      <td>Animation,Comedy,Family</td>\n",
       "      <td>In a city of humanoid animals, a hustling thea...</td>\n",
       "      <td>Christophe Lourdelet</td>\n",
       "      <td>Matthew McConaughey,Reese Witherspoon, Seth Ma...</td>\n",
       "      <td>2016</td>\n",
       "      <td>108</td>\n",
       "      <td>7.2</td>\n",
       "      <td>60545</td>\n",
       "      <td>270.32</td>\n",
       "      <td>59.0</td>\n",
       "    </tr>\n",
       "    <tr>\n",
       "      <th>4</th>\n",
       "      <td>5</td>\n",
       "      <td>Suicide Squad</td>\n",
       "      <td>Action,Adventure,Fantasy</td>\n",
       "      <td>A secret government agency recruits some of th...</td>\n",
       "      <td>David Ayer</td>\n",
       "      <td>Will Smith, Jared Leto, Margot Robbie, Viola D...</td>\n",
       "      <td>2016</td>\n",
       "      <td>123</td>\n",
       "      <td>6.2</td>\n",
       "      <td>393727</td>\n",
       "      <td>325.02</td>\n",
       "      <td>40.0</td>\n",
       "    </tr>\n",
       "  </tbody>\n",
       "</table>\n",
       "</div>"
      ],
      "text/plain": [
       "   Rank                    Title                     Genre  \\\n",
       "0     1  Guardians of the Galaxy   Action,Adventure,Sci-Fi   \n",
       "1     2               Prometheus  Adventure,Mystery,Sci-Fi   \n",
       "2     3                    Split           Horror,Thriller   \n",
       "3     4                     Sing   Animation,Comedy,Family   \n",
       "4     5            Suicide Squad  Action,Adventure,Fantasy   \n",
       "\n",
       "                                         Description              Director  \\\n",
       "0  A group of intergalactic criminals are forced ...            James Gunn   \n",
       "1  Following clues to the origin of mankind, a te...          Ridley Scott   \n",
       "2  Three girls are kidnapped by a man with a diag...    M. Night Shyamalan   \n",
       "3  In a city of humanoid animals, a hustling thea...  Christophe Lourdelet   \n",
       "4  A secret government agency recruits some of th...            David Ayer   \n",
       "\n",
       "                                              Actors  Year  Runtime (Minutes)  \\\n",
       "0  Chris Pratt, Vin Diesel, Bradley Cooper, Zoe S...  2014                121   \n",
       "1  Noomi Rapace, Logan Marshall-Green, Michael Fa...  2012                124   \n",
       "2  James McAvoy, Anya Taylor-Joy, Haley Lu Richar...  2016                117   \n",
       "3  Matthew McConaughey,Reese Witherspoon, Seth Ma...  2016                108   \n",
       "4  Will Smith, Jared Leto, Margot Robbie, Viola D...  2016                123   \n",
       "\n",
       "   Rating   Votes  Revenue (Millions)  Metascore  \n",
       "0     8.1  757074              333.13       76.0  \n",
       "1     7.0  485820              126.46       65.0  \n",
       "2     7.3  157606              138.12       62.0  \n",
       "3     7.2   60545              270.32       59.0  \n",
       "4     6.2  393727              325.02       40.0  "
      ]
     },
     "execution_count": 54,
     "metadata": {},
     "output_type": "execute_result"
    }
   ],
   "source": [
    "# Load a sheet into a DataFrame by name: df1\n",
    "df1 = xl.parse('IMDB-Movie-Data')\n",
    "\n",
    "df1.head()"
   ]
  },
  {
   "cell_type": "markdown",
   "metadata": {},
   "source": [
    "## Pandas read_excel\n",
    "We import the pandas module, including ExcelFile. The method read_excel() reads the data into a Pandas Data Frame, where the first parameter is the filename and the second parameter is the sheet.\n",
    "\n",
    "The list of columns will be called df.columns."
   ]
  },
  {
   "cell_type": "code",
   "execution_count": 25,
   "metadata": {},
   "outputs": [
    {
     "name": "stdout",
     "output_type": "stream",
     "text": [
      "Column headings:\n",
      "Index(['Rank', 'Title', 'Genre', 'Description', 'Director', 'Actors', 'Year',\n",
      "       'Runtime (Minutes)', 'Rating', 'Votes', 'Revenue (Millions)',\n",
      "       'Metascore'],\n",
      "      dtype='object')\n"
     ]
    }
   ],
   "source": [
    "from pandas import ExcelWriter\n",
    "from pandas import ExcelFile\n",
    " \n",
    "df = pd.read_excel('IMDB-Movie-Data.xlsx', sheet_name='IMDB-Movie-Data')\n",
    " \n",
    "print(\"Column headings:\")\n",
    "print(df.columns)"
   ]
  },
  {
   "cell_type": "markdown",
   "metadata": {},
   "source": [
    "Using the data frame, we can get all the rows below an entire column as a list. To get such a list, simply use the column header"
   ]
  },
  {
   "cell_type": "code",
   "execution_count": 18,
   "metadata": {},
   "outputs": [
    {
     "name": "stdout",
     "output_type": "stream",
     "text": [
      "0                      Guardians of the Galaxy\n",
      "1                                   Prometheus\n",
      "2                                        Split\n",
      "3                                         Sing\n",
      "4                                Suicide Squad\n",
      "5                               The Great Wall\n",
      "6                                   La La Land\n",
      "7                                     Mindhorn\n",
      "8                           The Lost City of Z\n",
      "9                                   Passengers\n",
      "10     Fantastic Beasts and Where to Find Them\n",
      "11                              Hidden Figures\n",
      "12                                   Rogue One\n",
      "13                                       Moana\n",
      "14                                    Colossal\n",
      "15                     The Secret Life of Pets\n",
      "16                               Hacksaw Ridge\n",
      "17                                Jason Bourne\n",
      "18                                        Lion\n",
      "19                                     Arrival\n",
      "20                                        Gold\n",
      "21                       Manchester by the Sea\n",
      "22                              Hounds of Love\n",
      "23                                      Trolls\n",
      "24                Independence Day: Resurgence\n",
      "25                             Paris pieds nus\n",
      "26                     Bahubali: The Beginning\n",
      "27                                  Dead Awake\n",
      "28                                    Bad Moms\n",
      "29                            Assassin's Creed\n",
      "                        ...                   \n",
      "970                          Texas Chainsaw 3D\n",
      "971                                  Disturbia\n",
      "972                               Rock of Ages\n",
      "973                                   Scream 4\n",
      "974                             Queen of Katwe\n",
      "975                 My Big Fat Greek Wedding 2\n",
      "976                                Dark Places\n",
      "977                              Amateur Night\n",
      "978             It's Only the End of the World\n",
      "979                         The Skin I Live In\n",
      "980                       Miracles from Heaven\n",
      "981                                      Annie\n",
      "982                        Across the Universe\n",
      "983                              Let's Be Cops\n",
      "984                                        Max\n",
      "985                              Your Highness\n",
      "986                        Final Destination 5\n",
      "987                               Endless Love\n",
      "988                                    Martyrs\n",
      "989                                      Selma\n",
      "990             Underworld: Rise of the Lycans\n",
      "991                           Taare Zameen Par\n",
      "992                       Take Me Home Tonight\n",
      "993                   Resident Evil: Afterlife\n",
      "994                                  Project X\n",
      "995                       Secret in Their Eyes\n",
      "996                            Hostel: Part II\n",
      "997                     Step Up 2: The Streets\n",
      "998                               Search Party\n",
      "999                                 Nine Lives\n",
      "Name: Title, Length: 1000, dtype: object\n"
     ]
    }
   ],
   "source": [
    "print(df['Title'])"
   ]
  },
  {
   "cell_type": "markdown",
   "metadata": {},
   "source": [
    "## How To Write Pandas DataFrames to Excel Files\n",
    "Let’s say that after your analysis of the data, you want to write the data back to a new file. There’s also a way to write your Pandas DataFrames back to files with the to_excel() function.\n",
    "\n",
    "But, before you use this function, make sure that you have the XlsxWriter installed if you want to write your data to multiple worksheets in an .xlsx file:\n",
    "```\n",
    "# Install `XlsxWriter` \n",
    "pip install XlsxWriter\n",
    "```"
   ]
  },
  {
   "cell_type": "code",
   "execution_count": 19,
   "metadata": {},
   "outputs": [],
   "source": [
    "# Specify a writer\n",
    "writer = pd.ExcelWriter('example.xlsx', engine='xlsxwriter')\n",
    "\n",
    "# Write your DataFrame to a file     \n",
    "df1.to_excel(writer, 'Sheet1')\n",
    "\n",
    "# Save the result \n",
    "writer.save()"
   ]
  },
  {
   "cell_type": "markdown",
   "metadata": {},
   "source": [
    "Note that in the code chunk above, you use an ExcelWriter object to output the DataFrame.\n",
    "\n",
    "Stated differently, you pass the writer variable to the to_excel() function and you also specify the sheet name. This way, you add a sheet with the data to an existing workbook: you can use the ExcelWriter to save multiple, (slightly) different DataFrames to one workbook.\n",
    "\n",
    "This all means that if you just want to save one DataFrame to a file, you can also go without installing the XlsxWriter package. Then, you just don’t specify the engine argument that you would pass to the pd.ExcelWriter() function. The rest of the steps stay the same.\n",
    "\n",
    "Similarly to the functions that you used to read in .csv files, you also have a function to_csv() to write the results back to a comma separated file. It again works much in the same way as when you used it to read in the file:\n"
   ]
  },
  {
   "cell_type": "code",
   "execution_count": 20,
   "metadata": {},
   "outputs": [],
   "source": [
    "# Write the DataFrame to csv\n",
    "df1.to_csv(\"example.csv\")"
   ]
  },
  {
   "cell_type": "markdown",
   "metadata": {},
   "source": [
    "If you want to have a tab separated file, you can also pass a \\t to the sep argument to make this clear. Note that there are various other functions that you can use to output your files. You can find all of them [here](http://pandas.pydata.org/pandas-docs/stable/api.html#id12)."
   ]
  },
  {
   "cell_type": "markdown",
   "metadata": {},
   "source": [
    "# Packages To Parse Excel Files And Write Them Back With Python\n",
    "Besides the Pandas package, which you will probably use very often to load in your data, you can also use other packages to get your data in Python. Our overview of the available packages is based on [this page](http://www.python-excel.org/), which includes a list of packages that you can use to work with Excel files in Python.\n",
    "\n",
    "In what follows, you’ll see how to use these packages with the help of some real-life but simplified examples."
   ]
  },
  {
   "cell_type": "markdown",
   "metadata": {},
   "source": [
    "## How To Read and Write Excel Files With openpyxl\n",
    "\n",
    "This package is generally recommended if you want to read and write .xlsx, xlsm, xltx, and xltm files."
   ]
  },
  {
   "cell_type": "code",
   "execution_count": 1,
   "metadata": {
    "ExecuteTime": {
     "end_time": "2019-03-24T11:06:32.949321Z",
     "start_time": "2019-03-24T11:06:25.248600Z"
    }
   },
   "outputs": [
    {
     "name": "stdout",
     "output_type": "stream",
     "text": [
      "['Sheet1', 'Sheet2', 'Sheet3']\n"
     ]
    }
   ],
   "source": [
    "# Import `load_workbook` module from `openpyxl`\n",
    "from openpyxl import load_workbook\n",
    "\n",
    "# Load in the workbook\n",
    "wb = load_workbook('./test.xlsx')\n",
    "\n",
    "# Get sheet names\n",
    "print(wb.sheetnames)"
   ]
  },
  {
   "cell_type": "markdown",
   "metadata": {},
   "source": [
    "You see that the code chunk above returns the sheet names of the workbook that you loaded in Python. Next, you can use this information to also retrieve separate sheets of the workbook.\n",
    "\n",
    "You can also check which sheet is currently active with `wb.active`. As you can see in the code below, you can also use it to load in another sheet from your workbook:"
   ]
  },
  {
   "cell_type": "code",
   "execution_count": 2,
   "metadata": {
    "ExecuteTime": {
     "end_time": "2019-03-24T11:06:33.117995Z",
     "start_time": "2019-03-24T11:06:33.040376Z"
    }
   },
   "outputs": [
    {
     "data": {
      "text/plain": [
       "<Worksheet \"Sheet3\">"
      ]
     },
     "execution_count": 2,
     "metadata": {},
     "output_type": "execute_result"
    }
   ],
   "source": [
    "# Get a sheet by name \n",
    "sheet = wb['Sheet3']\n",
    "\n",
    "# Print the sheet title \n",
    "sheet.title\n",
    "\n",
    "# Get currently active sheet\n",
    "anotherSheet = wb.active\n",
    "\n",
    "# Check `anotherSheet` \n",
    "anotherSheet"
   ]
  },
  {
   "cell_type": "markdown",
   "metadata": {},
   "source": [
    "You’ll see that with these `Worksheet` objects, you won’t be able to do much at first sight. However, you can retrieve values from certain cells in your workbook's sheet by using square brackets `[]`, to which you pass the exact cell from which you want to retrieve the value.\n",
    "\n",
    "Note that this seems very similar to selecting, getting and indexing NumPy arrays and Pandas DataFrames, yet this is not all that you need to do to get the value; You need to add the attribute `value`:"
   ]
  },
  {
   "cell_type": "code",
   "execution_count": 3,
   "metadata": {
    "ExecuteTime": {
     "end_time": "2019-03-24T11:06:33.258054Z",
     "start_time": "2019-03-24T11:06:33.211333Z"
    }
   },
   "outputs": [
    {
     "data": {
      "text/plain": [
       "'B2'"
      ]
     },
     "execution_count": 3,
     "metadata": {},
     "output_type": "execute_result"
    }
   ],
   "source": [
    "# Retrieve the value of a certain cell\n",
    "sheet['A1'].value\n",
    "\n",
    "# Select element 'B2' of your sheet \n",
    "c = sheet['B2']\n",
    "\n",
    "# Retrieve the row number of your element\n",
    "c.row\n",
    "\n",
    "# Retrieve the column letter of your element\n",
    "c.column\n",
    "\n",
    "# Retrieve the coordinates of the cell \n",
    "c.coordinate"
   ]
  },
  {
   "cell_type": "markdown",
   "metadata": {},
   "source": [
    "As you can see that besides `value`, there are also other attributes that you can use to inspect your cell, namely `row`, `column` and `coordinate`.\n",
    "\n",
    "- The `row` attribute will give back `2`;\n",
    "- Adding the `column` attribute to `c` will give you `'B'`, and\n",
    "- The `coordinate` will give back `'B2'`.\n",
    "\n",
    "You can also retrieve cell values by using the `cell()` function. Pass the `row` and the `column` arguments and add values to these arguments that correspond to the values of the cell that you want to retrieve and, of course, don’t forget to add the attribute `value`:"
   ]
  },
  {
   "cell_type": "code",
   "execution_count": 4,
   "metadata": {
    "ExecuteTime": {
     "end_time": "2019-03-24T11:06:33.582986Z",
     "start_time": "2019-03-24T11:06:33.553213Z"
    }
   },
   "outputs": [
    {
     "name": "stdout",
     "output_type": "stream",
     "text": [
      "1 N\n",
      "2 11\n",
      "3 15\n"
     ]
    }
   ],
   "source": [
    "# Retrieve cell value \n",
    "sheet.cell(row=1, column=2).value\n",
    "\n",
    "# Print out values in column 2 \n",
    "for i in range(1, 4):\n",
    "     print(i, sheet.cell(row=i, column=2).value)"
   ]
  },
  {
   "cell_type": "markdown",
   "metadata": {},
   "source": [
    "Note that if you don’t specify the attribute `value`, you’ll get back `<Cell Sheet3.B1>`, which doesn’t tell you anything about the value that is contained within that particular cell.\n",
    "\n",
    "You see that you use a for loop with the help of the `range()` function to help you to print out the values of the rows that have values in column 2. If those particular cells are empty, you’ll just get back `None`.\n",
    "\n",
    "What’s more, there are also special functions that you can call to get certain other values back, like `get_column_letter()` and `column_index_from_string`.\n",
    "\n",
    "The two functions already state more or less what you can retrieve by using them, but for clarity it’s best to make them explicit: while you can retrieve the letter of the column with the former, you can do the reverse or get the index of a column when you pass a letter to the latter. You can see how it works below:"
   ]
  },
  {
   "cell_type": "code",
   "execution_count": 5,
   "metadata": {
    "ExecuteTime": {
     "end_time": "2019-03-24T11:06:36.148207Z",
     "start_time": "2019-03-24T11:06:36.087435Z"
    }
   },
   "outputs": [
    {
     "data": {
      "text/plain": [
       "1"
      ]
     },
     "execution_count": 5,
     "metadata": {},
     "output_type": "execute_result"
    }
   ],
   "source": [
    "# Import relevant modules from `openpyxl.utils`\n",
    "from openpyxl.utils import get_column_letter, column_index_from_string\n",
    "\n",
    "# Return 'A'\n",
    "get_column_letter(1)\n",
    "\n",
    "# Return '1'\n",
    "column_index_from_string('A')"
   ]
  },
  {
   "cell_type": "markdown",
   "metadata": {},
   "source": [
    "You have already retrieved values for rows that have values in a particular column, but what do you need to do if you want to print out the rows of your file, without just focusing on one single column?\n",
    "\n",
    "You use another for loop, of course!\n",
    "\n",
    "You say, for example, that you want to focus on the area that lies in between `'A1'` and `'C3'`, where the first specifies the left upper corner and the second the right bottom corner of the area on which you want to focus.\n",
    "\n",
    "This area will be the so-called `cellObj` that you see in the first line of code below. You then say that for each cell that lies in that area, you print the coordinate and the value that is contained within that cell. After the end of each row, you’ll print a message that signals that the row of that `cellObj` area has been printed."
   ]
  },
  {
   "cell_type": "code",
   "execution_count": 6,
   "metadata": {
    "ExecuteTime": {
     "end_time": "2019-03-24T11:06:38.332315Z",
     "start_time": "2019-03-24T11:06:38.261854Z"
    }
   },
   "outputs": [
    {
     "name": "stdout",
     "output_type": "stream",
     "text": [
      "A1 M\n",
      "B1 N\n",
      "C1 O\n",
      "--- END ---\n",
      "A2 10\n",
      "B2 11\n",
      "C2 12\n",
      "--- END ---\n",
      "A3 14\n",
      "B3 15\n",
      "C3 16\n",
      "--- END ---\n"
     ]
    }
   ],
   "source": [
    "# Print row per row\n",
    "for cellObj in sheet['A1':'C3']:\n",
    "    for cell in cellObj:\n",
    "        print(cell.coordinate, cell.value)\n",
    "    print('--- END ---')"
   ]
  },
  {
   "cell_type": "markdown",
   "metadata": {},
   "source": [
    "Note again how the selection of the area is very similar to selecting, getting and indexing list and NumPy array elements, where you also use square brackets and a colon `:` to indicate the area of which you want to get the values. In addition, the above loop also makes good use of the cell attributes!"
   ]
  },
  {
   "cell_type": "markdown",
   "metadata": {},
   "source": [
    "Lastly, there are some attributes that you can use to check up on the result of your import, namely `max_row` and `max_column`. These attributes are of course general ways of making sure that you loaded in the data correctly, but nonetheless they can and will be useful."
   ]
  },
  {
   "cell_type": "code",
   "execution_count": 7,
   "metadata": {
    "ExecuteTime": {
     "end_time": "2019-03-24T11:06:40.813739Z",
     "start_time": "2019-03-24T11:06:40.769825Z"
    }
   },
   "outputs": [
    {
     "data": {
      "text/plain": [
       "4"
      ]
     },
     "execution_count": 7,
     "metadata": {},
     "output_type": "execute_result"
    }
   ],
   "source": [
    "# Retrieve the maximum amount of rows \n",
    "sheet.max_row\n",
    "\n",
    "# Retrieve the maximum amount of columns\n",
    "sheet.max_column"
   ]
  },
  {
   "cell_type": "markdown",
   "metadata": {},
   "source": [
    "This is all very good, but I can almost hear you thinking now that this seems to be an awfully hard way to work with these files, especially if you want to still manipulate the data.\n",
    "`openpyxl` has support for Pandas DataFrames! You can use the `DataFrame()` function from the Pandas package to put the values of a sheet into a DataFrame:"
   ]
  },
  {
   "cell_type": "code",
   "execution_count": 8,
   "metadata": {
    "ExecuteTime": {
     "end_time": "2019-03-24T11:08:02.550962Z",
     "start_time": "2019-03-24T11:08:02.168865Z"
    }
   },
   "outputs": [],
   "source": [
    "# Import `pandas` \n",
    "import pandas as pd\n",
    "\n",
    "# Convert Sheet to DataFrame\n",
    "df = pd.DataFrame(sheet.values)"
   ]
  },
  {
   "cell_type": "markdown",
   "metadata": {},
   "source": [
    "If you want to specify headers, you need to add a little bit more code:"
   ]
  },
  {
   "cell_type": "code",
   "execution_count": 25,
   "metadata": {
    "ExecuteTime": {
     "end_time": "2019-03-24T11:16:51.744286Z",
     "start_time": "2019-03-24T11:16:51.615581Z"
    }
   },
   "outputs": [
    {
     "data": {
      "text/html": [
       "<div>\n",
       "<style scoped>\n",
       "    .dataframe tbody tr th:only-of-type {\n",
       "        vertical-align: middle;\n",
       "    }\n",
       "\n",
       "    .dataframe tbody tr th {\n",
       "        vertical-align: top;\n",
       "    }\n",
       "\n",
       "    .dataframe thead th {\n",
       "        text-align: right;\n",
       "    }\n",
       "</style>\n",
       "<table border=\"1\" class=\"dataframe\">\n",
       "  <thead>\n",
       "    <tr style=\"text-align: right;\">\n",
       "      <th></th>\n",
       "      <th>M</th>\n",
       "      <th>N</th>\n",
       "      <th>O</th>\n",
       "      <th>P</th>\n",
       "    </tr>\n",
       "  </thead>\n",
       "  <tbody>\n",
       "    <tr>\n",
       "      <th>0</th>\n",
       "      <td>10</td>\n",
       "      <td>11</td>\n",
       "      <td>12</td>\n",
       "      <td>13</td>\n",
       "    </tr>\n",
       "    <tr>\n",
       "      <th>1</th>\n",
       "      <td>14</td>\n",
       "      <td>15</td>\n",
       "      <td>16</td>\n",
       "      <td>17</td>\n",
       "    </tr>\n",
       "    <tr>\n",
       "      <th>2</th>\n",
       "      <td>18</td>\n",
       "      <td>19</td>\n",
       "      <td>20</td>\n",
       "      <td>21</td>\n",
       "    </tr>\n",
       "  </tbody>\n",
       "</table>\n",
       "</div>"
      ],
      "text/plain": [
       "    M   N   O   P\n",
       "0  10  11  12  13\n",
       "1  14  15  16  17\n",
       "2  18  19  20  21"
      ]
     },
     "execution_count": 25,
     "metadata": {},
     "output_type": "execute_result"
    }
   ],
   "source": [
    "# Put the sheet values in `data`\n",
    "data = sheet.values\n",
    "\n",
    "# Indicate the columns in the sheet values\n",
    "cols = next(data)[0:]\n",
    "\n",
    "# Convert your data to a list\n",
    "data = list(data)\n",
    "\n",
    "# Make your DataFrame\n",
    "pd.DataFrame(data, columns=cols)"
   ]
  },
  {
   "cell_type": "markdown",
   "metadata": {},
   "source": [
    "Next, you can start manipulating the data with all the functions that the Pandas package has to offer.\n",
    "To write your Pandas DataFrames back to an Excel file, you can easily use the `dataframe_to_rows()` function from the `utils` module:"
   ]
  },
  {
   "cell_type": "code",
   "execution_count": 30,
   "metadata": {
    "ExecuteTime": {
     "end_time": "2019-03-24T11:20:46.744262Z",
     "start_time": "2019-03-24T11:20:46.568786Z"
    }
   },
   "outputs": [
    {
     "data": {
      "text/plain": [
       "<Worksheet \"Sheet3\">"
      ]
     },
     "execution_count": 30,
     "metadata": {},
     "output_type": "execute_result"
    }
   ],
   "source": [
    "# Import `dataframe_to_rows`\n",
    "from openpyxl.utils.dataframe import dataframe_to_rows\n",
    "\n",
    "# Initialize a workbook \n",
    "wb = load_workbook('./test.xlsx')\n",
    "\n",
    "# Get the worksheet in the active workbook\n",
    "ws = wb.active\n",
    "\n",
    "# Append the rows of the DataFrame to your worksheet\n",
    "for r in dataframe_to_rows(df, index=True, header=True):\n",
    "    ws.append(r)"
   ]
  },
  {
   "cell_type": "markdown",
   "metadata": {},
   "source": [
    "But this is definitely not all! The `openpyxl` package offers you high flexibility on how you write your data back to Excel files, changing cell styles or using the write-only mode, which makes it one of the packages that you definitely need to know when you're often working with spreadsheets.\n",
    "Tip: read up more on how you can change cell styles, change to the write-only mode or how the package works with NumPy [here](https://openpyxl.readthedocs.io/en/stable/pandas.html).\n",
    "\n",
    "Now, let's also check out some other packages that you can use to get your spreadsheet data in Python. "
   ]
  },
  {
   "cell_type": "markdown",
   "metadata": {},
   "source": [
    "## Reading And Formatting Excel Files: xlrd\n",
    "\n",
    "This package is ideal if you want to read data and format data from files with the .xls or .xlsx extension."
   ]
  },
  {
   "cell_type": "code",
   "execution_count": 34,
   "metadata": {
    "ExecuteTime": {
     "end_time": "2019-03-24T11:26:45.549511Z",
     "start_time": "2019-03-24T11:26:42.336094Z"
    }
   },
   "outputs": [],
   "source": [
    "# Import `xlrd`\n",
    "import xlrd\n",
    "\n",
    "# Open a workbook \n",
    "workbook = xlrd.open_workbook('example.xlsx')\n",
    "\n",
    "# Loads only current sheets to memory\n",
    "workbook = xlrd.open_workbook('example.xlsx', on_demand = True)"
   ]
  },
  {
   "cell_type": "markdown",
   "metadata": {},
   "source": [
    "When you don’t want to consider the whole workbook, you might want to use functions such as `sheet_by_name()` or `sheet_by_index()` to retrieve the sheets that you do want to use in your analysis."
   ]
  },
  {
   "cell_type": "code",
   "execution_count": 38,
   "metadata": {
    "ExecuteTime": {
     "end_time": "2019-03-24T11:27:54.553127Z",
     "start_time": "2019-03-24T11:27:54.518039Z"
    }
   },
   "outputs": [
    {
     "data": {
      "text/plain": [
       "'M'"
      ]
     },
     "execution_count": 38,
     "metadata": {},
     "output_type": "execute_result"
    }
   ],
   "source": [
    "# Load a specific sheet by name\n",
    "worksheet = workbook.sheet_by_name('Sheet1')\n",
    "\n",
    "# Load a specific sheet by index \n",
    "worksheet = workbook.sheet_by_index(0)\n",
    "\n",
    "# Retrieve the value from cell at indices (0,0) \n",
    "sheet.cell(1, 1).value"
   ]
  },
  {
   "cell_type": "markdown",
   "metadata": {},
   "source": [
    "Lastly, you also see that you can retrieve the value at certain coordinates, which you express with indices, from your sheet.\n",
    "Continue to `xlwt` and `xlutils` to know more about how they relate to the [xlrd](https://xlwt.readthedocs.io/en/latest/) package!"
   ]
  },
  {
   "cell_type": "markdown",
   "metadata": {},
   "source": [
    "## Using pyexcel To Read .xls or .xlsx Files\n",
    "\n",
    "Another package that you can use to read spreadsheet data in Python is pyexcel; It’s a Python Wrapper that provides one API for reading, manipulating and writing data in .csv, .ods, .xls, .xlsx and .xlsm files. Of course, for this tutorial, you will just focus on the .xls and .xls files.\n",
    "To get your data in an array, you can use the get_array() function that is contained within the pyexcel package:\n"
   ]
  },
  {
   "cell_type": "code",
   "execution_count": 1,
   "metadata": {
    "ExecuteTime": {
     "end_time": "2019-03-24T11:41:44.010436Z",
     "start_time": "2019-03-24T11:41:43.243716Z"
    }
   },
   "outputs": [],
   "source": [
    "# Import `pyexcel`\n",
    "import pyexcel\n",
    "\n",
    "# Get an array from the data\n",
    "my_array = pyexcel.get_array(file_name=\"test.xlsx\")"
   ]
  },
  {
   "cell_type": "markdown",
   "metadata": {},
   "source": [
    "You can also get your data in an ordered dictionary of lists. You can use the get_dict() function:"
   ]
  },
  {
   "cell_type": "code",
   "execution_count": 3,
   "metadata": {
    "ExecuteTime": {
     "end_time": "2019-03-24T11:42:20.594721Z",
     "start_time": "2019-03-24T11:42:20.386973Z"
    }
   },
   "outputs": [],
   "source": [
    "# Import `OrderedDict` module \n",
    "from pyexcel._compact import OrderedDict\n",
    "\n",
    "# Get your data in an ordered dictionary of lists\n",
    "my_dict = pyexcel.get_dict(file_name=\"test.xlsx\", name_columns_by_row=0)\n",
    "\n",
    "# Get your data in a dictionary of 2D arrays\n",
    "book_dict = pyexcel.get_book_dict(file_name=\"test.xlsx\")"
   ]
  },
  {
   "cell_type": "markdown",
   "metadata": {},
   "source": [
    "However, you also see that if you want to get back a dictionary of two-dimensional arrays or, stated differently, obtain all the workbook sheets in a single dictionary, you can resort to `get_book_dict()`.\n",
    "Be aware that these two data structures that were mentioned above, the arrays and dictionaries of your spreadsheet, allow you to create DataFrames of your data with `pd.DataFrame()`. This will make it easier to handle your data!\n",
    "Lastly, you can also just retrieve the records with `pyexcel` thanks to the `get_records()` function. Just pass the argument `file_name` to the function and you should be getting back a list of dictionaries:"
   ]
  },
  {
   "cell_type": "code",
   "execution_count": 5,
   "metadata": {
    "ExecuteTime": {
     "end_time": "2019-03-24T11:44:06.680359Z",
     "start_time": "2019-03-24T11:44:06.571018Z"
    }
   },
   "outputs": [
    {
     "data": {
      "text/plain": [
       "[OrderedDict([('ID', 1), ('AGE', 22), ('SCORE', 5)]),\n",
       " OrderedDict([('ID', 2), ('AGE', 15), ('SCORE', 6)]),\n",
       " OrderedDict([('ID', 3), ('AGE', 28), ('SCORE', 9)])]"
      ]
     },
     "execution_count": 5,
     "metadata": {},
     "output_type": "execute_result"
    }
   ],
   "source": [
    "# Retrieve the records of the file\n",
    "records = pyexcel.get_records(file_name=\"test.xlsx\")\n",
    "records"
   ]
  },
  {
   "cell_type": "markdown",
   "metadata": {},
   "source": [
    "## Writing Files With pyexcel\n",
    "\n",
    "Just like it’s easy to load your data into arrays with this package, you can also easily export your arrays back to a spreadsheet. Use the `save_as()` function and pass the array and the name of the destination file to the `dest_file_name`` argument:"
   ]
  },
  {
   "cell_type": "code",
   "execution_count": 40,
   "metadata": {
    "ExecuteTime": {
     "end_time": "2019-03-24T12:06:05.149409Z",
     "start_time": "2019-03-24T12:06:03.678874Z"
    }
   },
   "outputs": [],
   "source": [
    "# Get the data\n",
    "data = [[1, 2, 3], [4, 5, 6], [7, 8, 9]]\n",
    "\n",
    "# Save the array to a file\n",
    "pyexcel.save_as(array=data, dest_file_name=\"array_data.xlsx\")"
   ]
  },
  {
   "cell_type": "markdown",
   "metadata": {},
   "source": [
    "Note that if you want to specify a delimiter, you can add the `dest_delimiter` argument and pass the symbol that you want to use as a delimiter in between `\"\"`.\n",
    "If, however, you have a dictionary, you’ll need to use the `save_book_as()` function. Pass the twodimensional dictionary to `bookdict` and specify the file name and you’re good:"
   ]
  },
  {
   "cell_type": "code",
   "execution_count": 44,
   "metadata": {
    "ExecuteTime": {
     "end_time": "2019-03-24T12:09:18.411113Z",
     "start_time": "2019-03-24T12:09:17.864064Z"
    }
   },
   "outputs": [],
   "source": [
    "# The data\n",
    "twod_array_dictionary = {'Sheet 1': [\n",
    "                                   ['ID', 'AGE', 'SCORE'],\n",
    "                                   [1, 22, 5],\n",
    "                                   [2, 15, 6],\n",
    "                                   [3, 28, 9]\n",
    "                                  ],\n",
    "                       'Sheet 2': [\n",
    "                                    ['X', 'Y', 'Z'],\n",
    "                                    [1, 2, 3],\n",
    "                                    [4, 5, 6],\n",
    "                                    [7, 8, 9]\n",
    "                                  ],\n",
    "                       'Sheet 3': [\n",
    "                                    ['M', 'N', 'O', 'P'],\n",
    "                                    [10, 11, 12, 13],\n",
    "                                    [14, 15, 16, 17],\n",
    "                                    [18, 19, 20, 21]\n",
    "                                   ]}\n",
    "\n",
    "# Save the data to a file                        \n",
    "pyexcel.save_book_as(bookdict=twod_array_dictionary, dest_file_name=\"2d_array_data.xlsx\")"
   ]
  },
  {
   "cell_type": "markdown",
   "metadata": {},
   "source": [
    "# Reading and Writing .csv files\n",
    "\n",
    "If you’re still looking for packages that allow you to load in and write data to .csv files besides Pandas, you can best use the csv package:\n"
   ]
  },
  {
   "cell_type": "code",
   "execution_count": 50,
   "metadata": {
    "ExecuteTime": {
     "end_time": "2019-03-24T12:13:40.771607Z",
     "start_time": "2019-03-24T12:13:40.721463Z"
    }
   },
   "outputs": [
    {
     "name": "stdout",
     "output_type": "stream",
     "text": [
      "['1', '2', '3']\n",
      "['4', '5', '6']\n",
      "['7', '8', '9']\n"
     ]
    }
   ],
   "source": [
    "# import `csv`\n",
    "import csv\n",
    "\n",
    "# Read in csv file \n",
    "for row in csv.reader(open('data.csv'), delimiter=';'):\n",
    "      print(row)\n",
    "    "
   ]
  },
  {
   "cell_type": "code",
   "execution_count": 51,
   "metadata": {
    "ExecuteTime": {
     "end_time": "2019-03-24T12:13:42.782320Z",
     "start_time": "2019-03-24T12:13:42.715474Z"
    }
   },
   "outputs": [],
   "source": [
    "# Write csv file\n",
    "data = [[1, 2, 3], [4, 5, 6], [7, 8, 9]]\n",
    "outfile = open('data.csv', 'w')\n",
    "writer = csv.writer(outfile, delimiter=';', quotechar='\"')\n",
    "writer.writerows(data)\n",
    "outfile.close()"
   ]
  },
  {
   "cell_type": "markdown",
   "metadata": {},
   "source": [
    "Note also that the NumPy package has a function `genfromtxt()` that allows you to load in the data that is contained within `.csv` files in arrays which you can then put in DataFrames."
   ]
  },
  {
   "cell_type": "markdown",
   "metadata": {},
   "source": [
    "# Final Check of Your Data \n",
    "\n",
    "When you have the data available, don’t forget the last step: checking whether the data has been loaded in correctly. If you have put your data in a DataFrame, you can easily and quickly check whether the import was successful by running the following commands:"
   ]
  },
  {
   "cell_type": "code",
   "execution_count": 56,
   "metadata": {
    "ExecuteTime": {
     "end_time": "2019-03-24T12:15:39.703590Z",
     "start_time": "2019-03-24T12:15:39.578816Z"
    }
   },
   "outputs": [
    {
     "data": {
      "text/html": [
       "<div>\n",
       "<style scoped>\n",
       "    .dataframe tbody tr th:only-of-type {\n",
       "        vertical-align: middle;\n",
       "    }\n",
       "\n",
       "    .dataframe tbody tr th {\n",
       "        vertical-align: top;\n",
       "    }\n",
       "\n",
       "    .dataframe thead th {\n",
       "        text-align: right;\n",
       "    }\n",
       "</style>\n",
       "<table border=\"1\" class=\"dataframe\">\n",
       "  <thead>\n",
       "    <tr style=\"text-align: right;\">\n",
       "      <th></th>\n",
       "      <th>Rank</th>\n",
       "      <th>Title</th>\n",
       "      <th>Genre</th>\n",
       "      <th>Description</th>\n",
       "      <th>Director</th>\n",
       "      <th>Actors</th>\n",
       "      <th>Year</th>\n",
       "      <th>Runtime (Minutes)</th>\n",
       "      <th>Rating</th>\n",
       "      <th>Votes</th>\n",
       "      <th>Revenue (Millions)</th>\n",
       "      <th>Metascore</th>\n",
       "    </tr>\n",
       "  </thead>\n",
       "  <tbody>\n",
       "    <tr>\n",
       "      <th>0</th>\n",
       "      <td>1</td>\n",
       "      <td>Guardians of the Galaxy</td>\n",
       "      <td>Action,Adventure,Sci-Fi</td>\n",
       "      <td>A group of intergalactic criminals are forced ...</td>\n",
       "      <td>James Gunn</td>\n",
       "      <td>Chris Pratt, Vin Diesel, Bradley Cooper, Zoe S...</td>\n",
       "      <td>2014</td>\n",
       "      <td>121</td>\n",
       "      <td>8.1</td>\n",
       "      <td>757074</td>\n",
       "      <td>333.13</td>\n",
       "      <td>76.0</td>\n",
       "    </tr>\n",
       "    <tr>\n",
       "      <th>1</th>\n",
       "      <td>2</td>\n",
       "      <td>Prometheus</td>\n",
       "      <td>Adventure,Mystery,Sci-Fi</td>\n",
       "      <td>Following clues to the origin of mankind, a te...</td>\n",
       "      <td>Ridley Scott</td>\n",
       "      <td>Noomi Rapace, Logan Marshall-Green, Michael Fa...</td>\n",
       "      <td>2012</td>\n",
       "      <td>124</td>\n",
       "      <td>7.0</td>\n",
       "      <td>485820</td>\n",
       "      <td>126.46</td>\n",
       "      <td>65.0</td>\n",
       "    </tr>\n",
       "    <tr>\n",
       "      <th>2</th>\n",
       "      <td>3</td>\n",
       "      <td>Split</td>\n",
       "      <td>Horror,Thriller</td>\n",
       "      <td>Three girls are kidnapped by a man with a diag...</td>\n",
       "      <td>M. Night Shyamalan</td>\n",
       "      <td>James McAvoy, Anya Taylor-Joy, Haley Lu Richar...</td>\n",
       "      <td>2016</td>\n",
       "      <td>117</td>\n",
       "      <td>7.3</td>\n",
       "      <td>157606</td>\n",
       "      <td>138.12</td>\n",
       "      <td>62.0</td>\n",
       "    </tr>\n",
       "    <tr>\n",
       "      <th>3</th>\n",
       "      <td>4</td>\n",
       "      <td>Sing</td>\n",
       "      <td>Animation,Comedy,Family</td>\n",
       "      <td>In a city of humanoid animals, a hustling thea...</td>\n",
       "      <td>Christophe Lourdelet</td>\n",
       "      <td>Matthew McConaughey,Reese Witherspoon, Seth Ma...</td>\n",
       "      <td>2016</td>\n",
       "      <td>108</td>\n",
       "      <td>7.2</td>\n",
       "      <td>60545</td>\n",
       "      <td>270.32</td>\n",
       "      <td>59.0</td>\n",
       "    </tr>\n",
       "    <tr>\n",
       "      <th>4</th>\n",
       "      <td>5</td>\n",
       "      <td>Suicide Squad</td>\n",
       "      <td>Action,Adventure,Fantasy</td>\n",
       "      <td>A secret government agency recruits some of th...</td>\n",
       "      <td>David Ayer</td>\n",
       "      <td>Will Smith, Jared Leto, Margot Robbie, Viola D...</td>\n",
       "      <td>2016</td>\n",
       "      <td>123</td>\n",
       "      <td>6.2</td>\n",
       "      <td>393727</td>\n",
       "      <td>325.02</td>\n",
       "      <td>40.0</td>\n",
       "    </tr>\n",
       "  </tbody>\n",
       "</table>\n",
       "</div>"
      ],
      "text/plain": [
       "   Rank                    Title                     Genre  \\\n",
       "0     1  Guardians of the Galaxy   Action,Adventure,Sci-Fi   \n",
       "1     2               Prometheus  Adventure,Mystery,Sci-Fi   \n",
       "2     3                    Split           Horror,Thriller   \n",
       "3     4                     Sing   Animation,Comedy,Family   \n",
       "4     5            Suicide Squad  Action,Adventure,Fantasy   \n",
       "\n",
       "                                         Description              Director  \\\n",
       "0  A group of intergalactic criminals are forced ...            James Gunn   \n",
       "1  Following clues to the origin of mankind, a te...          Ridley Scott   \n",
       "2  Three girls are kidnapped by a man with a diag...    M. Night Shyamalan   \n",
       "3  In a city of humanoid animals, a hustling thea...  Christophe Lourdelet   \n",
       "4  A secret government agency recruits some of th...            David Ayer   \n",
       "\n",
       "                                              Actors  Year  Runtime (Minutes)  \\\n",
       "0  Chris Pratt, Vin Diesel, Bradley Cooper, Zoe S...  2014                121   \n",
       "1  Noomi Rapace, Logan Marshall-Green, Michael Fa...  2012                124   \n",
       "2  James McAvoy, Anya Taylor-Joy, Haley Lu Richar...  2016                117   \n",
       "3  Matthew McConaughey,Reese Witherspoon, Seth Ma...  2016                108   \n",
       "4  Will Smith, Jared Leto, Margot Robbie, Viola D...  2016                123   \n",
       "\n",
       "   Rating   Votes  Revenue (Millions)  Metascore  \n",
       "0     8.1  757074              333.13       76.0  \n",
       "1     7.0  485820              126.46       65.0  \n",
       "2     7.3  157606              138.12       62.0  \n",
       "3     7.2   60545              270.32       59.0  \n",
       "4     6.2  393727              325.02       40.0  "
      ]
     },
     "execution_count": 56,
     "metadata": {},
     "output_type": "execute_result"
    }
   ],
   "source": [
    "# Check the first entries of the DataFrame\n",
    "df1.head()"
   ]
  },
  {
   "cell_type": "code",
   "execution_count": 57,
   "metadata": {
    "ExecuteTime": {
     "end_time": "2019-03-24T12:15:42.350659Z",
     "start_time": "2019-03-24T12:15:42.235562Z"
    }
   },
   "outputs": [
    {
     "data": {
      "text/html": [
       "<div>\n",
       "<style scoped>\n",
       "    .dataframe tbody tr th:only-of-type {\n",
       "        vertical-align: middle;\n",
       "    }\n",
       "\n",
       "    .dataframe tbody tr th {\n",
       "        vertical-align: top;\n",
       "    }\n",
       "\n",
       "    .dataframe thead th {\n",
       "        text-align: right;\n",
       "    }\n",
       "</style>\n",
       "<table border=\"1\" class=\"dataframe\">\n",
       "  <thead>\n",
       "    <tr style=\"text-align: right;\">\n",
       "      <th></th>\n",
       "      <th>Rank</th>\n",
       "      <th>Title</th>\n",
       "      <th>Genre</th>\n",
       "      <th>Description</th>\n",
       "      <th>Director</th>\n",
       "      <th>Actors</th>\n",
       "      <th>Year</th>\n",
       "      <th>Runtime (Minutes)</th>\n",
       "      <th>Rating</th>\n",
       "      <th>Votes</th>\n",
       "      <th>Revenue (Millions)</th>\n",
       "      <th>Metascore</th>\n",
       "    </tr>\n",
       "  </thead>\n",
       "  <tbody>\n",
       "    <tr>\n",
       "      <th>995</th>\n",
       "      <td>996</td>\n",
       "      <td>Secret in Their Eyes</td>\n",
       "      <td>Crime,Drama,Mystery</td>\n",
       "      <td>A tight-knit team of rising investigators, alo...</td>\n",
       "      <td>Billy Ray</td>\n",
       "      <td>Chiwetel Ejiofor, Nicole Kidman, Julia Roberts...</td>\n",
       "      <td>2015</td>\n",
       "      <td>111</td>\n",
       "      <td>6.2</td>\n",
       "      <td>27585</td>\n",
       "      <td>NaN</td>\n",
       "      <td>45.0</td>\n",
       "    </tr>\n",
       "    <tr>\n",
       "      <th>996</th>\n",
       "      <td>997</td>\n",
       "      <td>Hostel: Part II</td>\n",
       "      <td>Horror</td>\n",
       "      <td>Three American college students studying abroa...</td>\n",
       "      <td>Eli Roth</td>\n",
       "      <td>Lauren German, Heather Matarazzo, Bijou Philli...</td>\n",
       "      <td>2007</td>\n",
       "      <td>94</td>\n",
       "      <td>5.5</td>\n",
       "      <td>73152</td>\n",
       "      <td>17.54</td>\n",
       "      <td>46.0</td>\n",
       "    </tr>\n",
       "    <tr>\n",
       "      <th>997</th>\n",
       "      <td>998</td>\n",
       "      <td>Step Up 2: The Streets</td>\n",
       "      <td>Drama,Music,Romance</td>\n",
       "      <td>Romantic sparks occur between two dance studen...</td>\n",
       "      <td>Jon M. Chu</td>\n",
       "      <td>Robert Hoffman, Briana Evigan, Cassie Ventura,...</td>\n",
       "      <td>2008</td>\n",
       "      <td>98</td>\n",
       "      <td>6.2</td>\n",
       "      <td>70699</td>\n",
       "      <td>58.01</td>\n",
       "      <td>50.0</td>\n",
       "    </tr>\n",
       "    <tr>\n",
       "      <th>998</th>\n",
       "      <td>999</td>\n",
       "      <td>Search Party</td>\n",
       "      <td>Adventure,Comedy</td>\n",
       "      <td>A pair of friends embark on a mission to reuni...</td>\n",
       "      <td>Scot Armstrong</td>\n",
       "      <td>Adam Pally, T.J. Miller, Thomas Middleditch,Sh...</td>\n",
       "      <td>2014</td>\n",
       "      <td>93</td>\n",
       "      <td>5.6</td>\n",
       "      <td>4881</td>\n",
       "      <td>NaN</td>\n",
       "      <td>22.0</td>\n",
       "    </tr>\n",
       "    <tr>\n",
       "      <th>999</th>\n",
       "      <td>1000</td>\n",
       "      <td>Nine Lives</td>\n",
       "      <td>Comedy,Family,Fantasy</td>\n",
       "      <td>A stuffy businessman finds himself trapped ins...</td>\n",
       "      <td>Barry Sonnenfeld</td>\n",
       "      <td>Kevin Spacey, Jennifer Garner, Robbie Amell,Ch...</td>\n",
       "      <td>2016</td>\n",
       "      <td>87</td>\n",
       "      <td>5.3</td>\n",
       "      <td>12435</td>\n",
       "      <td>19.64</td>\n",
       "      <td>11.0</td>\n",
       "    </tr>\n",
       "  </tbody>\n",
       "</table>\n",
       "</div>"
      ],
      "text/plain": [
       "     Rank                   Title                  Genre  \\\n",
       "995   996    Secret in Their Eyes    Crime,Drama,Mystery   \n",
       "996   997         Hostel: Part II                 Horror   \n",
       "997   998  Step Up 2: The Streets    Drama,Music,Romance   \n",
       "998   999            Search Party       Adventure,Comedy   \n",
       "999  1000              Nine Lives  Comedy,Family,Fantasy   \n",
       "\n",
       "                                           Description          Director  \\\n",
       "995  A tight-knit team of rising investigators, alo...         Billy Ray   \n",
       "996  Three American college students studying abroa...          Eli Roth   \n",
       "997  Romantic sparks occur between two dance studen...        Jon M. Chu   \n",
       "998  A pair of friends embark on a mission to reuni...    Scot Armstrong   \n",
       "999  A stuffy businessman finds himself trapped ins...  Barry Sonnenfeld   \n",
       "\n",
       "                                                Actors  Year  \\\n",
       "995  Chiwetel Ejiofor, Nicole Kidman, Julia Roberts...  2015   \n",
       "996  Lauren German, Heather Matarazzo, Bijou Philli...  2007   \n",
       "997  Robert Hoffman, Briana Evigan, Cassie Ventura,...  2008   \n",
       "998  Adam Pally, T.J. Miller, Thomas Middleditch,Sh...  2014   \n",
       "999  Kevin Spacey, Jennifer Garner, Robbie Amell,Ch...  2016   \n",
       "\n",
       "     Runtime (Minutes)  Rating  Votes  Revenue (Millions)  Metascore  \n",
       "995                111     6.2  27585                 NaN       45.0  \n",
       "996                 94     5.5  73152               17.54       46.0  \n",
       "997                 98     6.2  70699               58.01       50.0  \n",
       "998                 93     5.6   4881                 NaN       22.0  \n",
       "999                 87     5.3  12435               19.64       11.0  "
      ]
     },
     "execution_count": 57,
     "metadata": {},
     "output_type": "execute_result"
    }
   ],
   "source": [
    "# Check the last entries of the DataFrame\n",
    "df1.tail()"
   ]
  },
  {
   "cell_type": "markdown",
   "metadata": {},
   "source": [
    "# Excel?, Better pandas\n",
    "Excel is one of the most popular and widely-used data tools; it’s hard to find an organization that doesn’t work with it in some way. From analysts, to sales VPs, to CEOs, various professionals use Excel for both quick stats and serious data crunching.\n",
    "\n",
    "With Excel being so pervasive, data professionals must be familiar with it. You’ll also want a tool that can easily read and write Excel files — pandas is perfect for this.\n",
    "\n",
    "Pandas has excellent methods for reading all kinds of data from Excel files. You can also export your results from pandas back to Excel, if that’s preferred by your intended audience. Pandas is great for other routine data analysis tasks, such as:\n",
    "\n",
    "- quick Exploratory Data Analysis (EDA)\n",
    "- drawing attractive plots\n",
    "- feeding data into machine learning tools like scikit-learn\n",
    "- building machine learning models on your data\n",
    "- taking cleaned and processed data to any number of data tools\n",
    "\n",
    "Pandas is better at automating data processing tasks than Excel, including processing Excel files."
   ]
  },
  {
   "cell_type": "markdown",
   "metadata": {
    "ExecuteTime": {
     "end_time": "2019-03-24T12:37:22.027774Z",
     "start_time": "2019-03-24T12:37:21.840042Z"
    }
   },
   "source": [
    "![image.png](https://raw.githubusercontent.com/fjvarasc/DSPXI/master/figures/img-panda-1.png)"
   ]
  },
  {
   "cell_type": "markdown",
   "metadata": {},
   "source": [
    "## Read data from the Excel file\n",
    "We need to first import the data from the Excel file into pandas. To do that, we start by importing the pandas module."
   ]
  },
  {
   "cell_type": "markdown",
   "metadata": {},
   "source": [
    "We then use the pandas’ read_excel method to read in data from the Excel file. The easiest way to call this method is to pass the file name. If no sheet name is specified then it will read the first sheet in the index (as shown below).\n",
    "\n",
    "The file has sheets which have the movies corresponding to a specific year 2010,2009,2008 and so on"
   ]
  },
  {
   "cell_type": "code",
   "execution_count": 75,
   "metadata": {
    "ExecuteTime": {
     "end_time": "2019-03-24T13:04:09.997634Z",
     "start_time": "2019-03-24T13:04:09.491481Z"
    }
   },
   "outputs": [],
   "source": [
    "import pandas as pd\n",
    "excel_file = 'IMDB-Movie-Data.xlsx'\n",
    "movies = pd.read_excel(excel_file)"
   ]
  },
  {
   "cell_type": "code",
   "execution_count": null,
   "metadata": {},
   "outputs": [],
   "source": []
  },
  {
   "cell_type": "markdown",
   "metadata": {},
   "source": [
    "Here, the 'read_excel' method read the data from the Excel file into a pandas DataFrame object. Pandas defaults to storing data in DataFrames. We then stored this DataFrame into a variable called 'movies'.\n",
    "\n",
    "Pandas has a built-in 'DataFrame.head()' method that we can use to easily display the first few rows of our DataFrame. If no argument is passed, it will display first five rows. If a number is passed, it will display the equal number of rows from the top."
   ]
  },
  {
   "cell_type": "code",
   "execution_count": 76,
   "metadata": {
    "ExecuteTime": {
     "end_time": "2019-03-24T13:04:12.884006Z",
     "start_time": "2019-03-24T13:04:12.792945Z"
    }
   },
   "outputs": [
    {
     "data": {
      "text/html": [
       "<div>\n",
       "<style scoped>\n",
       "    .dataframe tbody tr th:only-of-type {\n",
       "        vertical-align: middle;\n",
       "    }\n",
       "\n",
       "    .dataframe tbody tr th {\n",
       "        vertical-align: top;\n",
       "    }\n",
       "\n",
       "    .dataframe thead th {\n",
       "        text-align: right;\n",
       "    }\n",
       "</style>\n",
       "<table border=\"1\" class=\"dataframe\">\n",
       "  <thead>\n",
       "    <tr style=\"text-align: right;\">\n",
       "      <th></th>\n",
       "      <th>Rank</th>\n",
       "      <th>Title</th>\n",
       "      <th>Genre</th>\n",
       "      <th>Description</th>\n",
       "      <th>Director</th>\n",
       "      <th>Actors</th>\n",
       "      <th>Year</th>\n",
       "      <th>Runtime (Minutes)</th>\n",
       "      <th>Rating</th>\n",
       "      <th>Votes</th>\n",
       "      <th>Revenue (Millions)</th>\n",
       "      <th>Metascore</th>\n",
       "    </tr>\n",
       "  </thead>\n",
       "  <tbody>\n",
       "    <tr>\n",
       "      <th>0</th>\n",
       "      <td>81</td>\n",
       "      <td>Inception</td>\n",
       "      <td>Action,Adventure,Sci-Fi</td>\n",
       "      <td>A thief, who steals corporate secrets through ...</td>\n",
       "      <td>Christopher Nolan</td>\n",
       "      <td>Leonardo DiCaprio, Joseph Gordon-Levitt, Ellen...</td>\n",
       "      <td>2010</td>\n",
       "      <td>148</td>\n",
       "      <td>8.8</td>\n",
       "      <td>1583625</td>\n",
       "      <td>292.57</td>\n",
       "      <td>74.0</td>\n",
       "    </tr>\n",
       "    <tr>\n",
       "      <th>1</th>\n",
       "      <td>139</td>\n",
       "      <td>Shutter Island</td>\n",
       "      <td>Mystery,Thriller</td>\n",
       "      <td>In 1954, a U.S. marshal investigates the disap...</td>\n",
       "      <td>Martin Scorsese</td>\n",
       "      <td>Leonardo DiCaprio, Emily Mortimer, Mark Ruffal...</td>\n",
       "      <td>2010</td>\n",
       "      <td>138</td>\n",
       "      <td>8.1</td>\n",
       "      <td>855604</td>\n",
       "      <td>127.97</td>\n",
       "      <td>63.0</td>\n",
       "    </tr>\n",
       "    <tr>\n",
       "      <th>2</th>\n",
       "      <td>142</td>\n",
       "      <td>Diary of a Wimpy Kid</td>\n",
       "      <td>Comedy,Family</td>\n",
       "      <td>The adventures of a teenager who is fresh out ...</td>\n",
       "      <td>Thor Freudenthal</td>\n",
       "      <td>Zachary Gordon, Robert Capron, Rachael Harris,...</td>\n",
       "      <td>2010</td>\n",
       "      <td>94</td>\n",
       "      <td>6.2</td>\n",
       "      <td>34184</td>\n",
       "      <td>64.00</td>\n",
       "      <td>56.0</td>\n",
       "    </tr>\n",
       "    <tr>\n",
       "      <th>3</th>\n",
       "      <td>159</td>\n",
       "      <td>Scott Pilgrim vs. the World</td>\n",
       "      <td>Action,Comedy,Fantasy</td>\n",
       "      <td>Scott Pilgrim must defeat his new girlfriend's...</td>\n",
       "      <td>Edgar Wright</td>\n",
       "      <td>Michael Cera, Mary Elizabeth Winstead, Kieran ...</td>\n",
       "      <td>2010</td>\n",
       "      <td>112</td>\n",
       "      <td>7.5</td>\n",
       "      <td>291457</td>\n",
       "      <td>31.49</td>\n",
       "      <td>69.0</td>\n",
       "    </tr>\n",
       "    <tr>\n",
       "      <th>4</th>\n",
       "      <td>220</td>\n",
       "      <td>Kick-Ass</td>\n",
       "      <td>Action,Comedy</td>\n",
       "      <td>Dave Lizewski is an unnoticed high school stud...</td>\n",
       "      <td>Matthew Vaughn</td>\n",
       "      <td>Aaron Taylor-Johnson, Nicolas Cage, Chlo√´ Gra...</td>\n",
       "      <td>2010</td>\n",
       "      <td>117</td>\n",
       "      <td>7.7</td>\n",
       "      <td>456749</td>\n",
       "      <td>48.04</td>\n",
       "      <td>66.0</td>\n",
       "    </tr>\n",
       "  </tbody>\n",
       "</table>\n",
       "</div>"
      ],
      "text/plain": [
       "   Rank                        Title                    Genre  \\\n",
       "0    81                    Inception  Action,Adventure,Sci-Fi   \n",
       "1   139               Shutter Island         Mystery,Thriller   \n",
       "2   142         Diary of a Wimpy Kid            Comedy,Family   \n",
       "3   159  Scott Pilgrim vs. the World    Action,Comedy,Fantasy   \n",
       "4   220                     Kick-Ass            Action,Comedy   \n",
       "\n",
       "                                         Description           Director  \\\n",
       "0  A thief, who steals corporate secrets through ...  Christopher Nolan   \n",
       "1  In 1954, a U.S. marshal investigates the disap...    Martin Scorsese   \n",
       "2  The adventures of a teenager who is fresh out ...   Thor Freudenthal   \n",
       "3  Scott Pilgrim must defeat his new girlfriend's...       Edgar Wright   \n",
       "4  Dave Lizewski is an unnoticed high school stud...     Matthew Vaughn   \n",
       "\n",
       "                                              Actors  Year  Runtime (Minutes)  \\\n",
       "0  Leonardo DiCaprio, Joseph Gordon-Levitt, Ellen...  2010                148   \n",
       "1  Leonardo DiCaprio, Emily Mortimer, Mark Ruffal...  2010                138   \n",
       "2  Zachary Gordon, Robert Capron, Rachael Harris,...  2010                 94   \n",
       "3  Michael Cera, Mary Elizabeth Winstead, Kieran ...  2010                112   \n",
       "4  Aaron Taylor-Johnson, Nicolas Cage, Chlo√´ Gra...  2010                117   \n",
       "\n",
       "   Rating    Votes  Revenue (Millions)  Metascore  \n",
       "0     8.8  1583625              292.57       74.0  \n",
       "1     8.1   855604              127.97       63.0  \n",
       "2     6.2    34184               64.00       56.0  \n",
       "3     7.5   291457               31.49       69.0  \n",
       "4     7.7   456749               48.04       66.0  "
      ]
     },
     "execution_count": 76,
     "metadata": {},
     "output_type": "execute_result"
    }
   ],
   "source": [
    "movies.head()"
   ]
  },
  {
   "cell_type": "markdown",
   "metadata": {},
   "source": [
    "Excel files quite often have multiple sheets and the ability to read a specific sheet or all of them is very important. To make this easy, the pandas `read_excel` method takes an argument called `sheetname` that tells pandas which sheet to read in the data from. For this, you can either use the sheet name or the sheet number. Sheet numbers start with zero. If the `sheetname` argument is not given, it defaults to zero and pandas will import the first sheet.\n",
    "\n",
    "By default, pandas will automatically assign a numeric index or row label starting with zero. You may want to leave the default index as such if your data doesn’t have a column with unique values that can serve as a better index. In case there is a column that you feel would serve as a better index, you can override the default behavior by setting 'index_col' property to a column. It takes a numeric value for setting a single column as index or a list of numeric values for creating a multi-index.\n",
    "\n",
    "In the below code, we are choosing the first column, ‘Title’, as index (index=0) by passing zero to the `index_col` argument."
   ]
  },
  {
   "cell_type": "code",
   "execution_count": 77,
   "metadata": {
    "ExecuteTime": {
     "end_time": "2019-03-24T13:04:27.769128Z",
     "start_time": "2019-03-24T13:04:27.206596Z"
    },
    "scrolled": false
   },
   "outputs": [
    {
     "data": {
      "text/html": [
       "<div>\n",
       "<style scoped>\n",
       "    .dataframe tbody tr th:only-of-type {\n",
       "        vertical-align: middle;\n",
       "    }\n",
       "\n",
       "    .dataframe tbody tr th {\n",
       "        vertical-align: top;\n",
       "    }\n",
       "\n",
       "    .dataframe thead th {\n",
       "        text-align: right;\n",
       "    }\n",
       "</style>\n",
       "<table border=\"1\" class=\"dataframe\">\n",
       "  <thead>\n",
       "    <tr style=\"text-align: right;\">\n",
       "      <th></th>\n",
       "      <th>Title</th>\n",
       "      <th>Genre</th>\n",
       "      <th>Description</th>\n",
       "      <th>Director</th>\n",
       "      <th>Actors</th>\n",
       "      <th>Year</th>\n",
       "      <th>Runtime (Minutes)</th>\n",
       "      <th>Rating</th>\n",
       "      <th>Votes</th>\n",
       "      <th>Revenue (Millions)</th>\n",
       "      <th>Metascore</th>\n",
       "    </tr>\n",
       "    <tr>\n",
       "      <th>Rank</th>\n",
       "      <th></th>\n",
       "      <th></th>\n",
       "      <th></th>\n",
       "      <th></th>\n",
       "      <th></th>\n",
       "      <th></th>\n",
       "      <th></th>\n",
       "      <th></th>\n",
       "      <th></th>\n",
       "      <th></th>\n",
       "      <th></th>\n",
       "    </tr>\n",
       "  </thead>\n",
       "  <tbody>\n",
       "    <tr>\n",
       "      <th>81</th>\n",
       "      <td>Inception</td>\n",
       "      <td>Action,Adventure,Sci-Fi</td>\n",
       "      <td>A thief, who steals corporate secrets through ...</td>\n",
       "      <td>Christopher Nolan</td>\n",
       "      <td>Leonardo DiCaprio, Joseph Gordon-Levitt, Ellen...</td>\n",
       "      <td>2010</td>\n",
       "      <td>148</td>\n",
       "      <td>8.8</td>\n",
       "      <td>1583625</td>\n",
       "      <td>292.57</td>\n",
       "      <td>74.0</td>\n",
       "    </tr>\n",
       "    <tr>\n",
       "      <th>139</th>\n",
       "      <td>Shutter Island</td>\n",
       "      <td>Mystery,Thriller</td>\n",
       "      <td>In 1954, a U.S. marshal investigates the disap...</td>\n",
       "      <td>Martin Scorsese</td>\n",
       "      <td>Leonardo DiCaprio, Emily Mortimer, Mark Ruffal...</td>\n",
       "      <td>2010</td>\n",
       "      <td>138</td>\n",
       "      <td>8.1</td>\n",
       "      <td>855604</td>\n",
       "      <td>127.97</td>\n",
       "      <td>63.0</td>\n",
       "    </tr>\n",
       "    <tr>\n",
       "      <th>142</th>\n",
       "      <td>Diary of a Wimpy Kid</td>\n",
       "      <td>Comedy,Family</td>\n",
       "      <td>The adventures of a teenager who is fresh out ...</td>\n",
       "      <td>Thor Freudenthal</td>\n",
       "      <td>Zachary Gordon, Robert Capron, Rachael Harris,...</td>\n",
       "      <td>2010</td>\n",
       "      <td>94</td>\n",
       "      <td>6.2</td>\n",
       "      <td>34184</td>\n",
       "      <td>64.00</td>\n",
       "      <td>56.0</td>\n",
       "    </tr>\n",
       "    <tr>\n",
       "      <th>159</th>\n",
       "      <td>Scott Pilgrim vs. the World</td>\n",
       "      <td>Action,Comedy,Fantasy</td>\n",
       "      <td>Scott Pilgrim must defeat his new girlfriend's...</td>\n",
       "      <td>Edgar Wright</td>\n",
       "      <td>Michael Cera, Mary Elizabeth Winstead, Kieran ...</td>\n",
       "      <td>2010</td>\n",
       "      <td>112</td>\n",
       "      <td>7.5</td>\n",
       "      <td>291457</td>\n",
       "      <td>31.49</td>\n",
       "      <td>69.0</td>\n",
       "    </tr>\n",
       "    <tr>\n",
       "      <th>220</th>\n",
       "      <td>Kick-Ass</td>\n",
       "      <td>Action,Comedy</td>\n",
       "      <td>Dave Lizewski is an unnoticed high school stud...</td>\n",
       "      <td>Matthew Vaughn</td>\n",
       "      <td>Aaron Taylor-Johnson, Nicolas Cage, Chlo√´ Gra...</td>\n",
       "      <td>2010</td>\n",
       "      <td>117</td>\n",
       "      <td>7.7</td>\n",
       "      <td>456749</td>\n",
       "      <td>48.04</td>\n",
       "      <td>66.0</td>\n",
       "    </tr>\n",
       "  </tbody>\n",
       "</table>\n",
       "</div>"
      ],
      "text/plain": [
       "                            Title                    Genre  \\\n",
       "Rank                                                         \n",
       "81                      Inception  Action,Adventure,Sci-Fi   \n",
       "139                Shutter Island         Mystery,Thriller   \n",
       "142          Diary of a Wimpy Kid            Comedy,Family   \n",
       "159   Scott Pilgrim vs. the World    Action,Comedy,Fantasy   \n",
       "220                      Kick-Ass            Action,Comedy   \n",
       "\n",
       "                                            Description           Director  \\\n",
       "Rank                                                                         \n",
       "81    A thief, who steals corporate secrets through ...  Christopher Nolan   \n",
       "139   In 1954, a U.S. marshal investigates the disap...    Martin Scorsese   \n",
       "142   The adventures of a teenager who is fresh out ...   Thor Freudenthal   \n",
       "159   Scott Pilgrim must defeat his new girlfriend's...       Edgar Wright   \n",
       "220   Dave Lizewski is an unnoticed high school stud...     Matthew Vaughn   \n",
       "\n",
       "                                                 Actors  Year  \\\n",
       "Rank                                                            \n",
       "81    Leonardo DiCaprio, Joseph Gordon-Levitt, Ellen...  2010   \n",
       "139   Leonardo DiCaprio, Emily Mortimer, Mark Ruffal...  2010   \n",
       "142   Zachary Gordon, Robert Capron, Rachael Harris,...  2010   \n",
       "159   Michael Cera, Mary Elizabeth Winstead, Kieran ...  2010   \n",
       "220   Aaron Taylor-Johnson, Nicolas Cage, Chlo√´ Gra...  2010   \n",
       "\n",
       "      Runtime (Minutes)  Rating    Votes  Revenue (Millions)  Metascore  \n",
       "Rank                                                                     \n",
       "81                  148     8.8  1583625              292.57       74.0  \n",
       "139                 138     8.1   855604              127.97       63.0  \n",
       "142                  94     6.2    34184               64.00       56.0  \n",
       "159                 112     7.5   291457               31.49       69.0  \n",
       "220                 117     7.7   456749               48.04       66.0  "
      ]
     },
     "execution_count": 77,
     "metadata": {},
     "output_type": "execute_result"
    }
   ],
   "source": [
    "movies_sheet1 = pd.read_excel(excel_file, sheet_name=0, index_col=0)\n",
    "movies_sheet1.head()"
   ]
  },
  {
   "cell_type": "markdown",
   "metadata": {},
   "source": [
    "As you noticed above, our Excel data file has three sheets. We already read the first sheet in a DataFrame above. Now, using the same syntax, we will read in rest of the two sheets too."
   ]
  },
  {
   "cell_type": "code",
   "execution_count": 78,
   "metadata": {
    "ExecuteTime": {
     "end_time": "2019-03-24T13:04:33.979267Z",
     "start_time": "2019-03-24T13:04:33.417651Z"
    }
   },
   "outputs": [
    {
     "data": {
      "text/html": [
       "<div>\n",
       "<style scoped>\n",
       "    .dataframe tbody tr th:only-of-type {\n",
       "        vertical-align: middle;\n",
       "    }\n",
       "\n",
       "    .dataframe tbody tr th {\n",
       "        vertical-align: top;\n",
       "    }\n",
       "\n",
       "    .dataframe thead th {\n",
       "        text-align: right;\n",
       "    }\n",
       "</style>\n",
       "<table border=\"1\" class=\"dataframe\">\n",
       "  <thead>\n",
       "    <tr style=\"text-align: right;\">\n",
       "      <th></th>\n",
       "      <th>Title</th>\n",
       "      <th>Genre</th>\n",
       "      <th>Description</th>\n",
       "      <th>Director</th>\n",
       "      <th>Actors</th>\n",
       "      <th>Year</th>\n",
       "      <th>Runtime (Minutes)</th>\n",
       "      <th>Rating</th>\n",
       "      <th>Votes</th>\n",
       "      <th>Revenue (Millions)</th>\n",
       "      <th>Metascore</th>\n",
       "    </tr>\n",
       "    <tr>\n",
       "      <th>Rank</th>\n",
       "      <th></th>\n",
       "      <th></th>\n",
       "      <th></th>\n",
       "      <th></th>\n",
       "      <th></th>\n",
       "      <th></th>\n",
       "      <th></th>\n",
       "      <th></th>\n",
       "      <th></th>\n",
       "      <th></th>\n",
       "      <th></th>\n",
       "    </tr>\n",
       "  </thead>\n",
       "  <tbody>\n",
       "    <tr>\n",
       "      <th>78</th>\n",
       "      <td>Inglourious Basterds</td>\n",
       "      <td>Adventure,Drama,War</td>\n",
       "      <td>In Nazi-occupied France during World War II, a...</td>\n",
       "      <td>Quentin Tarantino</td>\n",
       "      <td>Brad Pitt, Diane Kruger, Eli Roth,M√©lanie Lau...</td>\n",
       "      <td>2009</td>\n",
       "      <td>153</td>\n",
       "      <td>8.3</td>\n",
       "      <td>959065</td>\n",
       "      <td>120.52</td>\n",
       "      <td>69.0</td>\n",
       "    </tr>\n",
       "    <tr>\n",
       "      <th>88</th>\n",
       "      <td>Avatar</td>\n",
       "      <td>Action,Adventure,Fantasy</td>\n",
       "      <td>A paraplegic marine dispatched to the moon Pan...</td>\n",
       "      <td>James Cameron</td>\n",
       "      <td>Sam Worthington, Zoe Saldana, Sigourney Weaver...</td>\n",
       "      <td>2009</td>\n",
       "      <td>162</td>\n",
       "      <td>7.8</td>\n",
       "      <td>935408</td>\n",
       "      <td>760.51</td>\n",
       "      <td>83.0</td>\n",
       "    </tr>\n",
       "    <tr>\n",
       "      <th>141</th>\n",
       "      <td>Star Trek</td>\n",
       "      <td>Action,Adventure,Sci-Fi</td>\n",
       "      <td>The brash James T. Kirk tries to live up to hi...</td>\n",
       "      <td>J.J. Abrams</td>\n",
       "      <td>Chris Pine, Zachary Quinto, Simon Pegg, Leonar...</td>\n",
       "      <td>2009</td>\n",
       "      <td>127</td>\n",
       "      <td>8.0</td>\n",
       "      <td>526324</td>\n",
       "      <td>257.70</td>\n",
       "      <td>82.0</td>\n",
       "    </tr>\n",
       "    <tr>\n",
       "      <th>148</th>\n",
       "      <td>Watchmen</td>\n",
       "      <td>Action,Drama,Mystery</td>\n",
       "      <td>In 1985 where former superheroes exist, the mu...</td>\n",
       "      <td>Zack Snyder</td>\n",
       "      <td>Jackie Earle Haley, Patrick Wilson, Carla Gugi...</td>\n",
       "      <td>2009</td>\n",
       "      <td>162</td>\n",
       "      <td>7.6</td>\n",
       "      <td>410249</td>\n",
       "      <td>107.50</td>\n",
       "      <td>56.0</td>\n",
       "    </tr>\n",
       "    <tr>\n",
       "      <th>252</th>\n",
       "      <td>Kynodontas</td>\n",
       "      <td>Drama,Thriller</td>\n",
       "      <td>Three teenagers live isolated, without leaving...</td>\n",
       "      <td>Yorgos Lanthimos</td>\n",
       "      <td>Christos Stergioglou, Michele Valley, Angeliki...</td>\n",
       "      <td>2009</td>\n",
       "      <td>94</td>\n",
       "      <td>7.3</td>\n",
       "      <td>50946</td>\n",
       "      <td>0.11</td>\n",
       "      <td>73.0</td>\n",
       "    </tr>\n",
       "  </tbody>\n",
       "</table>\n",
       "</div>"
      ],
      "text/plain": [
       "                     Title                     Genre  \\\n",
       "Rank                                                   \n",
       "78    Inglourious Basterds       Adventure,Drama,War   \n",
       "88                  Avatar  Action,Adventure,Fantasy   \n",
       "141              Star Trek   Action,Adventure,Sci-Fi   \n",
       "148               Watchmen      Action,Drama,Mystery   \n",
       "252             Kynodontas            Drama,Thriller   \n",
       "\n",
       "                                            Description           Director  \\\n",
       "Rank                                                                         \n",
       "78    In Nazi-occupied France during World War II, a...  Quentin Tarantino   \n",
       "88    A paraplegic marine dispatched to the moon Pan...      James Cameron   \n",
       "141   The brash James T. Kirk tries to live up to hi...        J.J. Abrams   \n",
       "148   In 1985 where former superheroes exist, the mu...        Zack Snyder   \n",
       "252   Three teenagers live isolated, without leaving...   Yorgos Lanthimos   \n",
       "\n",
       "                                                 Actors  Year  \\\n",
       "Rank                                                            \n",
       "78    Brad Pitt, Diane Kruger, Eli Roth,M√©lanie Lau...  2009   \n",
       "88    Sam Worthington, Zoe Saldana, Sigourney Weaver...  2009   \n",
       "141   Chris Pine, Zachary Quinto, Simon Pegg, Leonar...  2009   \n",
       "148   Jackie Earle Haley, Patrick Wilson, Carla Gugi...  2009   \n",
       "252   Christos Stergioglou, Michele Valley, Angeliki...  2009   \n",
       "\n",
       "      Runtime (Minutes)  Rating   Votes  Revenue (Millions)  Metascore  \n",
       "Rank                                                                    \n",
       "78                  153     8.3  959065              120.52       69.0  \n",
       "88                  162     7.8  935408              760.51       83.0  \n",
       "141                 127     8.0  526324              257.70       82.0  \n",
       "148                 162     7.6  410249              107.50       56.0  \n",
       "252                  94     7.3   50946                0.11       73.0  "
      ]
     },
     "execution_count": 78,
     "metadata": {},
     "output_type": "execute_result"
    }
   ],
   "source": [
    "movies_sheet2 = pd.read_excel(excel_file, sheet_name=1, index_col=0)\n",
    "movies_sheet2.head()"
   ]
  },
  {
   "cell_type": "code",
   "execution_count": 79,
   "metadata": {
    "ExecuteTime": {
     "end_time": "2019-03-24T13:04:38.725225Z",
     "start_time": "2019-03-24T13:04:38.103788Z"
    }
   },
   "outputs": [
    {
     "data": {
      "text/html": [
       "<div>\n",
       "<style scoped>\n",
       "    .dataframe tbody tr th:only-of-type {\n",
       "        vertical-align: middle;\n",
       "    }\n",
       "\n",
       "    .dataframe tbody tr th {\n",
       "        vertical-align: top;\n",
       "    }\n",
       "\n",
       "    .dataframe thead th {\n",
       "        text-align: right;\n",
       "    }\n",
       "</style>\n",
       "<table border=\"1\" class=\"dataframe\">\n",
       "  <thead>\n",
       "    <tr style=\"text-align: right;\">\n",
       "      <th></th>\n",
       "      <th>Title</th>\n",
       "      <th>Genre</th>\n",
       "      <th>Description</th>\n",
       "      <th>Director</th>\n",
       "      <th>Actors</th>\n",
       "      <th>Year</th>\n",
       "      <th>Runtime (Minutes)</th>\n",
       "      <th>Rating</th>\n",
       "      <th>Votes</th>\n",
       "      <th>Revenue (Millions)</th>\n",
       "      <th>Metascore</th>\n",
       "    </tr>\n",
       "    <tr>\n",
       "      <th>Rank</th>\n",
       "      <th></th>\n",
       "      <th></th>\n",
       "      <th></th>\n",
       "      <th></th>\n",
       "      <th></th>\n",
       "      <th></th>\n",
       "      <th></th>\n",
       "      <th></th>\n",
       "      <th></th>\n",
       "      <th></th>\n",
       "      <th></th>\n",
       "    </tr>\n",
       "  </thead>\n",
       "  <tbody>\n",
       "    <tr>\n",
       "      <th>55</th>\n",
       "      <td>The Dark Knight</td>\n",
       "      <td>Action,Crime,Drama</td>\n",
       "      <td>When the menace known as the Joker wreaks havo...</td>\n",
       "      <td>Christopher Nolan</td>\n",
       "      <td>Christian Bale, Heath Ledger, Aaron Eckhart,Mi...</td>\n",
       "      <td>2008</td>\n",
       "      <td>152</td>\n",
       "      <td>9.0</td>\n",
       "      <td>1791916</td>\n",
       "      <td>533.32</td>\n",
       "      <td>82.0</td>\n",
       "    </tr>\n",
       "    <tr>\n",
       "      <th>129</th>\n",
       "      <td>Mamma Mia!</td>\n",
       "      <td>Comedy,Family,Musical</td>\n",
       "      <td>The story of a bride-to-be trying to find her ...</td>\n",
       "      <td>Phyllida Lloyd</td>\n",
       "      <td>Meryl Streep, Pierce Brosnan, Amanda Seyfried,...</td>\n",
       "      <td>2008</td>\n",
       "      <td>108</td>\n",
       "      <td>6.4</td>\n",
       "      <td>153481</td>\n",
       "      <td>143.70</td>\n",
       "      <td>51.0</td>\n",
       "    </tr>\n",
       "    <tr>\n",
       "      <th>166</th>\n",
       "      <td>Twilight</td>\n",
       "      <td>Drama,Fantasy,Romance</td>\n",
       "      <td>A teenage girl risks everything when she falls...</td>\n",
       "      <td>Catherine Hardwicke</td>\n",
       "      <td>Kristen Stewart, Robert Pattinson, Billy Burke...</td>\n",
       "      <td>2008</td>\n",
       "      <td>122</td>\n",
       "      <td>5.2</td>\n",
       "      <td>361449</td>\n",
       "      <td>191.45</td>\n",
       "      <td>56.0</td>\n",
       "    </tr>\n",
       "    <tr>\n",
       "      <th>178</th>\n",
       "      <td>Tropic Thunder</td>\n",
       "      <td>Action,Comedy</td>\n",
       "      <td>Through a series of freak occurrences, a group...</td>\n",
       "      <td>Ben Stiller</td>\n",
       "      <td>Ben Stiller, Jack Black, Robert Downey Jr., Je...</td>\n",
       "      <td>2008</td>\n",
       "      <td>107</td>\n",
       "      <td>7.0</td>\n",
       "      <td>321442</td>\n",
       "      <td>110.42</td>\n",
       "      <td>71.0</td>\n",
       "    </tr>\n",
       "    <tr>\n",
       "      <th>204</th>\n",
       "      <td>Iron Man</td>\n",
       "      <td>Action,Adventure,Sci-Fi</td>\n",
       "      <td>After being held captive in an Afghan cave, bi...</td>\n",
       "      <td>Jon Favreau</td>\n",
       "      <td>Robert Downey Jr., Gwyneth Paltrow, Terrence H...</td>\n",
       "      <td>2008</td>\n",
       "      <td>126</td>\n",
       "      <td>7.9</td>\n",
       "      <td>737719</td>\n",
       "      <td>318.30</td>\n",
       "      <td>79.0</td>\n",
       "    </tr>\n",
       "  </tbody>\n",
       "</table>\n",
       "</div>"
      ],
      "text/plain": [
       "                Title                    Genre  \\\n",
       "Rank                                             \n",
       "55    The Dark Knight       Action,Crime,Drama   \n",
       "129        Mamma Mia!    Comedy,Family,Musical   \n",
       "166          Twilight    Drama,Fantasy,Romance   \n",
       "178    Tropic Thunder            Action,Comedy   \n",
       "204          Iron Man  Action,Adventure,Sci-Fi   \n",
       "\n",
       "                                            Description             Director  \\\n",
       "Rank                                                                           \n",
       "55    When the menace known as the Joker wreaks havo...    Christopher Nolan   \n",
       "129   The story of a bride-to-be trying to find her ...       Phyllida Lloyd   \n",
       "166   A teenage girl risks everything when she falls...  Catherine Hardwicke   \n",
       "178   Through a series of freak occurrences, a group...          Ben Stiller   \n",
       "204   After being held captive in an Afghan cave, bi...          Jon Favreau   \n",
       "\n",
       "                                                 Actors  Year  \\\n",
       "Rank                                                            \n",
       "55    Christian Bale, Heath Ledger, Aaron Eckhart,Mi...  2008   \n",
       "129   Meryl Streep, Pierce Brosnan, Amanda Seyfried,...  2008   \n",
       "166   Kristen Stewart, Robert Pattinson, Billy Burke...  2008   \n",
       "178   Ben Stiller, Jack Black, Robert Downey Jr., Je...  2008   \n",
       "204   Robert Downey Jr., Gwyneth Paltrow, Terrence H...  2008   \n",
       "\n",
       "      Runtime (Minutes)  Rating    Votes  Revenue (Millions)  Metascore  \n",
       "Rank                                                                     \n",
       "55                  152     9.0  1791916              533.32       82.0  \n",
       "129                 108     6.4   153481              143.70       51.0  \n",
       "166                 122     5.2   361449              191.45       56.0  \n",
       "178                 107     7.0   321442              110.42       71.0  \n",
       "204                 126     7.9   737719              318.30       79.0  "
      ]
     },
     "execution_count": 79,
     "metadata": {},
     "output_type": "execute_result"
    }
   ],
   "source": [
    "movies_sheet3 = pd.read_excel(excel_file, sheet_name=2, index_col=0)\n",
    "movies_sheet3.head()"
   ]
  },
  {
   "cell_type": "markdown",
   "metadata": {},
   "source": [
    "Since all the three sheets have similar data but for different recordsmovies, we will create a single DataFrame from all the three DataFrames we created above. We will use the pandas `concat` method for this and pass in the names of the three DataFrames we just created and assign the results to a new DataFrame object, `movies`. By keeping the DataFrame name same as before, we are over-writing the previously created DataFrame."
   ]
  },
  {
   "cell_type": "code",
   "execution_count": 80,
   "metadata": {
    "ExecuteTime": {
     "end_time": "2019-03-24T13:04:41.882790Z",
     "start_time": "2019-03-24T13:04:41.843652Z"
    }
   },
   "outputs": [],
   "source": [
    "movies = pd.concat([movies_sheet1, movies_sheet2, movies_sheet3])"
   ]
  },
  {
   "cell_type": "markdown",
   "metadata": {},
   "source": [
    "We can check if this concatenation by checking the number of rows in the combined DataFrame by calling the method `shape` on it that will give us the number of rows and columns."
   ]
  },
  {
   "cell_type": "code",
   "execution_count": 81,
   "metadata": {
    "ExecuteTime": {
     "end_time": "2019-03-24T13:04:45.222415Z",
     "start_time": "2019-03-24T13:04:45.200046Z"
    }
   },
   "outputs": [
    {
     "data": {
      "text/plain": [
       "(163, 11)"
      ]
     },
     "execution_count": 81,
     "metadata": {},
     "output_type": "execute_result"
    }
   ],
   "source": [
    "movies.shape"
   ]
  },
  {
   "cell_type": "markdown",
   "metadata": {},
   "source": [
    "## Using the ExcelFile class to read multiple sheets\n",
    "We can also use the ExcelFile class to work with multiple sheets from the same Excel file. We first wrap the Excel file using `ExcelFile` and then pass it to `read_excel` method."
   ]
  },
  {
   "cell_type": "code",
   "execution_count": 82,
   "metadata": {
    "ExecuteTime": {
     "end_time": "2019-03-24T13:06:03.643907Z",
     "start_time": "2019-03-24T13:06:02.967075Z"
    }
   },
   "outputs": [],
   "source": [
    "xlsx = pd.ExcelFile(excel_file)\n",
    "movies_sheets = []\n",
    "for sheet in xlsx.sheet_names:\n",
    "    movies_sheets.append(xlsx.parse(sheet))\n",
    "movies = pd.concat(movies_sheets)"
   ]
  },
  {
   "cell_type": "markdown",
   "metadata": {},
   "source": [
    "If you are reading an Excel file with a lot of sheets and are creating a lot of DataFrames, `ExcelFile` is more convenient and efficient in comparison to `read_excel`. \n",
    "With ExcelFile, you only need to pass the Excel file once, and then you can use it to get the DataFrames. When using `read_excel`, you pass the Excel file every time and hence the file is loaded again for every sheet. This can be a huge performance drag if the Excel file has many sheets with a large number of rows."
   ]
  },
  {
   "cell_type": "markdown",
   "metadata": {
    "ExecuteTime": {
     "end_time": "2019-03-24T13:07:41.035238Z",
     "start_time": "2019-03-24T13:07:40.960364Z"
    }
   },
   "source": [
    "### Exploring the data\n",
    "Now that we have read in the movies data set from our Excel file, we can start exploring it using pandas. A pandas DataFrame stores the data in a tabular format, just like the way Excel displays the data in a sheet. Pandas has a lot of built-in methods to explore the DataFrame we created from the Excel file we just read in.\n",
    "\n",
    "We already introduced the method `head` in the previous section that displays few rows from the top from the DataFrame. Let’s look at few more methods that come in handy while exploring the data set.\n",
    "\n",
    "We can use the `shape` method to find out the number of rows and columns for the DataFrame."
   ]
  },
  {
   "cell_type": "code",
   "execution_count": 84,
   "metadata": {
    "ExecuteTime": {
     "end_time": "2019-03-24T13:08:46.527890Z",
     "start_time": "2019-03-24T13:08:46.497045Z"
    }
   },
   "outputs": [
    {
     "data": {
      "text/plain": [
       "(260, 12)"
      ]
     },
     "execution_count": 84,
     "metadata": {},
     "output_type": "execute_result"
    }
   ],
   "source": [
    "movies.shape"
   ]
  },
  {
   "cell_type": "markdown",
   "metadata": {},
   "source": [
    "This tells us our Excel file has 260 records and 12 columns or observations. This can be useful in reporting the number of records and columns and comparing that with the source data set.\n",
    "\n",
    "We can use the `tail` method to view the bottom rows. If no parameter is passed, only the bottom five rows are returned."
   ]
  },
  {
   "cell_type": "code",
   "execution_count": 85,
   "metadata": {
    "ExecuteTime": {
     "end_time": "2019-03-24T13:09:36.049597Z",
     "start_time": "2019-03-24T13:09:35.895900Z"
    }
   },
   "outputs": [
    {
     "data": {
      "text/html": [
       "<div>\n",
       "<style scoped>\n",
       "    .dataframe tbody tr th:only-of-type {\n",
       "        vertical-align: middle;\n",
       "    }\n",
       "\n",
       "    .dataframe tbody tr th {\n",
       "        vertical-align: top;\n",
       "    }\n",
       "\n",
       "    .dataframe thead th {\n",
       "        text-align: right;\n",
       "    }\n",
       "</style>\n",
       "<table border=\"1\" class=\"dataframe\">\n",
       "  <thead>\n",
       "    <tr style=\"text-align: right;\">\n",
       "      <th></th>\n",
       "      <th>Rank</th>\n",
       "      <th>Title</th>\n",
       "      <th>Genre</th>\n",
       "      <th>Description</th>\n",
       "      <th>Director</th>\n",
       "      <th>Actors</th>\n",
       "      <th>Year</th>\n",
       "      <th>Runtime (Minutes)</th>\n",
       "      <th>Rating</th>\n",
       "      <th>Votes</th>\n",
       "      <th>Revenue (Millions)</th>\n",
       "      <th>Metascore</th>\n",
       "    </tr>\n",
       "  </thead>\n",
       "  <tbody>\n",
       "    <tr>\n",
       "      <th>39</th>\n",
       "      <td>919</td>\n",
       "      <td>Perfume: The Story of a Murderer</td>\n",
       "      <td>Crime,Drama,Fantasy</td>\n",
       "      <td>Jean-Baptiste Grenouille, born with a superior...</td>\n",
       "      <td>Tom Tykwer</td>\n",
       "      <td>Ben Whishaw, Dustin Hoffman, Alan Rickman,Fran...</td>\n",
       "      <td>2006</td>\n",
       "      <td>147</td>\n",
       "      <td>7.5</td>\n",
       "      <td>199387</td>\n",
       "      <td>2.21</td>\n",
       "      <td>56.0</td>\n",
       "    </tr>\n",
       "    <tr>\n",
       "      <th>40</th>\n",
       "      <td>925</td>\n",
       "      <td>Superman Returns</td>\n",
       "      <td>Action,Adventure,Sci-Fi</td>\n",
       "      <td>Superman reappears after a long absence, but i...</td>\n",
       "      <td>Bryan Singer</td>\n",
       "      <td>Brandon Routh, Kevin Spacey, Kate Bosworth, Ja...</td>\n",
       "      <td>2006</td>\n",
       "      <td>154</td>\n",
       "      <td>6.1</td>\n",
       "      <td>246797</td>\n",
       "      <td>200.07</td>\n",
       "      <td>72.0</td>\n",
       "    </tr>\n",
       "    <tr>\n",
       "      <th>41</th>\n",
       "      <td>936</td>\n",
       "      <td>Talladega Nights: The Ballad of Ricky Bobby</td>\n",
       "      <td>Action,Comedy,Sport</td>\n",
       "      <td>#1 NASCAR driver Ricky Bobby stays atop the he...</td>\n",
       "      <td>Adam McKay</td>\n",
       "      <td>Will Ferrell, John C. Reilly, Sacha Baron Cohe...</td>\n",
       "      <td>2006</td>\n",
       "      <td>108</td>\n",
       "      <td>6.6</td>\n",
       "      <td>137502</td>\n",
       "      <td>148.21</td>\n",
       "      <td>66.0</td>\n",
       "    </tr>\n",
       "    <tr>\n",
       "      <th>42</th>\n",
       "      <td>960</td>\n",
       "      <td>Lucky Number Slevin</td>\n",
       "      <td>Crime,Drama,Mystery</td>\n",
       "      <td>A case of mistaken identity lands Slevin into ...</td>\n",
       "      <td>Paul McGuigan</td>\n",
       "      <td>Josh Hartnett, Ben Kingsley, Morgan Freeman, L...</td>\n",
       "      <td>2006</td>\n",
       "      <td>110</td>\n",
       "      <td>7.8</td>\n",
       "      <td>271940</td>\n",
       "      <td>22.49</td>\n",
       "      <td>53.0</td>\n",
       "    </tr>\n",
       "    <tr>\n",
       "      <th>43</th>\n",
       "      <td>966</td>\n",
       "      <td>Inland Empire</td>\n",
       "      <td>Drama,Mystery,Thriller</td>\n",
       "      <td>As an actress starts to adopt the persona of h...</td>\n",
       "      <td>David Lynch</td>\n",
       "      <td>Laura Dern, Jeremy Irons, Justin Theroux, Karo...</td>\n",
       "      <td>2006</td>\n",
       "      <td>180</td>\n",
       "      <td>7.0</td>\n",
       "      <td>44227</td>\n",
       "      <td>NaN</td>\n",
       "      <td>NaN</td>\n",
       "    </tr>\n",
       "  </tbody>\n",
       "</table>\n",
       "</div>"
      ],
      "text/plain": [
       "    Rank                                        Title  \\\n",
       "39   919             Perfume: The Story of a Murderer   \n",
       "40   925                             Superman Returns   \n",
       "41   936  Talladega Nights: The Ballad of Ricky Bobby   \n",
       "42   960                          Lucky Number Slevin   \n",
       "43   966                                Inland Empire   \n",
       "\n",
       "                      Genre  \\\n",
       "39      Crime,Drama,Fantasy   \n",
       "40  Action,Adventure,Sci-Fi   \n",
       "41      Action,Comedy,Sport   \n",
       "42      Crime,Drama,Mystery   \n",
       "43   Drama,Mystery,Thriller   \n",
       "\n",
       "                                          Description       Director  \\\n",
       "39  Jean-Baptiste Grenouille, born with a superior...     Tom Tykwer   \n",
       "40  Superman reappears after a long absence, but i...   Bryan Singer   \n",
       "41  #1 NASCAR driver Ricky Bobby stays atop the he...     Adam McKay   \n",
       "42  A case of mistaken identity lands Slevin into ...  Paul McGuigan   \n",
       "43  As an actress starts to adopt the persona of h...    David Lynch   \n",
       "\n",
       "                                               Actors  Year  \\\n",
       "39  Ben Whishaw, Dustin Hoffman, Alan Rickman,Fran...  2006   \n",
       "40  Brandon Routh, Kevin Spacey, Kate Bosworth, Ja...  2006   \n",
       "41  Will Ferrell, John C. Reilly, Sacha Baron Cohe...  2006   \n",
       "42  Josh Hartnett, Ben Kingsley, Morgan Freeman, L...  2006   \n",
       "43  Laura Dern, Jeremy Irons, Justin Theroux, Karo...  2006   \n",
       "\n",
       "    Runtime (Minutes)  Rating   Votes  Revenue (Millions)  Metascore  \n",
       "39                147     7.5  199387                2.21       56.0  \n",
       "40                154     6.1  246797              200.07       72.0  \n",
       "41                108     6.6  137502              148.21       66.0  \n",
       "42                110     7.8  271940               22.49       53.0  \n",
       "43                180     7.0   44227                 NaN        NaN  "
      ]
     },
     "execution_count": 85,
     "metadata": {},
     "output_type": "execute_result"
    }
   ],
   "source": [
    "movies.tail()"
   ]
  },
  {
   "cell_type": "markdown",
   "metadata": {},
   "source": [
    "In Excel, you’re able to sort a sheet based on the values in one or more columns. In pandas, you can do the same thing with the `sort_values method`. For example, let’s sort our movies DataFrame based on the Revenue column."
   ]
  },
  {
   "cell_type": "code",
   "execution_count": null,
   "metadata": {
    "ExecuteTime": {
     "end_time": "2019-03-24T13:11:10.125618Z",
     "start_time": "2019-03-24T13:11:10.060461Z"
    }
   },
   "outputs": [],
   "source": [
    "sorted_by_gross = movies.sort_values(['Revenue (Millions)'], ascending=False)"
   ]
  },
  {
   "cell_type": "markdown",
   "metadata": {},
   "source": [
    "Since we have the data sorted by values in a column, we can do few interesting things with it. For example, we can display the top 10 movies by Revenues."
   ]
  },
  {
   "cell_type": "code",
   "execution_count": 88,
   "metadata": {
    "ExecuteTime": {
     "end_time": "2019-03-24T13:11:10.125618Z",
     "start_time": "2019-03-24T13:11:10.060461Z"
    }
   },
   "outputs": [
    {
     "data": {
      "text/plain": [
       "1     760.51\n",
       "0     533.32\n",
       "1     423.03\n",
       "37    414.98\n",
       "32    402.08\n",
       "12    336.53\n",
       "25    334.19\n",
       "7     318.76\n",
       "4     318.30\n",
       "34    317.01\n",
       "Name: Revenue (Millions), dtype: float64"
      ]
     },
     "execution_count": 88,
     "metadata": {},
     "output_type": "execute_result"
    }
   ],
   "source": [
    "sorted_by_gross['Revenue (Millions)'].head(10)"
   ]
  },
  {
   "cell_type": "markdown",
   "metadata": {},
   "source": [
    "We can also create a plot for the top 10 movies by Revenue. As we saw in previous sections Pandas makes it easy to visualize your data with plots and charts through matplotlib, a popular data visualization library. With a couple lines of code, you can start plotting. Moreover, matplotlib plots work well inside Jupyter Notebooks since you can displace the plots right under the code.\n",
    "\n",
    "First, we import the matplotlib module and set matplotlib to display the plots right in the Jupyter Notebook.\n",
    "\n",
    "We will draw a bar plot where each bar will represent one of the top 10 movies. We can do this by calling the plot method and setting the argument kind to barh. This tells matplotlib to draw a horizontal bar plot."
   ]
  },
  {
   "cell_type": "code",
   "execution_count": 90,
   "metadata": {
    "ExecuteTime": {
     "end_time": "2019-03-24T13:14:49.447233Z",
     "start_time": "2019-03-24T13:14:48.131367Z"
    }
   },
   "outputs": [
    {
     "data": {
      "image/png": "[encoded data removed]",
      "text/plain": [
       "<Figure size 432x288 with 1 Axes>"
      ]
     },
     "metadata": {
      "needs_background": "light"
     },
     "output_type": "display_data"
    }
   ],
   "source": [
    "%matplotlib inline\n",
    "import matplotlib.pyplot as plt\n",
    "sorted_by_gross['Revenue (Millions)'].head(10).plot(kind=\"barh\")\n",
    "plt.show()"
   ]
  },
  {
   "cell_type": "markdown",
   "metadata": {},
   "source": [
    "Let’s create a histogram of IMDB Scores to check the distribution of IMDB Scores across all movies. Histograms are a good way to visualize the distribution of a data set. We use the `plot` method on the IMDB Scores series from our movies DataFrame and pass it the argument."
   ]
  },
  {
   "cell_type": "code",
   "execution_count": 92,
   "metadata": {
    "ExecuteTime": {
     "end_time": "2019-03-24T13:15:38.698022Z",
     "start_time": "2019-03-24T13:15:37.657933Z"
    },
    "scrolled": true
   },
   "outputs": [
    {
     "data": {
      "image/png": "[encoded data removed]",
      "text/plain": [
       "<Figure size 432x288 with 1 Axes>"
      ]
     },
     "metadata": {
      "needs_background": "light"
     },
     "output_type": "display_data"
    }
   ],
   "source": [
    "movies['Rating'].plot(kind=\"hist\")\n",
    "plt.show()"
   ]
  },
  {
   "cell_type": "markdown",
   "metadata": {},
   "source": [
    "This data visualization suggests that most of the IMDB Scores fall between six and eight."
   ]
  },
  {
   "cell_type": "markdown",
   "metadata": {},
   "source": [
    "## Getting statistical information about the data\n",
    "Pandas has some very handy methods to look at the statistical data about our data set. For example, we can use the `describe` method to get a statistical summary of the data set."
   ]
  },
  {
   "cell_type": "code",
   "execution_count": 93,
   "metadata": {
    "ExecuteTime": {
     "end_time": "2019-03-24T13:18:29.370970Z",
     "start_time": "2019-03-24T13:18:29.139356Z"
    }
   },
   "outputs": [
    {
     "data": {
      "text/html": [
       "<div>\n",
       "<style scoped>\n",
       "    .dataframe tbody tr th:only-of-type {\n",
       "        vertical-align: middle;\n",
       "    }\n",
       "\n",
       "    .dataframe tbody tr th {\n",
       "        vertical-align: top;\n",
       "    }\n",
       "\n",
       "    .dataframe thead th {\n",
       "        text-align: right;\n",
       "    }\n",
       "</style>\n",
       "<table border=\"1\" class=\"dataframe\">\n",
       "  <thead>\n",
       "    <tr style=\"text-align: right;\">\n",
       "      <th></th>\n",
       "      <th>Rank</th>\n",
       "      <th>Year</th>\n",
       "      <th>Runtime (Minutes)</th>\n",
       "      <th>Rating</th>\n",
       "      <th>Votes</th>\n",
       "      <th>Revenue (Millions)</th>\n",
       "      <th>Metascore</th>\n",
       "    </tr>\n",
       "  </thead>\n",
       "  <tbody>\n",
       "    <tr>\n",
       "      <th>count</th>\n",
       "      <td>260.000000</td>\n",
       "      <td>260.000000</td>\n",
       "      <td>260.000000</td>\n",
       "      <td>260.000000</td>\n",
       "      <td>2.600000e+02</td>\n",
       "      <td>246.000000</td>\n",
       "      <td>244.000000</td>\n",
       "    </tr>\n",
       "    <tr>\n",
       "      <th>mean</th>\n",
       "      <td>592.896154</td>\n",
       "      <td>2008.115385</td>\n",
       "      <td>115.830769</td>\n",
       "      <td>6.957692</td>\n",
       "      <td>2.589859e+05</td>\n",
       "      <td>98.641545</td>\n",
       "      <td>60.344262</td>\n",
       "    </tr>\n",
       "    <tr>\n",
       "      <th>std</th>\n",
       "      <td>256.899483</td>\n",
       "      <td>1.412217</td>\n",
       "      <td>19.970302</td>\n",
       "      <td>0.954394</td>\n",
       "      <td>2.210388e+05</td>\n",
       "      <td>103.489295</td>\n",
       "      <td>16.870736</td>\n",
       "    </tr>\n",
       "    <tr>\n",
       "      <th>min</th>\n",
       "      <td>40.000000</td>\n",
       "      <td>2006.000000</td>\n",
       "      <td>84.000000</td>\n",
       "      <td>1.900000</td>\n",
       "      <td>2.410000e+02</td>\n",
       "      <td>0.020000</td>\n",
       "      <td>15.000000</td>\n",
       "    </tr>\n",
       "    <tr>\n",
       "      <th>25%</th>\n",
       "      <td>416.250000</td>\n",
       "      <td>2007.000000</td>\n",
       "      <td>101.000000</td>\n",
       "      <td>6.500000</td>\n",
       "      <td>1.170815e+05</td>\n",
       "      <td>25.170000</td>\n",
       "      <td>48.750000</td>\n",
       "    </tr>\n",
       "    <tr>\n",
       "      <th>50%</th>\n",
       "      <td>611.500000</td>\n",
       "      <td>2008.000000</td>\n",
       "      <td>112.000000</td>\n",
       "      <td>7.100000</td>\n",
       "      <td>1.998800e+05</td>\n",
       "      <td>67.610000</td>\n",
       "      <td>61.500000</td>\n",
       "    </tr>\n",
       "    <tr>\n",
       "      <th>75%</th>\n",
       "      <td>815.250000</td>\n",
       "      <td>2009.000000</td>\n",
       "      <td>125.000000</td>\n",
       "      <td>7.700000</td>\n",
       "      <td>3.297092e+05</td>\n",
       "      <td>134.557500</td>\n",
       "      <td>73.000000</td>\n",
       "    </tr>\n",
       "    <tr>\n",
       "      <th>max</th>\n",
       "      <td>998.000000</td>\n",
       "      <td>2010.000000</td>\n",
       "      <td>191.000000</td>\n",
       "      <td>9.000000</td>\n",
       "      <td>1.791916e+06</td>\n",
       "      <td>760.510000</td>\n",
       "      <td>98.000000</td>\n",
       "    </tr>\n",
       "  </tbody>\n",
       "</table>\n",
       "</div>"
      ],
      "text/plain": [
       "             Rank         Year  Runtime (Minutes)      Rating         Votes  \\\n",
       "count  260.000000   260.000000         260.000000  260.000000  2.600000e+02   \n",
       "mean   592.896154  2008.115385         115.830769    6.957692  2.589859e+05   \n",
       "std    256.899483     1.412217          19.970302    0.954394  2.210388e+05   \n",
       "min     40.000000  2006.000000          84.000000    1.900000  2.410000e+02   \n",
       "25%    416.250000  2007.000000         101.000000    6.500000  1.170815e+05   \n",
       "50%    611.500000  2008.000000         112.000000    7.100000  1.998800e+05   \n",
       "75%    815.250000  2009.000000         125.000000    7.700000  3.297092e+05   \n",
       "max    998.000000  2010.000000         191.000000    9.000000  1.791916e+06   \n",
       "\n",
       "       Revenue (Millions)   Metascore  \n",
       "count          246.000000  244.000000  \n",
       "mean            98.641545   60.344262  \n",
       "std            103.489295   16.870736  \n",
       "min              0.020000   15.000000  \n",
       "25%             25.170000   48.750000  \n",
       "50%             67.610000   61.500000  \n",
       "75%            134.557500   73.000000  \n",
       "max            760.510000   98.000000  "
      ]
     },
     "execution_count": 93,
     "metadata": {},
     "output_type": "execute_result"
    }
   ],
   "source": [
    "movies.describe()"
   ]
  },
  {
   "cell_type": "markdown",
   "metadata": {},
   "source": [
    "The `describe` method displays below information for each of the columns.\n",
    "\n",
    "- the count or number of values\n",
    "- mean\n",
    "- standard deviation\n",
    "- minimum, maximum\n",
    "- 25%, 50%, and 75% quantile\n",
    "\n",
    "Please note that this information will be calculated only for the numeric values.\n",
    "\n",
    "We can also use the corresponding method to access this information one at a time. For example, to get the `mean` of a particular column, you can use the mean method on that column."
   ]
  },
  {
   "cell_type": "code",
   "execution_count": 94,
   "metadata": {
    "ExecuteTime": {
     "end_time": "2019-03-24T13:20:02.050375Z",
     "start_time": "2019-03-24T13:20:02.010226Z"
    }
   },
   "outputs": [
    {
     "data": {
      "text/plain": [
       "98.64154471544715"
      ]
     },
     "execution_count": 94,
     "metadata": {},
     "output_type": "execute_result"
    }
   ],
   "source": [
    "movies['Revenue (Millions)'].mean()"
   ]
  },
  {
   "cell_type": "markdown",
   "metadata": {},
   "source": [
    "Just like `mean`, there are methods available for each of the statistical information we want to access. You can the pandas cheat sheet."
   ]
  },
  {
   "cell_type": "markdown",
   "metadata": {},
   "source": [
    "## Reading files with no header and skipping records\n",
    "Earlier in this tutorial, we saw some ways to read a particular kind of Excel file that had headers and no rows that needed skipping. Sometimes, the Excel sheet doesn’t have any header row. For such instances, you can tell pandas not to consider the first row as header or columns names. And If the Excel sheet’s first few rows contain data that should not be read in, you can ask the `read_excel` method to skip a certain number of rows, starting from the top.\n",
    "\n",
    "This file obviously has no header and first 3 rows are not actual records and hence should not be read in. We can tell `read_excel` there is no `header` by setting argument `header` to `None` and we can skip first four rows by setting argument `skiprows` to 3."
   ]
  },
  {
   "cell_type": "code",
   "execution_count": 98,
   "metadata": {
    "ExecuteTime": {
     "end_time": "2019-03-24T13:26:00.869995Z",
     "start_time": "2019-03-24T13:26:00.296586Z"
    },
    "scrolled": false
   },
   "outputs": [
    {
     "data": {
      "text/html": [
       "<div>\n",
       "<style scoped>\n",
       "    .dataframe tbody tr th:only-of-type {\n",
       "        vertical-align: middle;\n",
       "    }\n",
       "\n",
       "    .dataframe tbody tr th {\n",
       "        vertical-align: top;\n",
       "    }\n",
       "\n",
       "    .dataframe thead th {\n",
       "        text-align: right;\n",
       "    }\n",
       "</style>\n",
       "<table border=\"1\" class=\"dataframe\">\n",
       "  <thead>\n",
       "    <tr style=\"text-align: right;\">\n",
       "      <th></th>\n",
       "      <th>0</th>\n",
       "      <th>1</th>\n",
       "      <th>2</th>\n",
       "      <th>3</th>\n",
       "      <th>4</th>\n",
       "      <th>5</th>\n",
       "      <th>6</th>\n",
       "      <th>7</th>\n",
       "      <th>8</th>\n",
       "      <th>9</th>\n",
       "      <th>10</th>\n",
       "      <th>11</th>\n",
       "    </tr>\n",
       "  </thead>\n",
       "  <tbody>\n",
       "    <tr>\n",
       "      <th>0</th>\n",
       "      <td>81</td>\n",
       "      <td>Inception</td>\n",
       "      <td>Action,Adventure,Sci-Fi</td>\n",
       "      <td>A thief, who steals corporate secrets through ...</td>\n",
       "      <td>Christopher Nolan</td>\n",
       "      <td>Leonardo DiCaprio, Joseph Gordon-Levitt, Ellen...</td>\n",
       "      <td>2010</td>\n",
       "      <td>148</td>\n",
       "      <td>8.8</td>\n",
       "      <td>1583625</td>\n",
       "      <td>292.57</td>\n",
       "      <td>74.0</td>\n",
       "    </tr>\n",
       "    <tr>\n",
       "      <th>1</th>\n",
       "      <td>139</td>\n",
       "      <td>Shutter Island</td>\n",
       "      <td>Mystery,Thriller</td>\n",
       "      <td>In 1954, a U.S. marshal investigates the disap...</td>\n",
       "      <td>Martin Scorsese</td>\n",
       "      <td>Leonardo DiCaprio, Emily Mortimer, Mark Ruffal...</td>\n",
       "      <td>2010</td>\n",
       "      <td>138</td>\n",
       "      <td>8.1</td>\n",
       "      <td>855604</td>\n",
       "      <td>127.97</td>\n",
       "      <td>63.0</td>\n",
       "    </tr>\n",
       "    <tr>\n",
       "      <th>2</th>\n",
       "      <td>142</td>\n",
       "      <td>Diary of a Wimpy Kid</td>\n",
       "      <td>Comedy,Family</td>\n",
       "      <td>The adventures of a teenager who is fresh out ...</td>\n",
       "      <td>Thor Freudenthal</td>\n",
       "      <td>Zachary Gordon, Robert Capron, Rachael Harris,...</td>\n",
       "      <td>2010</td>\n",
       "      <td>94</td>\n",
       "      <td>6.2</td>\n",
       "      <td>34184</td>\n",
       "      <td>64.00</td>\n",
       "      <td>56.0</td>\n",
       "    </tr>\n",
       "    <tr>\n",
       "      <th>3</th>\n",
       "      <td>159</td>\n",
       "      <td>Scott Pilgrim vs. the World</td>\n",
       "      <td>Action,Comedy,Fantasy</td>\n",
       "      <td>Scott Pilgrim must defeat his new girlfriend's...</td>\n",
       "      <td>Edgar Wright</td>\n",
       "      <td>Michael Cera, Mary Elizabeth Winstead, Kieran ...</td>\n",
       "      <td>2010</td>\n",
       "      <td>112</td>\n",
       "      <td>7.5</td>\n",
       "      <td>291457</td>\n",
       "      <td>31.49</td>\n",
       "      <td>69.0</td>\n",
       "    </tr>\n",
       "    <tr>\n",
       "      <th>4</th>\n",
       "      <td>220</td>\n",
       "      <td>Kick-Ass</td>\n",
       "      <td>Action,Comedy</td>\n",
       "      <td>Dave Lizewski is an unnoticed high school stud...</td>\n",
       "      <td>Matthew Vaughn</td>\n",
       "      <td>Aaron Taylor-Johnson, Nicolas Cage, Chlo√´ Gra...</td>\n",
       "      <td>2010</td>\n",
       "      <td>117</td>\n",
       "      <td>7.7</td>\n",
       "      <td>456749</td>\n",
       "      <td>48.04</td>\n",
       "      <td>66.0</td>\n",
       "    </tr>\n",
       "  </tbody>\n",
       "</table>\n",
       "</div>"
      ],
      "text/plain": [
       "    0                            1                        2   \\\n",
       "0   81                    Inception  Action,Adventure,Sci-Fi   \n",
       "1  139               Shutter Island         Mystery,Thriller   \n",
       "2  142         Diary of a Wimpy Kid            Comedy,Family   \n",
       "3  159  Scott Pilgrim vs. the World    Action,Comedy,Fantasy   \n",
       "4  220                     Kick-Ass            Action,Comedy   \n",
       "\n",
       "                                                  3                  4   \\\n",
       "0  A thief, who steals corporate secrets through ...  Christopher Nolan   \n",
       "1  In 1954, a U.S. marshal investigates the disap...    Martin Scorsese   \n",
       "2  The adventures of a teenager who is fresh out ...   Thor Freudenthal   \n",
       "3  Scott Pilgrim must defeat his new girlfriend's...       Edgar Wright   \n",
       "4  Dave Lizewski is an unnoticed high school stud...     Matthew Vaughn   \n",
       "\n",
       "                                                  5     6    7    8        9   \\\n",
       "0  Leonardo DiCaprio, Joseph Gordon-Levitt, Ellen...  2010  148  8.8  1583625   \n",
       "1  Leonardo DiCaprio, Emily Mortimer, Mark Ruffal...  2010  138  8.1   855604   \n",
       "2  Zachary Gordon, Robert Capron, Rachael Harris,...  2010   94  6.2    34184   \n",
       "3  Michael Cera, Mary Elizabeth Winstead, Kieran ...  2010  112  7.5   291457   \n",
       "4  Aaron Taylor-Johnson, Nicolas Cage, Chlo√´ Gra...  2010  117  7.7   456749   \n",
       "\n",
       "       10    11  \n",
       "0  292.57  74.0  \n",
       "1  127.97  63.0  \n",
       "2   64.00  56.0  \n",
       "3   31.49  69.0  \n",
       "4   48.04  66.0  "
      ]
     },
     "execution_count": 98,
     "metadata": {},
     "output_type": "execute_result"
    }
   ],
   "source": [
    "movies_skip_rows = pd.read_excel(\"movies-no-header-skip-rows.xlsx\", header=None, skiprows=3)\n",
    "movies_skip_rows.head(5)"
   ]
  },
  {
   "cell_type": "markdown",
   "metadata": {},
   "source": [
    "We skipped four rows from the sheet and used none of the rows as the header. Also, notice that one can combine different options in a single read statement. To skip rows at the bottom of the sheet, you can use option `skip_footer`, which works just like `skiprows`, the only difference being the rows are counted from the bottom upwards.\n",
    "\n",
    "The column names in the previous DataFrame are numeric and were allotted as default by the pandas. We can rename the column names to descriptive ones by calling the method `columns` on the DataFrame and passing the column names as a list."
   ]
  },
  {
   "cell_type": "code",
   "execution_count": 100,
   "metadata": {
    "ExecuteTime": {
     "end_time": "2019-03-24T13:30:12.292090Z",
     "start_time": "2019-03-24T13:30:12.165417Z"
    }
   },
   "outputs": [
    {
     "data": {
      "text/html": [
       "<div>\n",
       "<style scoped>\n",
       "    .dataframe tbody tr th:only-of-type {\n",
       "        vertical-align: middle;\n",
       "    }\n",
       "\n",
       "    .dataframe tbody tr th {\n",
       "        vertical-align: top;\n",
       "    }\n",
       "\n",
       "    .dataframe thead th {\n",
       "        text-align: right;\n",
       "    }\n",
       "</style>\n",
       "<table border=\"1\" class=\"dataframe\">\n",
       "  <thead>\n",
       "    <tr style=\"text-align: right;\">\n",
       "      <th></th>\n",
       "      <th>Rank</th>\n",
       "      <th>Title</th>\n",
       "      <th>Genre</th>\n",
       "      <th>Description</th>\n",
       "      <th>Director</th>\n",
       "      <th>Actors</th>\n",
       "      <th>Year</th>\n",
       "      <th>Runtime (Minutes)</th>\n",
       "      <th>Rating</th>\n",
       "      <th>Votes</th>\n",
       "      <th>Revenue (Millions)</th>\n",
       "      <th>Metascore</th>\n",
       "    </tr>\n",
       "  </thead>\n",
       "  <tbody>\n",
       "    <tr>\n",
       "      <th>0</th>\n",
       "      <td>81</td>\n",
       "      <td>Inception</td>\n",
       "      <td>Action,Adventure,Sci-Fi</td>\n",
       "      <td>A thief, who steals corporate secrets through ...</td>\n",
       "      <td>Christopher Nolan</td>\n",
       "      <td>Leonardo DiCaprio, Joseph Gordon-Levitt, Ellen...</td>\n",
       "      <td>2010</td>\n",
       "      <td>148</td>\n",
       "      <td>8.8</td>\n",
       "      <td>1583625</td>\n",
       "      <td>292.57</td>\n",
       "      <td>74.0</td>\n",
       "    </tr>\n",
       "    <tr>\n",
       "      <th>1</th>\n",
       "      <td>139</td>\n",
       "      <td>Shutter Island</td>\n",
       "      <td>Mystery,Thriller</td>\n",
       "      <td>In 1954, a U.S. marshal investigates the disap...</td>\n",
       "      <td>Martin Scorsese</td>\n",
       "      <td>Leonardo DiCaprio, Emily Mortimer, Mark Ruffal...</td>\n",
       "      <td>2010</td>\n",
       "      <td>138</td>\n",
       "      <td>8.1</td>\n",
       "      <td>855604</td>\n",
       "      <td>127.97</td>\n",
       "      <td>63.0</td>\n",
       "    </tr>\n",
       "    <tr>\n",
       "      <th>2</th>\n",
       "      <td>142</td>\n",
       "      <td>Diary of a Wimpy Kid</td>\n",
       "      <td>Comedy,Family</td>\n",
       "      <td>The adventures of a teenager who is fresh out ...</td>\n",
       "      <td>Thor Freudenthal</td>\n",
       "      <td>Zachary Gordon, Robert Capron, Rachael Harris,...</td>\n",
       "      <td>2010</td>\n",
       "      <td>94</td>\n",
       "      <td>6.2</td>\n",
       "      <td>34184</td>\n",
       "      <td>64.00</td>\n",
       "      <td>56.0</td>\n",
       "    </tr>\n",
       "    <tr>\n",
       "      <th>3</th>\n",
       "      <td>159</td>\n",
       "      <td>Scott Pilgrim vs. the World</td>\n",
       "      <td>Action,Comedy,Fantasy</td>\n",
       "      <td>Scott Pilgrim must defeat his new girlfriend's...</td>\n",
       "      <td>Edgar Wright</td>\n",
       "      <td>Michael Cera, Mary Elizabeth Winstead, Kieran ...</td>\n",
       "      <td>2010</td>\n",
       "      <td>112</td>\n",
       "      <td>7.5</td>\n",
       "      <td>291457</td>\n",
       "      <td>31.49</td>\n",
       "      <td>69.0</td>\n",
       "    </tr>\n",
       "    <tr>\n",
       "      <th>4</th>\n",
       "      <td>220</td>\n",
       "      <td>Kick-Ass</td>\n",
       "      <td>Action,Comedy</td>\n",
       "      <td>Dave Lizewski is an unnoticed high school stud...</td>\n",
       "      <td>Matthew Vaughn</td>\n",
       "      <td>Aaron Taylor-Johnson, Nicolas Cage, Chlo√´ Gra...</td>\n",
       "      <td>2010</td>\n",
       "      <td>117</td>\n",
       "      <td>7.7</td>\n",
       "      <td>456749</td>\n",
       "      <td>48.04</td>\n",
       "      <td>66.0</td>\n",
       "    </tr>\n",
       "  </tbody>\n",
       "</table>\n",
       "</div>"
      ],
      "text/plain": [
       "   Rank                        Title                    Genre  \\\n",
       "0    81                    Inception  Action,Adventure,Sci-Fi   \n",
       "1   139               Shutter Island         Mystery,Thriller   \n",
       "2   142         Diary of a Wimpy Kid            Comedy,Family   \n",
       "3   159  Scott Pilgrim vs. the World    Action,Comedy,Fantasy   \n",
       "4   220                     Kick-Ass            Action,Comedy   \n",
       "\n",
       "                                         Description           Director  \\\n",
       "0  A thief, who steals corporate secrets through ...  Christopher Nolan   \n",
       "1  In 1954, a U.S. marshal investigates the disap...    Martin Scorsese   \n",
       "2  The adventures of a teenager who is fresh out ...   Thor Freudenthal   \n",
       "3  Scott Pilgrim must defeat his new girlfriend's...       Edgar Wright   \n",
       "4  Dave Lizewski is an unnoticed high school stud...     Matthew Vaughn   \n",
       "\n",
       "                                              Actors  Year  Runtime (Minutes)  \\\n",
       "0  Leonardo DiCaprio, Joseph Gordon-Levitt, Ellen...  2010                148   \n",
       "1  Leonardo DiCaprio, Emily Mortimer, Mark Ruffal...  2010                138   \n",
       "2  Zachary Gordon, Robert Capron, Rachael Harris,...  2010                 94   \n",
       "3  Michael Cera, Mary Elizabeth Winstead, Kieran ...  2010                112   \n",
       "4  Aaron Taylor-Johnson, Nicolas Cage, Chlo√´ Gra...  2010                117   \n",
       "\n",
       "   Rating    Votes  Revenue (Millions)  Metascore  \n",
       "0     8.8  1583625              292.57       74.0  \n",
       "1     8.1   855604              127.97       63.0  \n",
       "2     6.2    34184               64.00       56.0  \n",
       "3     7.5   291457               31.49       69.0  \n",
       "4     7.7   456749               48.04       66.0  "
      ]
     },
     "execution_count": 100,
     "metadata": {},
     "output_type": "execute_result"
    }
   ],
   "source": [
    "movies_skip_rows.columns = ['Rank','Title','Genre','Description','Director','Actors','Year','Runtime (Minutes)','Rating','Votes','Revenue (Millions)','Metascore']\n",
    "movies_skip_rows.head()"
   ]
  },
  {
   "cell_type": "markdown",
   "metadata": {},
   "source": [
    "Now that we have seen how to read a subset of rows from the Excel file, we can learn how to read a subset of columns."
   ]
  },
  {
   "cell_type": "markdown",
   "metadata": {},
   "source": [
    "## Reading a subset of columns\n",
    "Although read_excel defaults to reading and importing all columns, you can choose to import only certain columns. By passing the list, we are telling the `read_excel` method to read only the columns specified as index (the first column being indexed zero)."
   ]
  },
  {
   "cell_type": "code",
   "execution_count": 106,
   "metadata": {
    "ExecuteTime": {
     "end_time": "2019-03-24T13:40:34.487467Z",
     "start_time": "2019-03-24T13:40:33.887893Z"
    },
    "scrolled": true
   },
   "outputs": [
    {
     "data": {
      "text/html": [
       "<div>\n",
       "<style scoped>\n",
       "    .dataframe tbody tr th:only-of-type {\n",
       "        vertical-align: middle;\n",
       "    }\n",
       "\n",
       "    .dataframe tbody tr th {\n",
       "        vertical-align: top;\n",
       "    }\n",
       "\n",
       "    .dataframe thead th {\n",
       "        text-align: right;\n",
       "    }\n",
       "</style>\n",
       "<table border=\"1\" class=\"dataframe\">\n",
       "  <thead>\n",
       "    <tr style=\"text-align: right;\">\n",
       "      <th></th>\n",
       "      <th>Rank</th>\n",
       "      <th>Title</th>\n",
       "      <th>Genre</th>\n",
       "      <th>Description</th>\n",
       "      <th>Director</th>\n",
       "      <th>Actors</th>\n",
       "      <th>Year</th>\n",
       "    </tr>\n",
       "  </thead>\n",
       "  <tbody>\n",
       "    <tr>\n",
       "      <th>0</th>\n",
       "      <td>81</td>\n",
       "      <td>Inception</td>\n",
       "      <td>Action,Adventure,Sci-Fi</td>\n",
       "      <td>A thief, who steals corporate secrets through ...</td>\n",
       "      <td>Christopher Nolan</td>\n",
       "      <td>Leonardo DiCaprio, Joseph Gordon-Levitt, Ellen...</td>\n",
       "      <td>2010</td>\n",
       "    </tr>\n",
       "    <tr>\n",
       "      <th>1</th>\n",
       "      <td>139</td>\n",
       "      <td>Shutter Island</td>\n",
       "      <td>Mystery,Thriller</td>\n",
       "      <td>In 1954, a U.S. marshal investigates the disap...</td>\n",
       "      <td>Martin Scorsese</td>\n",
       "      <td>Leonardo DiCaprio, Emily Mortimer, Mark Ruffal...</td>\n",
       "      <td>2010</td>\n",
       "    </tr>\n",
       "    <tr>\n",
       "      <th>2</th>\n",
       "      <td>142</td>\n",
       "      <td>Diary of a Wimpy Kid</td>\n",
       "      <td>Comedy,Family</td>\n",
       "      <td>The adventures of a teenager who is fresh out ...</td>\n",
       "      <td>Thor Freudenthal</td>\n",
       "      <td>Zachary Gordon, Robert Capron, Rachael Harris,...</td>\n",
       "      <td>2010</td>\n",
       "    </tr>\n",
       "    <tr>\n",
       "      <th>3</th>\n",
       "      <td>159</td>\n",
       "      <td>Scott Pilgrim vs. the World</td>\n",
       "      <td>Action,Comedy,Fantasy</td>\n",
       "      <td>Scott Pilgrim must defeat his new girlfriend's...</td>\n",
       "      <td>Edgar Wright</td>\n",
       "      <td>Michael Cera, Mary Elizabeth Winstead, Kieran ...</td>\n",
       "      <td>2010</td>\n",
       "    </tr>\n",
       "    <tr>\n",
       "      <th>4</th>\n",
       "      <td>220</td>\n",
       "      <td>Kick-Ass</td>\n",
       "      <td>Action,Comedy</td>\n",
       "      <td>Dave Lizewski is an unnoticed high school stud...</td>\n",
       "      <td>Matthew Vaughn</td>\n",
       "      <td>Aaron Taylor-Johnson, Nicolas Cage, Chlo√´ Gra...</td>\n",
       "      <td>2010</td>\n",
       "    </tr>\n",
       "  </tbody>\n",
       "</table>\n",
       "</div>"
      ],
      "text/plain": [
       "   Rank                        Title                    Genre  \\\n",
       "0    81                    Inception  Action,Adventure,Sci-Fi   \n",
       "1   139               Shutter Island         Mystery,Thriller   \n",
       "2   142         Diary of a Wimpy Kid            Comedy,Family   \n",
       "3   159  Scott Pilgrim vs. the World    Action,Comedy,Fantasy   \n",
       "4   220                     Kick-Ass            Action,Comedy   \n",
       "\n",
       "                                         Description           Director  \\\n",
       "0  A thief, who steals corporate secrets through ...  Christopher Nolan   \n",
       "1  In 1954, a U.S. marshal investigates the disap...    Martin Scorsese   \n",
       "2  The adventures of a teenager who is fresh out ...   Thor Freudenthal   \n",
       "3  Scott Pilgrim must defeat his new girlfriend's...       Edgar Wright   \n",
       "4  Dave Lizewski is an unnoticed high school stud...     Matthew Vaughn   \n",
       "\n",
       "                                              Actors  Year  \n",
       "0  Leonardo DiCaprio, Joseph Gordon-Levitt, Ellen...  2010  \n",
       "1  Leonardo DiCaprio, Emily Mortimer, Mark Ruffal...  2010  \n",
       "2  Zachary Gordon, Robert Capron, Rachael Harris,...  2010  \n",
       "3  Michael Cera, Mary Elizabeth Winstead, Kieran ...  2010  \n",
       "4  Aaron Taylor-Johnson, Nicolas Cage, Chlo√´ Gra...  2010  "
      ]
     },
     "execution_count": 106,
     "metadata": {},
     "output_type": "execute_result"
    }
   ],
   "source": [
    "movies_subset_columns = pd.read_excel(excel_file, usecols=[0,1,2,3,4,5,6])\n",
    "movies_subset_columns.head()"
   ]
  },
  {
   "cell_type": "markdown",
   "metadata": {},
   "source": [
    "## Applying formulas on the columns\n",
    "One of the much-used features of Excel is to apply formulas to create new columns from existing column values. In our Excel file, we have Revenue column. We can get Net earnings by subtracting taxes 19%. We could then apply this formula in the Excel file to all the rows. We can do this in pandas also as shown below."
   ]
  },
  {
   "cell_type": "code",
   "execution_count": 124,
   "metadata": {
    "ExecuteTime": {
     "end_time": "2019-03-24T13:55:36.086317Z",
     "start_time": "2019-03-24T13:55:34.213804Z"
    }
   },
   "outputs": [],
   "source": [
    "movies = pd.read_excel(\"IMDB-Movie-Data-full.xlsx\", header=0)\n",
    "\n",
    "movies[\"Net Earnings\"] = movies[\"Revenue (Millions)\"] * 0.81 # 19% taxes"
   ]
  },
  {
   "cell_type": "markdown",
   "metadata": {},
   "source": [
    "Above, we used pandas to create a new column called Net Earnings, and populated it with the difference of Gross Earnings and Budget. It’s worth noting the difference here in how formulas are treated in Excel versus pandas. In Excel, a formula lives in the cell and updates when the data changes – with Python, the calculations happen and the values are stored – if Gross Earnings for one movie was manually changed, Net Earnings won’t be updated.\n",
    "\n",
    "Let’s use the `sort_values` method to sort the data by the new column we created and visualize the top 10 movies by Net Earnings."
   ]
  },
  {
   "cell_type": "code",
   "execution_count": 125,
   "metadata": {
    "ExecuteTime": {
     "end_time": "2019-03-24T13:55:46.731016Z",
     "start_time": "2019-03-24T13:55:45.705602Z"
    }
   },
   "outputs": [
    {
     "data": {
      "image/png": "[encoded data removed]",
      "text/plain": [
       "<Figure size 432x288 with 1 Axes>"
      ]
     },
     "metadata": {
      "needs_background": "light"
     },
     "output_type": "display_data"
    }
   ],
   "source": [
    "sorted_movies = movies[['Net Earnings']].sort_values(['Net Earnings'], ascending=False)\n",
    "sorted_movies.head(10)['Net Earnings'].plot.barh()\n",
    "plt.show()"
   ]
  },
  {
   "cell_type": "markdown",
   "metadata": {},
   "source": [
    "## Pivot Table in pandas\n",
    "Advanced Excel users also often use pivot tables. A pivot table summarizes the data of another table by grouping the data on an index and applying operations such as sorting, summing, or averaging. You can use this feature in pandas too.\n",
    "\n",
    "We need to first identify the column or columns that will serve as the index, and the column(s) on which the summarizing formula will be applied. Let’s start small, by choosing Year as the index column and revenue as the summarization column and creating a separate DataFrame from this data."
   ]
  },
  {
   "cell_type": "code",
   "execution_count": 128,
   "metadata": {
    "ExecuteTime": {
     "end_time": "2019-03-24T13:57:18.512608Z",
     "start_time": "2019-03-24T13:57:18.435696Z"
    }
   },
   "outputs": [
    {
     "data": {
      "text/html": [
       "<div>\n",
       "<style scoped>\n",
       "    .dataframe tbody tr th:only-of-type {\n",
       "        vertical-align: middle;\n",
       "    }\n",
       "\n",
       "    .dataframe tbody tr th {\n",
       "        vertical-align: top;\n",
       "    }\n",
       "\n",
       "    .dataframe thead th {\n",
       "        text-align: right;\n",
       "    }\n",
       "</style>\n",
       "<table border=\"1\" class=\"dataframe\">\n",
       "  <thead>\n",
       "    <tr style=\"text-align: right;\">\n",
       "      <th></th>\n",
       "      <th>Year</th>\n",
       "      <th>Revenue (Millions)</th>\n",
       "    </tr>\n",
       "  </thead>\n",
       "  <tbody>\n",
       "    <tr>\n",
       "      <th>0</th>\n",
       "      <td>2014</td>\n",
       "      <td>333.13</td>\n",
       "    </tr>\n",
       "    <tr>\n",
       "      <th>1</th>\n",
       "      <td>2012</td>\n",
       "      <td>126.46</td>\n",
       "    </tr>\n",
       "    <tr>\n",
       "      <th>2</th>\n",
       "      <td>2016</td>\n",
       "      <td>138.12</td>\n",
       "    </tr>\n",
       "    <tr>\n",
       "      <th>3</th>\n",
       "      <td>2016</td>\n",
       "      <td>270.32</td>\n",
       "    </tr>\n",
       "    <tr>\n",
       "      <th>4</th>\n",
       "      <td>2016</td>\n",
       "      <td>325.02</td>\n",
       "    </tr>\n",
       "  </tbody>\n",
       "</table>\n",
       "</div>"
      ],
      "text/plain": [
       "   Year  Revenue (Millions)\n",
       "0  2014              333.13\n",
       "1  2012              126.46\n",
       "2  2016              138.12\n",
       "3  2016              270.32\n",
       "4  2016              325.02"
      ]
     },
     "execution_count": 128,
     "metadata": {},
     "output_type": "execute_result"
    }
   ],
   "source": [
    "movies_subset = movies[['Year', 'Revenue (Millions)']]\n",
    "movies_subset.head()"
   ]
  },
  {
   "cell_type": "markdown",
   "metadata": {},
   "source": [
    "We now call `pivot_table` on this subset of data. The method `pivot_table` takes a parameter `index`. As mentioned, we want to use Year as the index."
   ]
  },
  {
   "cell_type": "code",
   "execution_count": 129,
   "metadata": {
    "ExecuteTime": {
     "end_time": "2019-03-24T13:58:13.528209Z",
     "start_time": "2019-03-24T13:58:13.372077Z"
    }
   },
   "outputs": [
    {
     "data": {
      "text/html": [
       "<div>\n",
       "<style scoped>\n",
       "    .dataframe tbody tr th:only-of-type {\n",
       "        vertical-align: middle;\n",
       "    }\n",
       "\n",
       "    .dataframe tbody tr th {\n",
       "        vertical-align: top;\n",
       "    }\n",
       "\n",
       "    .dataframe thead th {\n",
       "        text-align: right;\n",
       "    }\n",
       "</style>\n",
       "<table border=\"1\" class=\"dataframe\">\n",
       "  <thead>\n",
       "    <tr style=\"text-align: right;\">\n",
       "      <th></th>\n",
       "      <th>Revenue (Millions)</th>\n",
       "    </tr>\n",
       "    <tr>\n",
       "      <th>Year</th>\n",
       "      <th></th>\n",
       "    </tr>\n",
       "  </thead>\n",
       "  <tbody>\n",
       "    <tr>\n",
       "      <th>2006</th>\n",
       "      <td>86.296667</td>\n",
       "    </tr>\n",
       "    <tr>\n",
       "      <th>2007</th>\n",
       "      <td>87.882245</td>\n",
       "    </tr>\n",
       "    <tr>\n",
       "      <th>2008</th>\n",
       "      <td>99.082745</td>\n",
       "    </tr>\n",
       "    <tr>\n",
       "      <th>2009</th>\n",
       "      <td>112.601277</td>\n",
       "    </tr>\n",
       "    <tr>\n",
       "      <th>2010</th>\n",
       "      <td>105.081579</td>\n",
       "    </tr>\n",
       "  </tbody>\n",
       "</table>\n",
       "</div>"
      ],
      "text/plain": [
       "      Revenue (Millions)\n",
       "Year                    \n",
       "2006           86.296667\n",
       "2007           87.882245\n",
       "2008           99.082745\n",
       "2009          112.601277\n",
       "2010          105.081579"
      ]
     },
     "execution_count": 129,
     "metadata": {},
     "output_type": "execute_result"
    }
   ],
   "source": [
    "earnings_by_year = movies_subset.pivot_table(index=['Year'])\n",
    "earnings_by_year.head()"
   ]
  },
  {
   "cell_type": "markdown",
   "metadata": {},
   "source": [
    "This gave us a pivot table with grouping on Year and summarization on the sum of Revenues. Notice, we didn’t need to specify Revenue column explicitly as pandas automatically identified it the values on which summarization should be applied.\n",
    "\n",
    "We can use this pivot table to create some data visualizations. We can call the `plot` method on the DataFrame to create a line plot and call the `show` method to display the plot in the notebook."
   ]
  },
  {
   "cell_type": "code",
   "execution_count": 130,
   "metadata": {
    "ExecuteTime": {
     "end_time": "2019-03-24T13:59:16.865887Z",
     "start_time": "2019-03-24T13:59:15.746528Z"
    }
   },
   "outputs": [
    {
     "data": {
      "image/png": "[encoded data removed]",
      "text/plain": [
       "<Figure size 432x288 with 1 Axes>"
      ]
     },
     "metadata": {
      "needs_background": "light"
     },
     "output_type": "display_data"
    }
   ],
   "source": [
    "earnings_by_year.plot()\n",
    "plt.show()"
   ]
  },
  {
   "cell_type": "markdown",
   "metadata": {},
   "source": [
    "We saw how to pivot with a single column as the index. Things will get more interesting if we can use multiple columns. Let’s create another DataFrame subset but this time we will choose the columns, Country, Language and Gross Earnings."
   ]
  },
  {
   "cell_type": "markdown",
   "metadata": {},
   "source": [
    "## Exporting the results to Excel\n",
    "If you’re going to be working with colleagues who use Excel, saving Excel files out of pandas is important. You can export or write a pandas DataFrame to an Excel file using pandas `to_excel` method. Pandas uses the `xlwt` Python module internally for writing to Excel files. The `to_excel` method is called on the DataFrame we want to export.We also need to pass a filename to which this DataFrame will be written."
   ]
  },
  {
   "cell_type": "code",
   "execution_count": 131,
   "metadata": {
    "ExecuteTime": {
     "end_time": "2019-03-24T14:03:40.638526Z",
     "start_time": "2019-03-24T14:03:37.991903Z"
    }
   },
   "outputs": [],
   "source": [
    "movies.to_excel('output.xlsx')"
   ]
  },
  {
   "cell_type": "markdown",
   "metadata": {},
   "source": [
    "By default, the index is also saved to the output file. However, sometimes the index doesn’t provide any useful information. For example, the movies DataFrame has a numeric auto-increment index, that was not part of the original Excel data."
   ]
  },
  {
   "cell_type": "code",
   "execution_count": 132,
   "metadata": {
    "ExecuteTime": {
     "end_time": "2019-03-24T14:04:01.096746Z",
     "start_time": "2019-03-24T14:04:00.964610Z"
    },
    "scrolled": false
   },
   "outputs": [
    {
     "data": {
      "text/html": [
       "<div>\n",
       "<style scoped>\n",
       "    .dataframe tbody tr th:only-of-type {\n",
       "        vertical-align: middle;\n",
       "    }\n",
       "\n",
       "    .dataframe tbody tr th {\n",
       "        vertical-align: top;\n",
       "    }\n",
       "\n",
       "    .dataframe thead th {\n",
       "        text-align: right;\n",
       "    }\n",
       "</style>\n",
       "<table border=\"1\" class=\"dataframe\">\n",
       "  <thead>\n",
       "    <tr style=\"text-align: right;\">\n",
       "      <th></th>\n",
       "      <th>Rank</th>\n",
       "      <th>Title</th>\n",
       "      <th>Genre</th>\n",
       "      <th>Description</th>\n",
       "      <th>Director</th>\n",
       "      <th>Actors</th>\n",
       "      <th>Year</th>\n",
       "      <th>Runtime (Minutes)</th>\n",
       "      <th>Rating</th>\n",
       "      <th>Votes</th>\n",
       "      <th>Revenue (Millions)</th>\n",
       "      <th>Metascore</th>\n",
       "      <th>Net Earnings</th>\n",
       "    </tr>\n",
       "  </thead>\n",
       "  <tbody>\n",
       "    <tr>\n",
       "      <th>0</th>\n",
       "      <td>1</td>\n",
       "      <td>Guardians of the Galaxy</td>\n",
       "      <td>Action,Adventure,Sci-Fi</td>\n",
       "      <td>A group of intergalactic criminals are forced ...</td>\n",
       "      <td>James Gunn</td>\n",
       "      <td>Chris Pratt, Vin Diesel, Bradley Cooper, Zoe S...</td>\n",
       "      <td>2014</td>\n",
       "      <td>121</td>\n",
       "      <td>8.1</td>\n",
       "      <td>757074</td>\n",
       "      <td>333.13</td>\n",
       "      <td>76.0</td>\n",
       "      <td>269.8353</td>\n",
       "    </tr>\n",
       "    <tr>\n",
       "      <th>1</th>\n",
       "      <td>2</td>\n",
       "      <td>Prometheus</td>\n",
       "      <td>Adventure,Mystery,Sci-Fi</td>\n",
       "      <td>Following clues to the origin of mankind, a te...</td>\n",
       "      <td>Ridley Scott</td>\n",
       "      <td>Noomi Rapace, Logan Marshall-Green, Michael Fa...</td>\n",
       "      <td>2012</td>\n",
       "      <td>124</td>\n",
       "      <td>7.0</td>\n",
       "      <td>485820</td>\n",
       "      <td>126.46</td>\n",
       "      <td>65.0</td>\n",
       "      <td>102.4326</td>\n",
       "    </tr>\n",
       "    <tr>\n",
       "      <th>2</th>\n",
       "      <td>3</td>\n",
       "      <td>Split</td>\n",
       "      <td>Horror,Thriller</td>\n",
       "      <td>Three girls are kidnapped by a man with a diag...</td>\n",
       "      <td>M. Night Shyamalan</td>\n",
       "      <td>James McAvoy, Anya Taylor-Joy, Haley Lu Richar...</td>\n",
       "      <td>2016</td>\n",
       "      <td>117</td>\n",
       "      <td>7.3</td>\n",
       "      <td>157606</td>\n",
       "      <td>138.12</td>\n",
       "      <td>62.0</td>\n",
       "      <td>111.8772</td>\n",
       "    </tr>\n",
       "    <tr>\n",
       "      <th>3</th>\n",
       "      <td>4</td>\n",
       "      <td>Sing</td>\n",
       "      <td>Animation,Comedy,Family</td>\n",
       "      <td>In a city of humanoid animals, a hustling thea...</td>\n",
       "      <td>Christophe Lourdelet</td>\n",
       "      <td>Matthew McConaughey,Reese Witherspoon, Seth Ma...</td>\n",
       "      <td>2016</td>\n",
       "      <td>108</td>\n",
       "      <td>7.2</td>\n",
       "      <td>60545</td>\n",
       "      <td>270.32</td>\n",
       "      <td>59.0</td>\n",
       "      <td>218.9592</td>\n",
       "    </tr>\n",
       "    <tr>\n",
       "      <th>4</th>\n",
       "      <td>5</td>\n",
       "      <td>Suicide Squad</td>\n",
       "      <td>Action,Adventure,Fantasy</td>\n",
       "      <td>A secret government agency recruits some of th...</td>\n",
       "      <td>David Ayer</td>\n",
       "      <td>Will Smith, Jared Leto, Margot Robbie, Viola D...</td>\n",
       "      <td>2016</td>\n",
       "      <td>123</td>\n",
       "      <td>6.2</td>\n",
       "      <td>393727</td>\n",
       "      <td>325.02</td>\n",
       "      <td>40.0</td>\n",
       "      <td>263.2662</td>\n",
       "    </tr>\n",
       "  </tbody>\n",
       "</table>\n",
       "</div>"
      ],
      "text/plain": [
       "   Rank                    Title                     Genre  \\\n",
       "0     1  Guardians of the Galaxy   Action,Adventure,Sci-Fi   \n",
       "1     2               Prometheus  Adventure,Mystery,Sci-Fi   \n",
       "2     3                    Split           Horror,Thriller   \n",
       "3     4                     Sing   Animation,Comedy,Family   \n",
       "4     5            Suicide Squad  Action,Adventure,Fantasy   \n",
       "\n",
       "                                         Description              Director  \\\n",
       "0  A group of intergalactic criminals are forced ...            James Gunn   \n",
       "1  Following clues to the origin of mankind, a te...          Ridley Scott   \n",
       "2  Three girls are kidnapped by a man with a diag...    M. Night Shyamalan   \n",
       "3  In a city of humanoid animals, a hustling thea...  Christophe Lourdelet   \n",
       "4  A secret government agency recruits some of th...            David Ayer   \n",
       "\n",
       "                                              Actors  Year  Runtime (Minutes)  \\\n",
       "0  Chris Pratt, Vin Diesel, Bradley Cooper, Zoe S...  2014                121   \n",
       "1  Noomi Rapace, Logan Marshall-Green, Michael Fa...  2012                124   \n",
       "2  James McAvoy, Anya Taylor-Joy, Haley Lu Richar...  2016                117   \n",
       "3  Matthew McConaughey,Reese Witherspoon, Seth Ma...  2016                108   \n",
       "4  Will Smith, Jared Leto, Margot Robbie, Viola D...  2016                123   \n",
       "\n",
       "   Rating   Votes  Revenue (Millions)  Metascore  Net Earnings  \n",
       "0     8.1  757074              333.13       76.0      269.8353  \n",
       "1     7.0  485820              126.46       65.0      102.4326  \n",
       "2     7.3  157606              138.12       62.0      111.8772  \n",
       "3     7.2   60545              270.32       59.0      218.9592  \n",
       "4     6.2  393727              325.02       40.0      263.2662  "
      ]
     },
     "execution_count": 132,
     "metadata": {},
     "output_type": "execute_result"
    }
   ],
   "source": [
    "movies.head()"
   ]
  },
  {
   "cell_type": "markdown",
   "metadata": {},
   "source": [
    "You can choose to skip the index by passing along index-False."
   ]
  },
  {
   "cell_type": "code",
   "execution_count": 133,
   "metadata": {
    "ExecuteTime": {
     "end_time": "2019-03-24T14:05:05.855898Z",
     "start_time": "2019-03-24T14:05:03.627228Z"
    }
   },
   "outputs": [],
   "source": [
    "movies.to_excel('output.xlsx', index=False)"
   ]
  },
  {
   "cell_type": "markdown",
   "metadata": {},
   "source": [
    "We need to be able to make our output files look nice before we can send it out to our co-workers. We can use pandas `ExcelWriter` class along with the `XlsxWriter` Python module to apply the formatting.\n",
    "\n",
    "We can do use these advanced output options by creating a `ExcelWriter` object and use this object to write to the Excel file. This is very limited in terms of formating."
   ]
  },
  {
   "cell_type": "code",
   "execution_count": 157,
   "metadata": {
    "ExecuteTime": {
     "end_time": "2019-03-24T14:20:02.097732Z",
     "start_time": "2019-03-24T14:20:01.076185Z"
    }
   },
   "outputs": [],
   "source": [
    "writer = pd.ExcelWriter('output.xlsx', engine='xlsxwriter')\n",
    "movies.to_excel(writer, index=False, sheet_name='report')\n",
    "workbook  = writer.book"
   ]
  },
  {
   "cell_type": "markdown",
   "metadata": {},
   "source": [
    "We can apply customizations by calling `add_format` on the workbook we are writing to. Here we are setting header format as bold."
   ]
  },
  {
   "cell_type": "code",
   "execution_count": 158,
   "metadata": {
    "ExecuteTime": {
     "end_time": "2019-03-24T14:20:11.546524Z",
     "start_time": "2019-03-24T14:20:11.527819Z"
    }
   },
   "outputs": [],
   "source": [
    "header_fmt = workbook.add_format({'bold': True})\n",
    "worksheet.set_row(0, None, header_fmt)"
   ]
  },
  {
   "cell_type": "markdown",
   "metadata": {
    "ExecuteTime": {
     "end_time": "2019-03-24T14:24:13.607989Z",
     "start_time": "2019-03-24T14:24:13.575162Z"
    }
   },
   "source": [
    "Finally, we save the output file by calling the method `save` on the writer object."
   ]
  },
  {
   "cell_type": "code",
   "execution_count": 161,
   "metadata": {
    "ExecuteTime": {
     "end_time": "2019-03-24T14:24:38.009636Z",
     "start_time": "2019-03-24T14:24:36.778838Z"
    }
   },
   "outputs": [],
   "source": [
    "writer.save()"
   ]
  },
  {
   "cell_type": "markdown",
   "metadata": {
    "ExecuteTime": {
     "end_time": "2019-03-24T14:24:48.534993Z",
     "start_time": "2019-03-24T14:24:48.500909Z"
    }
   },
   "source": [
    "As an example, we saved the data with column headers set as bold. And the saved file looks like the image below."
   ]
  },
  {
   "cell_type": "markdown",
   "metadata": {
    "ExecuteTime": {
     "end_time": "2019-03-24T14:25:33.548383Z",
     "start_time": "2019-03-24T14:25:33.484836Z"
    }
   },
   "source": [
    "<div class='alert alert-warning' role='light'>\n",
    "XlsxWriter and Pandas provide very little support for formatting the output data from a dataframe apart from default formatting such as the header and index cells and any cells that contain dates or datetimes. In addition it isn’t possible to format any cells that already have a default format applied.\n",
    "\n",
    "If you require very controlled formatting of the dataframe output then you would probably be better off using Xlsxwriter directly with raw data taken from Pandas. This as the expenses series directly from a dat\n",
    "</div>"
   ]
  },
  {
   "cell_type": "code",
   "execution_count": 159,
   "metadata": {
    "ExecuteTime": {
     "end_time": "2019-03-24T14:24:01.913467Z",
     "start_time": "2019-03-24T14:24:01.288119Z"
    }
   },
   "outputs": [],
   "source": [
    "import xlsxwriter\n",
    "\n",
    "# Create a workbook and add a worksheet.\n",
    "workbook = xlsxwriter.Workbook('Expenses02.xlsx')\n",
    "worksheet = workbook.add_worksheet()\n",
    "\n",
    "# Add a bold format to use to highlight cells.\n",
    "bold = workbook.add_format({'bold': True})\n",
    "\n",
    "# Add a number format for cells with money.\n",
    "money = workbook.add_format({'num_format': '$#,##0'})\n",
    "\n",
    "# Write some data headers.\n",
    "worksheet.write('A1', 'Item', bold)\n",
    "worksheet.write('B1', 'Cost', bold)\n",
    "\n",
    "# Some data we want to write to the worksheet.\n",
    "expenses = (\n",
    " ['Rent', 1000],\n",
    " ['Gas',   100],\n",
    " ['Food',  300],\n",
    " ['Gym',    50],\n",
    ")\n",
    "\n",
    "# Start from the first cell below the headers.\n",
    "row = 1\n",
    "col = 0\n",
    "\n",
    "# Iterate over the data and write it out row by row.\n",
    "for item, cost in (expenses):\n",
    "    worksheet.write(row, col,     item)\n",
    "    worksheet.write(row, col + 1, cost, money)\n",
    "    row += 1\n",
    "\n",
    "# Write a total using a formula.\n",
    "worksheet.write(row, 0, 'Total',       bold)\n",
    "worksheet.write(row, 1, '=SUM(B2:B5)', money)\n",
    "\n",
    "workbook.close()"
   ]
  },
  {
   "cell_type": "markdown",
   "metadata": {
    "ExecuteTime": {
     "end_time": "2019-03-24T14:28:08.904995Z",
     "start_time": "2019-03-24T14:28:08.869842Z"
    }
   },
   "source": [
    "you can check out more at the [official documents](https://xlsxwriter.readthedocs.io/working_with_pandas.html)"
   ]
  }
 ],
 "metadata": {
  "kernelspec": {
   "display_name": "Python 3",
   "language": "python",
   "name": "dspxi"
  },
  "language_info": {
   "codemirror_mode": {
    "name": "ipython",
    "version": 3
   },
   "file_extension": ".py",
   "mimetype": "text/x-python",
   "name": "python",
   "nbconvert_exporter": "python",
   "pygments_lexer": "ipython3",
   "version": "3.6.8"
  },
  "toc": {
   "base_numbering": 1,
   "nav_menu": {},
   "number_sections": true,
   "sideBar": true,
   "skip_h1_title": false,
   "title_cell": "Table of Contents",
   "title_sidebar": "Contents",
   "toc_cell": false,
   "toc_position": {
    "height": "calc(100% - 180px)",
    "left": "10px",
    "top": "150px",
    "width": "336px"
   },
   "toc_section_display": true,
   "toc_window_display": true
  },
  "varInspector": {
   "cols": {
    "lenName": 16,
    "lenType": 16,
    "lenVar": 40
   },
   "kernels_config": {
    "python": {
     "delete_cmd_postfix": "",
     "delete_cmd_prefix": "del ",
     "library": "var_list.py",
     "varRefreshCmd": "print(var_dic_list())"
    },
    "r": {
     "delete_cmd_postfix": ") ",
     "delete_cmd_prefix": "rm(",
     "library": "var_list.r",
     "varRefreshCmd": "cat(var_dic_list()) "
    }
   },
   "position": {
    "height": "400px",
    "left": "1339px",
    "right": "20px",
    "top": "120px",
    "width": "321px"
   },
   "types_to_exclude": [
    "module",
    "function",
    "builtin_function_or_method",
    "instance",
    "_Feature"
   ],
   "window_display": false
  }
 },
 "nbformat": 4,
 "nbformat_minor": 2
}
