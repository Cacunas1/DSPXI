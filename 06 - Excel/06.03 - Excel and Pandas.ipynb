{
 "cells": [
  {
   "cell_type": "markdown",
   "metadata": {},
   "source": [
    "![image.png](https://raw.githubusercontent.com/fjvarasc/DSPXI/master/figures/python_logo.png)"
   ]
  },
  {
   "cell_type": "markdown",
   "metadata": {
    "toc": true
   },
   "source": [
    "<h1>Table of Contents<span class=\"tocSkip\"></span></h1>\n",
    "<div class=\"toc\"><ul class=\"toc-item\"><li><span><a href=\"#Excel?,-Better-pandas\" data-toc-modified-id=\"Excel?,-Better-pandas-3\"><span class=\"toc-item-num\">3&nbsp;&nbsp;</span>Excel?, Better pandas</a></span><ul class=\"toc-item\"><li><span><a href=\"#Read-data-from-the-Excel-file\" data-toc-modified-id=\"Read-data-from-the-Excel-file-3.1\"><span class=\"toc-item-num\">3.1&nbsp;&nbsp;</span>Read data from the Excel file</a></span></li><li><span><a href=\"#Using-the-ExcelFile-class-to-read-multiple-sheets\" data-toc-modified-id=\"Using-the-ExcelFile-class-to-read-multiple-sheets-3.2\"><span class=\"toc-item-num\">3.2&nbsp;&nbsp;</span>Using the ExcelFile class to read multiple sheets</a></span><ul class=\"toc-item\"><li><span><a href=\"#Exploring-the-data\" data-toc-modified-id=\"Exploring-the-data-3.2.1\"><span class=\"toc-item-num\">3.2.1&nbsp;&nbsp;</span>Exploring the data</a></span></li></ul></li><li><span><a href=\"#Getting-statistical-information-about-the-data\" data-toc-modified-id=\"Getting-statistical-information-about-the-data-3.3\"><span class=\"toc-item-num\">3.3&nbsp;&nbsp;</span>Getting statistical information about the data</a></span></li><li><span><a href=\"#Reading-files-with-no-header-and-skipping-records\" data-toc-modified-id=\"Reading-files-with-no-header-and-skipping-records-3.4\"><span class=\"toc-item-num\">3.4&nbsp;&nbsp;</span>Reading files with no header and skipping records</a></span></li><li><span><a href=\"#Reading-a-subset-of-columns\" data-toc-modified-id=\"Reading-a-subset-of-columns-3.5\"><span class=\"toc-item-num\">3.5&nbsp;&nbsp;</span>Reading a subset of columns</a></span></li><li><span><a href=\"#Applying-formulas-on-the-columns\" data-toc-modified-id=\"Applying-formulas-on-the-columns-3.6\"><span class=\"toc-item-num\">3.6&nbsp;&nbsp;</span>Applying formulas on the columns</a></span></li><li><span><a href=\"#Pivot-Table-in-pandas\" data-toc-modified-id=\"Pivot-Table-in-pandas-3.7\"><span class=\"toc-item-num\">3.7&nbsp;&nbsp;</span>Pivot Table in pandas</a></span></li><li><span><a href=\"#Exporting-the-results-to-Excel\" data-toc-modified-id=\"Exporting-the-results-to-Excel-3.8\"><span class=\"toc-item-num\">3.8&nbsp;&nbsp;</span>Exporting the results to Excel</a></span></li></ul></li></ul></div>"
   ]
  },
  {
   "cell_type": "markdown",
   "metadata": {},
   "source": [
    "# Excel?, Better pandas\n",
    "Excel is one of the most popular and widely-used data tools; it’s hard to find an organization that doesn’t work with it in some way. From analysts, to sales VPs, to CEOs, various professionals use Excel for both quick stats and serious data crunching.\n",
    "\n",
    "With Excel being so pervasive, data professionals must be familiar with it. You’ll also want a tool that can easily read and write Excel files — pandas is perfect for this.\n",
    "\n",
    "Pandas has excellent methods for reading all kinds of data from Excel files. You can also export your results from pandas back to Excel, if that’s preferred by your intended audience. Pandas is great for other routine data analysis tasks, such as:\n",
    "\n",
    "- quick Exploratory Data Analysis (EDA)\n",
    "- drawing attractive plots\n",
    "- feeding data into machine learning tools like scikit-learn\n",
    "- building machine learning models on your data\n",
    "- taking cleaned and processed data to any number of data tools\n",
    "\n",
    "Pandas is better at automating data processing tasks than Excel, including processing Excel files."
   ]
  },
  {
   "cell_type": "markdown",
   "metadata": {
    "ExecuteTime": {
     "end_time": "2019-03-24T12:37:22.027774Z",
     "start_time": "2019-03-24T12:37:21.840042Z"
    }
   },
   "source": [
    "![image.png](https://raw.githubusercontent.com/fjvarasc/DSPXI/master/figures/img-panda-1.png)"
   ]
  },
  {
   "cell_type": "markdown",
   "metadata": {},
   "source": [
    "## Read data from the Excel file\n",
    "We need to first import the data from the Excel file into pandas. To do that, we start by importing the pandas module."
   ]
  },
  {
   "cell_type": "markdown",
   "metadata": {},
   "source": [
    "We then use the pandas’ read_excel method to read in data from the Excel file. The easiest way to call this method is to pass the file name. If no sheet name is specified then it will read the first sheet in the index (as shown below).\n",
    "\n",
    "The file has sheets which have the movies corresponding to a specific year 2010,2009,2008 and so on"
   ]
  },
  {
   "cell_type": "code",
   "execution_count": 158,
   "metadata": {
    "ExecuteTime": {
     "end_time": "2019-03-25T01:18:28.116145Z",
     "start_time": "2019-03-25T01:18:25.821936Z"
    }
   },
   "outputs": [],
   "source": [
    "import pandas as pd\n",
    "excel_file = 'https://github.com/fjvarasc/DSPXI/blob/master/data/IMDB-Movie-Data.xlsx?raw=true'\n",
    "movies = pd.read_excel(excel_file)"
   ]
  },
  {
   "cell_type": "markdown",
   "metadata": {},
   "source": [
    "Here, the 'read_excel' method read the data from the Excel file into a pandas DataFrame object. Pandas defaults to storing data in DataFrames. We then stored this DataFrame into a variable called 'movies'.\n",
    "\n",
    "Pandas has a built-in 'DataFrame.head()' method that we can use to easily display the first few rows of our DataFrame. If no argument is passed, it will display first five rows. If a number is passed, it will display the equal number of rows from the top."
   ]
  },
  {
   "cell_type": "code",
   "execution_count": 137,
   "metadata": {
    "ExecuteTime": {
     "end_time": "2019-03-24T22:43:21.652383Z",
     "start_time": "2019-03-24T22:43:21.547145Z"
    }
   },
   "outputs": [
    {
     "data": {
      "text/html": [
       "<div>\n",
       "<style scoped>\n",
       "    .dataframe tbody tr th:only-of-type {\n",
       "        vertical-align: middle;\n",
       "    }\n",
       "\n",
       "    .dataframe tbody tr th {\n",
       "        vertical-align: top;\n",
       "    }\n",
       "\n",
       "    .dataframe thead th {\n",
       "        text-align: right;\n",
       "    }\n",
       "</style>\n",
       "<table border=\"1\" class=\"dataframe\">\n",
       "  <thead>\n",
       "    <tr style=\"text-align: right;\">\n",
       "      <th></th>\n",
       "      <th>Rank</th>\n",
       "      <th>Title</th>\n",
       "      <th>Genre</th>\n",
       "      <th>Description</th>\n",
       "      <th>Director</th>\n",
       "      <th>Actors</th>\n",
       "      <th>Year</th>\n",
       "      <th>Runtime (Minutes)</th>\n",
       "      <th>Rating</th>\n",
       "      <th>Votes</th>\n",
       "      <th>Revenue (Millions)</th>\n",
       "      <th>Metascore</th>\n",
       "    </tr>\n",
       "  </thead>\n",
       "  <tbody>\n",
       "    <tr>\n",
       "      <th>0</th>\n",
       "      <td>81</td>\n",
       "      <td>Inception</td>\n",
       "      <td>Action,Adventure,Sci-Fi</td>\n",
       "      <td>A thief, who steals corporate secrets through ...</td>\n",
       "      <td>Christopher Nolan</td>\n",
       "      <td>Leonardo DiCaprio, Joseph Gordon-Levitt, Ellen...</td>\n",
       "      <td>2010</td>\n",
       "      <td>148</td>\n",
       "      <td>8.8</td>\n",
       "      <td>1583625</td>\n",
       "      <td>292.57</td>\n",
       "      <td>74.0</td>\n",
       "    </tr>\n",
       "    <tr>\n",
       "      <th>1</th>\n",
       "      <td>139</td>\n",
       "      <td>Shutter Island</td>\n",
       "      <td>Mystery,Thriller</td>\n",
       "      <td>In 1954, a U.S. marshal investigates the disap...</td>\n",
       "      <td>Martin Scorsese</td>\n",
       "      <td>Leonardo DiCaprio, Emily Mortimer, Mark Ruffal...</td>\n",
       "      <td>2010</td>\n",
       "      <td>138</td>\n",
       "      <td>8.1</td>\n",
       "      <td>855604</td>\n",
       "      <td>127.97</td>\n",
       "      <td>63.0</td>\n",
       "    </tr>\n",
       "    <tr>\n",
       "      <th>2</th>\n",
       "      <td>142</td>\n",
       "      <td>Diary of a Wimpy Kid</td>\n",
       "      <td>Comedy,Family</td>\n",
       "      <td>The adventures of a teenager who is fresh out ...</td>\n",
       "      <td>Thor Freudenthal</td>\n",
       "      <td>Zachary Gordon, Robert Capron, Rachael Harris,...</td>\n",
       "      <td>2010</td>\n",
       "      <td>94</td>\n",
       "      <td>6.2</td>\n",
       "      <td>34184</td>\n",
       "      <td>64.00</td>\n",
       "      <td>56.0</td>\n",
       "    </tr>\n",
       "    <tr>\n",
       "      <th>3</th>\n",
       "      <td>159</td>\n",
       "      <td>Scott Pilgrim vs. the World</td>\n",
       "      <td>Action,Comedy,Fantasy</td>\n",
       "      <td>Scott Pilgrim must defeat his new girlfriend's...</td>\n",
       "      <td>Edgar Wright</td>\n",
       "      <td>Michael Cera, Mary Elizabeth Winstead, Kieran ...</td>\n",
       "      <td>2010</td>\n",
       "      <td>112</td>\n",
       "      <td>7.5</td>\n",
       "      <td>291457</td>\n",
       "      <td>31.49</td>\n",
       "      <td>69.0</td>\n",
       "    </tr>\n",
       "    <tr>\n",
       "      <th>4</th>\n",
       "      <td>220</td>\n",
       "      <td>Kick-Ass</td>\n",
       "      <td>Action,Comedy</td>\n",
       "      <td>Dave Lizewski is an unnoticed high school stud...</td>\n",
       "      <td>Matthew Vaughn</td>\n",
       "      <td>Aaron Taylor-Johnson, Nicolas Cage, Chlo√´ Gra...</td>\n",
       "      <td>2010</td>\n",
       "      <td>117</td>\n",
       "      <td>7.7</td>\n",
       "      <td>456749</td>\n",
       "      <td>48.04</td>\n",
       "      <td>66.0</td>\n",
       "    </tr>\n",
       "  </tbody>\n",
       "</table>\n",
       "</div>"
      ],
      "text/plain": [
       "   Rank                        Title                    Genre  \\\n",
       "0    81                    Inception  Action,Adventure,Sci-Fi   \n",
       "1   139               Shutter Island         Mystery,Thriller   \n",
       "2   142         Diary of a Wimpy Kid            Comedy,Family   \n",
       "3   159  Scott Pilgrim vs. the World    Action,Comedy,Fantasy   \n",
       "4   220                     Kick-Ass            Action,Comedy   \n",
       "\n",
       "                                         Description           Director  \\\n",
       "0  A thief, who steals corporate secrets through ...  Christopher Nolan   \n",
       "1  In 1954, a U.S. marshal investigates the disap...    Martin Scorsese   \n",
       "2  The adventures of a teenager who is fresh out ...   Thor Freudenthal   \n",
       "3  Scott Pilgrim must defeat his new girlfriend's...       Edgar Wright   \n",
       "4  Dave Lizewski is an unnoticed high school stud...     Matthew Vaughn   \n",
       "\n",
       "                                              Actors  Year  Runtime (Minutes)  \\\n",
       "0  Leonardo DiCaprio, Joseph Gordon-Levitt, Ellen...  2010                148   \n",
       "1  Leonardo DiCaprio, Emily Mortimer, Mark Ruffal...  2010                138   \n",
       "2  Zachary Gordon, Robert Capron, Rachael Harris,...  2010                 94   \n",
       "3  Michael Cera, Mary Elizabeth Winstead, Kieran ...  2010                112   \n",
       "4  Aaron Taylor-Johnson, Nicolas Cage, Chlo√´ Gra...  2010                117   \n",
       "\n",
       "   Rating    Votes  Revenue (Millions)  Metascore  \n",
       "0     8.8  1583625              292.57       74.0  \n",
       "1     8.1   855604              127.97       63.0  \n",
       "2     6.2    34184               64.00       56.0  \n",
       "3     7.5   291457               31.49       69.0  \n",
       "4     7.7   456749               48.04       66.0  "
      ]
     },
     "execution_count": 137,
     "metadata": {},
     "output_type": "execute_result"
    }
   ],
   "source": [
    "movies.head()"
   ]
  },
  {
   "cell_type": "markdown",
   "metadata": {},
   "source": [
    "Excel files quite often have multiple sheets and the ability to read a specific sheet or all of them is very important. To make this easy, the pandas `read_excel` method takes an argument called `sheetname` that tells pandas which sheet to read in the data from. For this, you can either use the sheet name or the sheet number. Sheet numbers start with zero. If the `sheetname` argument is not given, it defaults to zero and pandas will import the first sheet.\n",
    "\n",
    "By default, pandas will automatically assign a numeric index or row label starting with zero. You may want to leave the default index as such if your data doesn’t have a column with unique values that can serve as a better index. In case there is a column that you feel would serve as a better index, you can override the default behavior by setting 'index_col' property to a column. It takes a numeric value for setting a single column as index or a list of numeric values for creating a multi-index.\n",
    "\n",
    "In the below code, we are choosing the first column, ‘Title’, as index (index=0) by passing zero to the `index_col` argument."
   ]
  },
  {
   "cell_type": "code",
   "execution_count": 138,
   "metadata": {
    "ExecuteTime": {
     "end_time": "2019-03-24T22:43:22.355761Z",
     "start_time": "2019-03-24T22:43:21.664390Z"
    },
    "scrolled": false
   },
   "outputs": [
    {
     "data": {
      "text/html": [
       "<div>\n",
       "<style scoped>\n",
       "    .dataframe tbody tr th:only-of-type {\n",
       "        vertical-align: middle;\n",
       "    }\n",
       "\n",
       "    .dataframe tbody tr th {\n",
       "        vertical-align: top;\n",
       "    }\n",
       "\n",
       "    .dataframe thead th {\n",
       "        text-align: right;\n",
       "    }\n",
       "</style>\n",
       "<table border=\"1\" class=\"dataframe\">\n",
       "  <thead>\n",
       "    <tr style=\"text-align: right;\">\n",
       "      <th></th>\n",
       "      <th>Title</th>\n",
       "      <th>Genre</th>\n",
       "      <th>Description</th>\n",
       "      <th>Director</th>\n",
       "      <th>Actors</th>\n",
       "      <th>Year</th>\n",
       "      <th>Runtime (Minutes)</th>\n",
       "      <th>Rating</th>\n",
       "      <th>Votes</th>\n",
       "      <th>Revenue (Millions)</th>\n",
       "      <th>Metascore</th>\n",
       "    </tr>\n",
       "    <tr>\n",
       "      <th>Rank</th>\n",
       "      <th></th>\n",
       "      <th></th>\n",
       "      <th></th>\n",
       "      <th></th>\n",
       "      <th></th>\n",
       "      <th></th>\n",
       "      <th></th>\n",
       "      <th></th>\n",
       "      <th></th>\n",
       "      <th></th>\n",
       "      <th></th>\n",
       "    </tr>\n",
       "  </thead>\n",
       "  <tbody>\n",
       "    <tr>\n",
       "      <th>81</th>\n",
       "      <td>Inception</td>\n",
       "      <td>Action,Adventure,Sci-Fi</td>\n",
       "      <td>A thief, who steals corporate secrets through ...</td>\n",
       "      <td>Christopher Nolan</td>\n",
       "      <td>Leonardo DiCaprio, Joseph Gordon-Levitt, Ellen...</td>\n",
       "      <td>2010</td>\n",
       "      <td>148</td>\n",
       "      <td>8.8</td>\n",
       "      <td>1583625</td>\n",
       "      <td>292.57</td>\n",
       "      <td>74.0</td>\n",
       "    </tr>\n",
       "    <tr>\n",
       "      <th>139</th>\n",
       "      <td>Shutter Island</td>\n",
       "      <td>Mystery,Thriller</td>\n",
       "      <td>In 1954, a U.S. marshal investigates the disap...</td>\n",
       "      <td>Martin Scorsese</td>\n",
       "      <td>Leonardo DiCaprio, Emily Mortimer, Mark Ruffal...</td>\n",
       "      <td>2010</td>\n",
       "      <td>138</td>\n",
       "      <td>8.1</td>\n",
       "      <td>855604</td>\n",
       "      <td>127.97</td>\n",
       "      <td>63.0</td>\n",
       "    </tr>\n",
       "    <tr>\n",
       "      <th>142</th>\n",
       "      <td>Diary of a Wimpy Kid</td>\n",
       "      <td>Comedy,Family</td>\n",
       "      <td>The adventures of a teenager who is fresh out ...</td>\n",
       "      <td>Thor Freudenthal</td>\n",
       "      <td>Zachary Gordon, Robert Capron, Rachael Harris,...</td>\n",
       "      <td>2010</td>\n",
       "      <td>94</td>\n",
       "      <td>6.2</td>\n",
       "      <td>34184</td>\n",
       "      <td>64.00</td>\n",
       "      <td>56.0</td>\n",
       "    </tr>\n",
       "    <tr>\n",
       "      <th>159</th>\n",
       "      <td>Scott Pilgrim vs. the World</td>\n",
       "      <td>Action,Comedy,Fantasy</td>\n",
       "      <td>Scott Pilgrim must defeat his new girlfriend's...</td>\n",
       "      <td>Edgar Wright</td>\n",
       "      <td>Michael Cera, Mary Elizabeth Winstead, Kieran ...</td>\n",
       "      <td>2010</td>\n",
       "      <td>112</td>\n",
       "      <td>7.5</td>\n",
       "      <td>291457</td>\n",
       "      <td>31.49</td>\n",
       "      <td>69.0</td>\n",
       "    </tr>\n",
       "    <tr>\n",
       "      <th>220</th>\n",
       "      <td>Kick-Ass</td>\n",
       "      <td>Action,Comedy</td>\n",
       "      <td>Dave Lizewski is an unnoticed high school stud...</td>\n",
       "      <td>Matthew Vaughn</td>\n",
       "      <td>Aaron Taylor-Johnson, Nicolas Cage, Chlo√´ Gra...</td>\n",
       "      <td>2010</td>\n",
       "      <td>117</td>\n",
       "      <td>7.7</td>\n",
       "      <td>456749</td>\n",
       "      <td>48.04</td>\n",
       "      <td>66.0</td>\n",
       "    </tr>\n",
       "  </tbody>\n",
       "</table>\n",
       "</div>"
      ],
      "text/plain": [
       "                            Title                    Genre  \\\n",
       "Rank                                                         \n",
       "81                      Inception  Action,Adventure,Sci-Fi   \n",
       "139                Shutter Island         Mystery,Thriller   \n",
       "142          Diary of a Wimpy Kid            Comedy,Family   \n",
       "159   Scott Pilgrim vs. the World    Action,Comedy,Fantasy   \n",
       "220                      Kick-Ass            Action,Comedy   \n",
       "\n",
       "                                            Description           Director  \\\n",
       "Rank                                                                         \n",
       "81    A thief, who steals corporate secrets through ...  Christopher Nolan   \n",
       "139   In 1954, a U.S. marshal investigates the disap...    Martin Scorsese   \n",
       "142   The adventures of a teenager who is fresh out ...   Thor Freudenthal   \n",
       "159   Scott Pilgrim must defeat his new girlfriend's...       Edgar Wright   \n",
       "220   Dave Lizewski is an unnoticed high school stud...     Matthew Vaughn   \n",
       "\n",
       "                                                 Actors  Year  \\\n",
       "Rank                                                            \n",
       "81    Leonardo DiCaprio, Joseph Gordon-Levitt, Ellen...  2010   \n",
       "139   Leonardo DiCaprio, Emily Mortimer, Mark Ruffal...  2010   \n",
       "142   Zachary Gordon, Robert Capron, Rachael Harris,...  2010   \n",
       "159   Michael Cera, Mary Elizabeth Winstead, Kieran ...  2010   \n",
       "220   Aaron Taylor-Johnson, Nicolas Cage, Chlo√´ Gra...  2010   \n",
       "\n",
       "      Runtime (Minutes)  Rating    Votes  Revenue (Millions)  Metascore  \n",
       "Rank                                                                     \n",
       "81                  148     8.8  1583625              292.57       74.0  \n",
       "139                 138     8.1   855604              127.97       63.0  \n",
       "142                  94     6.2    34184               64.00       56.0  \n",
       "159                 112     7.5   291457               31.49       69.0  \n",
       "220                 117     7.7   456749               48.04       66.0  "
      ]
     },
     "execution_count": 138,
     "metadata": {},
     "output_type": "execute_result"
    }
   ],
   "source": [
    "movies_sheet1 = pd.read_excel(excel_file, sheet_name=0, index_col=0)\n",
    "movies_sheet1.head()"
   ]
  },
  {
   "cell_type": "markdown",
   "metadata": {},
   "source": [
    "As you noticed above, our Excel data file has three sheets. We already read the first sheet in a DataFrame above. Now, using the same syntax, we will read in rest of the two sheets too."
   ]
  },
  {
   "cell_type": "code",
   "execution_count": 139,
   "metadata": {
    "ExecuteTime": {
     "end_time": "2019-03-24T22:43:23.204195Z",
     "start_time": "2019-03-24T22:43:22.368189Z"
    }
   },
   "outputs": [
    {
     "data": {
      "text/html": [
       "<div>\n",
       "<style scoped>\n",
       "    .dataframe tbody tr th:only-of-type {\n",
       "        vertical-align: middle;\n",
       "    }\n",
       "\n",
       "    .dataframe tbody tr th {\n",
       "        vertical-align: top;\n",
       "    }\n",
       "\n",
       "    .dataframe thead th {\n",
       "        text-align: right;\n",
       "    }\n",
       "</style>\n",
       "<table border=\"1\" class=\"dataframe\">\n",
       "  <thead>\n",
       "    <tr style=\"text-align: right;\">\n",
       "      <th></th>\n",
       "      <th>Title</th>\n",
       "      <th>Genre</th>\n",
       "      <th>Description</th>\n",
       "      <th>Director</th>\n",
       "      <th>Actors</th>\n",
       "      <th>Year</th>\n",
       "      <th>Runtime (Minutes)</th>\n",
       "      <th>Rating</th>\n",
       "      <th>Votes</th>\n",
       "      <th>Revenue (Millions)</th>\n",
       "      <th>Metascore</th>\n",
       "    </tr>\n",
       "    <tr>\n",
       "      <th>Rank</th>\n",
       "      <th></th>\n",
       "      <th></th>\n",
       "      <th></th>\n",
       "      <th></th>\n",
       "      <th></th>\n",
       "      <th></th>\n",
       "      <th></th>\n",
       "      <th></th>\n",
       "      <th></th>\n",
       "      <th></th>\n",
       "      <th></th>\n",
       "    </tr>\n",
       "  </thead>\n",
       "  <tbody>\n",
       "    <tr>\n",
       "      <th>78</th>\n",
       "      <td>Inglourious Basterds</td>\n",
       "      <td>Adventure,Drama,War</td>\n",
       "      <td>In Nazi-occupied France during World War II, a...</td>\n",
       "      <td>Quentin Tarantino</td>\n",
       "      <td>Brad Pitt, Diane Kruger, Eli Roth,M√©lanie Lau...</td>\n",
       "      <td>2009</td>\n",
       "      <td>153</td>\n",
       "      <td>8.3</td>\n",
       "      <td>959065</td>\n",
       "      <td>120.52</td>\n",
       "      <td>69.0</td>\n",
       "    </tr>\n",
       "    <tr>\n",
       "      <th>88</th>\n",
       "      <td>Avatar</td>\n",
       "      <td>Action,Adventure,Fantasy</td>\n",
       "      <td>A paraplegic marine dispatched to the moon Pan...</td>\n",
       "      <td>James Cameron</td>\n",
       "      <td>Sam Worthington, Zoe Saldana, Sigourney Weaver...</td>\n",
       "      <td>2009</td>\n",
       "      <td>162</td>\n",
       "      <td>7.8</td>\n",
       "      <td>935408</td>\n",
       "      <td>760.51</td>\n",
       "      <td>83.0</td>\n",
       "    </tr>\n",
       "    <tr>\n",
       "      <th>141</th>\n",
       "      <td>Star Trek</td>\n",
       "      <td>Action,Adventure,Sci-Fi</td>\n",
       "      <td>The brash James T. Kirk tries to live up to hi...</td>\n",
       "      <td>J.J. Abrams</td>\n",
       "      <td>Chris Pine, Zachary Quinto, Simon Pegg, Leonar...</td>\n",
       "      <td>2009</td>\n",
       "      <td>127</td>\n",
       "      <td>8.0</td>\n",
       "      <td>526324</td>\n",
       "      <td>257.70</td>\n",
       "      <td>82.0</td>\n",
       "    </tr>\n",
       "    <tr>\n",
       "      <th>148</th>\n",
       "      <td>Watchmen</td>\n",
       "      <td>Action,Drama,Mystery</td>\n",
       "      <td>In 1985 where former superheroes exist, the mu...</td>\n",
       "      <td>Zack Snyder</td>\n",
       "      <td>Jackie Earle Haley, Patrick Wilson, Carla Gugi...</td>\n",
       "      <td>2009</td>\n",
       "      <td>162</td>\n",
       "      <td>7.6</td>\n",
       "      <td>410249</td>\n",
       "      <td>107.50</td>\n",
       "      <td>56.0</td>\n",
       "    </tr>\n",
       "    <tr>\n",
       "      <th>252</th>\n",
       "      <td>Kynodontas</td>\n",
       "      <td>Drama,Thriller</td>\n",
       "      <td>Three teenagers live isolated, without leaving...</td>\n",
       "      <td>Yorgos Lanthimos</td>\n",
       "      <td>Christos Stergioglou, Michele Valley, Angeliki...</td>\n",
       "      <td>2009</td>\n",
       "      <td>94</td>\n",
       "      <td>7.3</td>\n",
       "      <td>50946</td>\n",
       "      <td>0.11</td>\n",
       "      <td>73.0</td>\n",
       "    </tr>\n",
       "  </tbody>\n",
       "</table>\n",
       "</div>"
      ],
      "text/plain": [
       "                     Title                     Genre  \\\n",
       "Rank                                                   \n",
       "78    Inglourious Basterds       Adventure,Drama,War   \n",
       "88                  Avatar  Action,Adventure,Fantasy   \n",
       "141              Star Trek   Action,Adventure,Sci-Fi   \n",
       "148               Watchmen      Action,Drama,Mystery   \n",
       "252             Kynodontas            Drama,Thriller   \n",
       "\n",
       "                                            Description           Director  \\\n",
       "Rank                                                                         \n",
       "78    In Nazi-occupied France during World War II, a...  Quentin Tarantino   \n",
       "88    A paraplegic marine dispatched to the moon Pan...      James Cameron   \n",
       "141   The brash James T. Kirk tries to live up to hi...        J.J. Abrams   \n",
       "148   In 1985 where former superheroes exist, the mu...        Zack Snyder   \n",
       "252   Three teenagers live isolated, without leaving...   Yorgos Lanthimos   \n",
       "\n",
       "                                                 Actors  Year  \\\n",
       "Rank                                                            \n",
       "78    Brad Pitt, Diane Kruger, Eli Roth,M√©lanie Lau...  2009   \n",
       "88    Sam Worthington, Zoe Saldana, Sigourney Weaver...  2009   \n",
       "141   Chris Pine, Zachary Quinto, Simon Pegg, Leonar...  2009   \n",
       "148   Jackie Earle Haley, Patrick Wilson, Carla Gugi...  2009   \n",
       "252   Christos Stergioglou, Michele Valley, Angeliki...  2009   \n",
       "\n",
       "      Runtime (Minutes)  Rating   Votes  Revenue (Millions)  Metascore  \n",
       "Rank                                                                    \n",
       "78                  153     8.3  959065              120.52       69.0  \n",
       "88                  162     7.8  935408              760.51       83.0  \n",
       "141                 127     8.0  526324              257.70       82.0  \n",
       "148                 162     7.6  410249              107.50       56.0  \n",
       "252                  94     7.3   50946                0.11       73.0  "
      ]
     },
     "execution_count": 139,
     "metadata": {},
     "output_type": "execute_result"
    }
   ],
   "source": [
    "movies_sheet2 = pd.read_excel(excel_file, sheet_name=1, index_col=0)\n",
    "movies_sheet2.head()"
   ]
  },
  {
   "cell_type": "code",
   "execution_count": 140,
   "metadata": {
    "ExecuteTime": {
     "end_time": "2019-03-24T22:43:23.822856Z",
     "start_time": "2019-03-24T22:43:23.217323Z"
    }
   },
   "outputs": [
    {
     "data": {
      "text/html": [
       "<div>\n",
       "<style scoped>\n",
       "    .dataframe tbody tr th:only-of-type {\n",
       "        vertical-align: middle;\n",
       "    }\n",
       "\n",
       "    .dataframe tbody tr th {\n",
       "        vertical-align: top;\n",
       "    }\n",
       "\n",
       "    .dataframe thead th {\n",
       "        text-align: right;\n",
       "    }\n",
       "</style>\n",
       "<table border=\"1\" class=\"dataframe\">\n",
       "  <thead>\n",
       "    <tr style=\"text-align: right;\">\n",
       "      <th></th>\n",
       "      <th>Title</th>\n",
       "      <th>Genre</th>\n",
       "      <th>Description</th>\n",
       "      <th>Director</th>\n",
       "      <th>Actors</th>\n",
       "      <th>Year</th>\n",
       "      <th>Runtime (Minutes)</th>\n",
       "      <th>Rating</th>\n",
       "      <th>Votes</th>\n",
       "      <th>Revenue (Millions)</th>\n",
       "      <th>Metascore</th>\n",
       "    </tr>\n",
       "    <tr>\n",
       "      <th>Rank</th>\n",
       "      <th></th>\n",
       "      <th></th>\n",
       "      <th></th>\n",
       "      <th></th>\n",
       "      <th></th>\n",
       "      <th></th>\n",
       "      <th></th>\n",
       "      <th></th>\n",
       "      <th></th>\n",
       "      <th></th>\n",
       "      <th></th>\n",
       "    </tr>\n",
       "  </thead>\n",
       "  <tbody>\n",
       "    <tr>\n",
       "      <th>55</th>\n",
       "      <td>The Dark Knight</td>\n",
       "      <td>Action,Crime,Drama</td>\n",
       "      <td>When the menace known as the Joker wreaks havo...</td>\n",
       "      <td>Christopher Nolan</td>\n",
       "      <td>Christian Bale, Heath Ledger, Aaron Eckhart,Mi...</td>\n",
       "      <td>2008</td>\n",
       "      <td>152</td>\n",
       "      <td>9.0</td>\n",
       "      <td>1791916</td>\n",
       "      <td>533.32</td>\n",
       "      <td>82.0</td>\n",
       "    </tr>\n",
       "    <tr>\n",
       "      <th>129</th>\n",
       "      <td>Mamma Mia!</td>\n",
       "      <td>Comedy,Family,Musical</td>\n",
       "      <td>The story of a bride-to-be trying to find her ...</td>\n",
       "      <td>Phyllida Lloyd</td>\n",
       "      <td>Meryl Streep, Pierce Brosnan, Amanda Seyfried,...</td>\n",
       "      <td>2008</td>\n",
       "      <td>108</td>\n",
       "      <td>6.4</td>\n",
       "      <td>153481</td>\n",
       "      <td>143.70</td>\n",
       "      <td>51.0</td>\n",
       "    </tr>\n",
       "    <tr>\n",
       "      <th>166</th>\n",
       "      <td>Twilight</td>\n",
       "      <td>Drama,Fantasy,Romance</td>\n",
       "      <td>A teenage girl risks everything when she falls...</td>\n",
       "      <td>Catherine Hardwicke</td>\n",
       "      <td>Kristen Stewart, Robert Pattinson, Billy Burke...</td>\n",
       "      <td>2008</td>\n",
       "      <td>122</td>\n",
       "      <td>5.2</td>\n",
       "      <td>361449</td>\n",
       "      <td>191.45</td>\n",
       "      <td>56.0</td>\n",
       "    </tr>\n",
       "    <tr>\n",
       "      <th>178</th>\n",
       "      <td>Tropic Thunder</td>\n",
       "      <td>Action,Comedy</td>\n",
       "      <td>Through a series of freak occurrences, a group...</td>\n",
       "      <td>Ben Stiller</td>\n",
       "      <td>Ben Stiller, Jack Black, Robert Downey Jr., Je...</td>\n",
       "      <td>2008</td>\n",
       "      <td>107</td>\n",
       "      <td>7.0</td>\n",
       "      <td>321442</td>\n",
       "      <td>110.42</td>\n",
       "      <td>71.0</td>\n",
       "    </tr>\n",
       "    <tr>\n",
       "      <th>204</th>\n",
       "      <td>Iron Man</td>\n",
       "      <td>Action,Adventure,Sci-Fi</td>\n",
       "      <td>After being held captive in an Afghan cave, bi...</td>\n",
       "      <td>Jon Favreau</td>\n",
       "      <td>Robert Downey Jr., Gwyneth Paltrow, Terrence H...</td>\n",
       "      <td>2008</td>\n",
       "      <td>126</td>\n",
       "      <td>7.9</td>\n",
       "      <td>737719</td>\n",
       "      <td>318.30</td>\n",
       "      <td>79.0</td>\n",
       "    </tr>\n",
       "  </tbody>\n",
       "</table>\n",
       "</div>"
      ],
      "text/plain": [
       "                Title                    Genre  \\\n",
       "Rank                                             \n",
       "55    The Dark Knight       Action,Crime,Drama   \n",
       "129        Mamma Mia!    Comedy,Family,Musical   \n",
       "166          Twilight    Drama,Fantasy,Romance   \n",
       "178    Tropic Thunder            Action,Comedy   \n",
       "204          Iron Man  Action,Adventure,Sci-Fi   \n",
       "\n",
       "                                            Description             Director  \\\n",
       "Rank                                                                           \n",
       "55    When the menace known as the Joker wreaks havo...    Christopher Nolan   \n",
       "129   The story of a bride-to-be trying to find her ...       Phyllida Lloyd   \n",
       "166   A teenage girl risks everything when she falls...  Catherine Hardwicke   \n",
       "178   Through a series of freak occurrences, a group...          Ben Stiller   \n",
       "204   After being held captive in an Afghan cave, bi...          Jon Favreau   \n",
       "\n",
       "                                                 Actors  Year  \\\n",
       "Rank                                                            \n",
       "55    Christian Bale, Heath Ledger, Aaron Eckhart,Mi...  2008   \n",
       "129   Meryl Streep, Pierce Brosnan, Amanda Seyfried,...  2008   \n",
       "166   Kristen Stewart, Robert Pattinson, Billy Burke...  2008   \n",
       "178   Ben Stiller, Jack Black, Robert Downey Jr., Je...  2008   \n",
       "204   Robert Downey Jr., Gwyneth Paltrow, Terrence H...  2008   \n",
       "\n",
       "      Runtime (Minutes)  Rating    Votes  Revenue (Millions)  Metascore  \n",
       "Rank                                                                     \n",
       "55                  152     9.0  1791916              533.32       82.0  \n",
       "129                 108     6.4   153481              143.70       51.0  \n",
       "166                 122     5.2   361449              191.45       56.0  \n",
       "178                 107     7.0   321442              110.42       71.0  \n",
       "204                 126     7.9   737719              318.30       79.0  "
      ]
     },
     "execution_count": 140,
     "metadata": {},
     "output_type": "execute_result"
    }
   ],
   "source": [
    "movies_sheet3 = pd.read_excel(excel_file, sheet_name=2, index_col=0)\n",
    "movies_sheet3.head()"
   ]
  },
  {
   "cell_type": "markdown",
   "metadata": {},
   "source": [
    "Since all the three sheets have similar data but for different recordsmovies, we will create a single DataFrame from all the three DataFrames we created above. We will use the pandas `concat` method for this and pass in the names of the three DataFrames we just created and assign the results to a new DataFrame object, `movies`. By keeping the DataFrame name same as before, we are over-writing the previously created DataFrame."
   ]
  },
  {
   "cell_type": "code",
   "execution_count": 141,
   "metadata": {
    "ExecuteTime": {
     "end_time": "2019-03-24T22:43:23.871642Z",
     "start_time": "2019-03-24T22:43:23.836354Z"
    }
   },
   "outputs": [],
   "source": [
    "movies = pd.concat([movies_sheet1, movies_sheet2, movies_sheet3])"
   ]
  },
  {
   "cell_type": "markdown",
   "metadata": {},
   "source": [
    "We can check if this concatenation by checking the number of rows in the combined DataFrame by calling the method `shape` on it that will give us the number of rows and columns."
   ]
  },
  {
   "cell_type": "code",
   "execution_count": 142,
   "metadata": {
    "ExecuteTime": {
     "end_time": "2019-03-24T22:43:23.951688Z",
     "start_time": "2019-03-24T22:43:23.884300Z"
    }
   },
   "outputs": [
    {
     "data": {
      "text/plain": [
       "(163, 11)"
      ]
     },
     "execution_count": 142,
     "metadata": {},
     "output_type": "execute_result"
    }
   ],
   "source": [
    "movies.shape"
   ]
  },
  {
   "cell_type": "markdown",
   "metadata": {},
   "source": [
    "## Using the ExcelFile class to read multiple sheets\n",
    "We can also use the ExcelFile class to work with multiple sheets from the same Excel file. We first wrap the Excel file using `ExcelFile` and then pass it to `read_excel` method."
   ]
  },
  {
   "cell_type": "code",
   "execution_count": 159,
   "metadata": {
    "ExecuteTime": {
     "end_time": "2019-03-25T01:18:58.607798Z",
     "start_time": "2019-03-25T01:18:56.312099Z"
    }
   },
   "outputs": [],
   "source": [
    "xlsx = pd.ExcelFile(excel_file)\n",
    "movies_sheets = []\n",
    "for sheet in xlsx.sheet_names:\n",
    "    movies_sheets.append(xlsx.parse(sheet))\n",
    "movies = pd.concat(movies_sheets)"
   ]
  },
  {
   "cell_type": "markdown",
   "metadata": {},
   "source": [
    "If you are reading an Excel file with a lot of sheets and are creating a lot of DataFrames, `ExcelFile` is more convenient and efficient in comparison to `read_excel`. \n",
    "With ExcelFile, you only need to pass the Excel file once, and then you can use it to get the DataFrames. When using `read_excel`, you pass the Excel file every time and hence the file is loaded again for every sheet. This can be a huge performance drag if the Excel file has many sheets with a large number of rows."
   ]
  },
  {
   "cell_type": "markdown",
   "metadata": {
    "ExecuteTime": {
     "end_time": "2019-03-24T13:07:41.035238Z",
     "start_time": "2019-03-24T13:07:40.960364Z"
    }
   },
   "source": [
    "### Exploring the data\n",
    "Now that we have read in the movies data set from our Excel file, we can start exploring it using pandas. A pandas DataFrame stores the data in a tabular format, just like the way Excel displays the data in a sheet. Pandas has a lot of built-in methods to explore the DataFrame we created from the Excel file we just read in.\n",
    "\n",
    "We already introduced the method `head` in the previous section that displays few rows from the top from the DataFrame. Let’s look at few more methods that come in handy while exploring the data set.\n",
    "\n",
    "We can use the `shape` method to find out the number of rows and columns for the DataFrame."
   ]
  },
  {
   "cell_type": "code",
   "execution_count": 160,
   "metadata": {
    "ExecuteTime": {
     "end_time": "2019-03-25T01:19:03.077894Z",
     "start_time": "2019-03-25T01:19:03.059231Z"
    }
   },
   "outputs": [
    {
     "data": {
      "text/plain": [
       "(260, 12)"
      ]
     },
     "execution_count": 160,
     "metadata": {},
     "output_type": "execute_result"
    }
   ],
   "source": [
    "movies.shape"
   ]
  },
  {
   "cell_type": "markdown",
   "metadata": {},
   "source": [
    "This tells us our Excel file has 260 records and 12 columns or observations. This can be useful in reporting the number of records and columns and comparing that with the source data set.\n",
    "\n",
    "We can use the `tail` method to view the bottom rows. If no parameter is passed, only the bottom five rows are returned."
   ]
  },
  {
   "cell_type": "code",
   "execution_count": 145,
   "metadata": {
    "ExecuteTime": {
     "end_time": "2019-03-24T22:43:24.902434Z",
     "start_time": "2019-03-24T22:43:24.735580Z"
    }
   },
   "outputs": [
    {
     "data": {
      "text/html": [
       "<div>\n",
       "<style scoped>\n",
       "    .dataframe tbody tr th:only-of-type {\n",
       "        vertical-align: middle;\n",
       "    }\n",
       "\n",
       "    .dataframe tbody tr th {\n",
       "        vertical-align: top;\n",
       "    }\n",
       "\n",
       "    .dataframe thead th {\n",
       "        text-align: right;\n",
       "    }\n",
       "</style>\n",
       "<table border=\"1\" class=\"dataframe\">\n",
       "  <thead>\n",
       "    <tr style=\"text-align: right;\">\n",
       "      <th></th>\n",
       "      <th>Rank</th>\n",
       "      <th>Title</th>\n",
       "      <th>Genre</th>\n",
       "      <th>Description</th>\n",
       "      <th>Director</th>\n",
       "      <th>Actors</th>\n",
       "      <th>Year</th>\n",
       "      <th>Runtime (Minutes)</th>\n",
       "      <th>Rating</th>\n",
       "      <th>Votes</th>\n",
       "      <th>Revenue (Millions)</th>\n",
       "      <th>Metascore</th>\n",
       "    </tr>\n",
       "  </thead>\n",
       "  <tbody>\n",
       "    <tr>\n",
       "      <th>39</th>\n",
       "      <td>919</td>\n",
       "      <td>Perfume: The Story of a Murderer</td>\n",
       "      <td>Crime,Drama,Fantasy</td>\n",
       "      <td>Jean-Baptiste Grenouille, born with a superior...</td>\n",
       "      <td>Tom Tykwer</td>\n",
       "      <td>Ben Whishaw, Dustin Hoffman, Alan Rickman,Fran...</td>\n",
       "      <td>2006</td>\n",
       "      <td>147</td>\n",
       "      <td>7.5</td>\n",
       "      <td>199387</td>\n",
       "      <td>2.21</td>\n",
       "      <td>56.0</td>\n",
       "    </tr>\n",
       "    <tr>\n",
       "      <th>40</th>\n",
       "      <td>925</td>\n",
       "      <td>Superman Returns</td>\n",
       "      <td>Action,Adventure,Sci-Fi</td>\n",
       "      <td>Superman reappears after a long absence, but i...</td>\n",
       "      <td>Bryan Singer</td>\n",
       "      <td>Brandon Routh, Kevin Spacey, Kate Bosworth, Ja...</td>\n",
       "      <td>2006</td>\n",
       "      <td>154</td>\n",
       "      <td>6.1</td>\n",
       "      <td>246797</td>\n",
       "      <td>200.07</td>\n",
       "      <td>72.0</td>\n",
       "    </tr>\n",
       "    <tr>\n",
       "      <th>41</th>\n",
       "      <td>936</td>\n",
       "      <td>Talladega Nights: The Ballad of Ricky Bobby</td>\n",
       "      <td>Action,Comedy,Sport</td>\n",
       "      <td>#1 NASCAR driver Ricky Bobby stays atop the he...</td>\n",
       "      <td>Adam McKay</td>\n",
       "      <td>Will Ferrell, John C. Reilly, Sacha Baron Cohe...</td>\n",
       "      <td>2006</td>\n",
       "      <td>108</td>\n",
       "      <td>6.6</td>\n",
       "      <td>137502</td>\n",
       "      <td>148.21</td>\n",
       "      <td>66.0</td>\n",
       "    </tr>\n",
       "    <tr>\n",
       "      <th>42</th>\n",
       "      <td>960</td>\n",
       "      <td>Lucky Number Slevin</td>\n",
       "      <td>Crime,Drama,Mystery</td>\n",
       "      <td>A case of mistaken identity lands Slevin into ...</td>\n",
       "      <td>Paul McGuigan</td>\n",
       "      <td>Josh Hartnett, Ben Kingsley, Morgan Freeman, L...</td>\n",
       "      <td>2006</td>\n",
       "      <td>110</td>\n",
       "      <td>7.8</td>\n",
       "      <td>271940</td>\n",
       "      <td>22.49</td>\n",
       "      <td>53.0</td>\n",
       "    </tr>\n",
       "    <tr>\n",
       "      <th>43</th>\n",
       "      <td>966</td>\n",
       "      <td>Inland Empire</td>\n",
       "      <td>Drama,Mystery,Thriller</td>\n",
       "      <td>As an actress starts to adopt the persona of h...</td>\n",
       "      <td>David Lynch</td>\n",
       "      <td>Laura Dern, Jeremy Irons, Justin Theroux, Karo...</td>\n",
       "      <td>2006</td>\n",
       "      <td>180</td>\n",
       "      <td>7.0</td>\n",
       "      <td>44227</td>\n",
       "      <td>NaN</td>\n",
       "      <td>NaN</td>\n",
       "    </tr>\n",
       "  </tbody>\n",
       "</table>\n",
       "</div>"
      ],
      "text/plain": [
       "    Rank                                        Title  \\\n",
       "39   919             Perfume: The Story of a Murderer   \n",
       "40   925                             Superman Returns   \n",
       "41   936  Talladega Nights: The Ballad of Ricky Bobby   \n",
       "42   960                          Lucky Number Slevin   \n",
       "43   966                                Inland Empire   \n",
       "\n",
       "                      Genre  \\\n",
       "39      Crime,Drama,Fantasy   \n",
       "40  Action,Adventure,Sci-Fi   \n",
       "41      Action,Comedy,Sport   \n",
       "42      Crime,Drama,Mystery   \n",
       "43   Drama,Mystery,Thriller   \n",
       "\n",
       "                                          Description       Director  \\\n",
       "39  Jean-Baptiste Grenouille, born with a superior...     Tom Tykwer   \n",
       "40  Superman reappears after a long absence, but i...   Bryan Singer   \n",
       "41  #1 NASCAR driver Ricky Bobby stays atop the he...     Adam McKay   \n",
       "42  A case of mistaken identity lands Slevin into ...  Paul McGuigan   \n",
       "43  As an actress starts to adopt the persona of h...    David Lynch   \n",
       "\n",
       "                                               Actors  Year  \\\n",
       "39  Ben Whishaw, Dustin Hoffman, Alan Rickman,Fran...  2006   \n",
       "40  Brandon Routh, Kevin Spacey, Kate Bosworth, Ja...  2006   \n",
       "41  Will Ferrell, John C. Reilly, Sacha Baron Cohe...  2006   \n",
       "42  Josh Hartnett, Ben Kingsley, Morgan Freeman, L...  2006   \n",
       "43  Laura Dern, Jeremy Irons, Justin Theroux, Karo...  2006   \n",
       "\n",
       "    Runtime (Minutes)  Rating   Votes  Revenue (Millions)  Metascore  \n",
       "39                147     7.5  199387                2.21       56.0  \n",
       "40                154     6.1  246797              200.07       72.0  \n",
       "41                108     6.6  137502              148.21       66.0  \n",
       "42                110     7.8  271940               22.49       53.0  \n",
       "43                180     7.0   44227                 NaN        NaN  "
      ]
     },
     "execution_count": 145,
     "metadata": {},
     "output_type": "execute_result"
    }
   ],
   "source": [
    "movies.tail()"
   ]
  },
  {
   "cell_type": "markdown",
   "metadata": {},
   "source": [
    "In Excel, you’re able to sort a sheet based on the values in one or more columns. In pandas, you can do the same thing with the `sort_values method`. For example, let’s sort our movies DataFrame based on the Revenue column."
   ]
  },
  {
   "cell_type": "code",
   "execution_count": 146,
   "metadata": {
    "ExecuteTime": {
     "end_time": "2019-03-24T22:43:24.936497Z",
     "start_time": "2019-03-24T22:43:24.915010Z"
    }
   },
   "outputs": [],
   "source": [
    "sorted_by_gross = movies.sort_values(['Revenue (Millions)'], ascending=False)"
   ]
  },
  {
   "cell_type": "markdown",
   "metadata": {},
   "source": [
    "Since we have the data sorted by values in a column, we can do few interesting things with it. For example, we can display the top 10 movies by Revenues."
   ]
  },
  {
   "cell_type": "code",
   "execution_count": 147,
   "metadata": {
    "ExecuteTime": {
     "end_time": "2019-03-24T22:43:25.026441Z",
     "start_time": "2019-03-24T22:43:24.948729Z"
    }
   },
   "outputs": [
    {
     "data": {
      "text/plain": [
       "1     760.51\n",
       "0     533.32\n",
       "1     423.03\n",
       "37    414.98\n",
       "32    402.08\n",
       "12    336.53\n",
       "25    334.19\n",
       "7     318.76\n",
       "4     318.30\n",
       "34    317.01\n",
       "Name: Revenue (Millions), dtype: float64"
      ]
     },
     "execution_count": 147,
     "metadata": {},
     "output_type": "execute_result"
    }
   ],
   "source": [
    "sorted_by_gross['Revenue (Millions)'].head(10)"
   ]
  },
  {
   "cell_type": "markdown",
   "metadata": {},
   "source": [
    "We can also create a plot for the top 10 movies by Revenue. As we saw in previous sections Pandas makes it easy to visualize your data with plots and charts through matplotlib, a popular data visualization library. With a couple lines of code, you can start plotting. Moreover, matplotlib plots work well inside Jupyter Notebooks since you can displace the plots right under the code.\n",
    "\n",
    "First, we import the matplotlib module and set matplotlib to display the plots right in the Jupyter Notebook.\n",
    "\n",
    "We will draw a bar plot where each bar will represent one of the top 10 movies. We can do this by calling the plot method and setting the argument kind to barh. This tells matplotlib to draw a horizontal bar plot."
   ]
  },
  {
   "cell_type": "code",
   "execution_count": 148,
   "metadata": {
    "ExecuteTime": {
     "end_time": "2019-03-24T22:43:26.137335Z",
     "start_time": "2019-03-24T22:43:25.038455Z"
    }
   },
   "outputs": [
    {
     "data": {
      "image/png": "[encoded data removed]",
      "text/plain": [
       "<Figure size 432x288 with 1 Axes>"
      ]
     },
     "metadata": {
      "needs_background": "light"
     },
     "output_type": "display_data"
    }
   ],
   "source": [
    "%matplotlib inline\n",
    "import matplotlib.pyplot as plt\n",
    "sorted_by_gross['Revenue (Millions)'].head(10).plot(kind=\"barh\")\n",
    "plt.show()"
   ]
  },
  {
   "cell_type": "markdown",
   "metadata": {},
   "source": [
    "Let’s create a histogram of IMDB Scores to check the distribution of IMDB Scores across all movies. Histograms are a good way to visualize the distribution of a data set. We use the `plot` method on the IMDB Scores series from our movies DataFrame and pass it the argument."
   ]
  },
  {
   "cell_type": "code",
   "execution_count": 149,
   "metadata": {
    "ExecuteTime": {
     "end_time": "2019-03-24T22:43:27.536232Z",
     "start_time": "2019-03-24T22:43:26.152666Z"
    },
    "scrolled": true
   },
   "outputs": [
    {
     "data": {
      "image/png": "[encoded data removed]",
      "text/plain": [
       "<Figure size 432x288 with 1 Axes>"
      ]
     },
     "metadata": {
      "needs_background": "light"
     },
     "output_type": "display_data"
    }
   ],
   "source": [
    "movies['Rating'].plot(kind=\"hist\")\n",
    "plt.show()"
   ]
  },
  {
   "cell_type": "markdown",
   "metadata": {},
   "source": [
    "This data visualization suggests that most of the IMDB Scores fall between six and eight."
   ]
  },
  {
   "cell_type": "markdown",
   "metadata": {},
   "source": [
    "## Getting statistical information about the data\n",
    "Pandas has some very handy methods to look at the statistical data about our data set. For example, we can use the `describe` method to get a statistical summary of the data set."
   ]
  },
  {
   "cell_type": "code",
   "execution_count": 150,
   "metadata": {
    "ExecuteTime": {
     "end_time": "2019-03-24T22:43:27.824668Z",
     "start_time": "2019-03-24T22:43:27.573734Z"
    }
   },
   "outputs": [
    {
     "data": {
      "text/html": [
       "<div>\n",
       "<style scoped>\n",
       "    .dataframe tbody tr th:only-of-type {\n",
       "        vertical-align: middle;\n",
       "    }\n",
       "\n",
       "    .dataframe tbody tr th {\n",
       "        vertical-align: top;\n",
       "    }\n",
       "\n",
       "    .dataframe thead th {\n",
       "        text-align: right;\n",
       "    }\n",
       "</style>\n",
       "<table border=\"1\" class=\"dataframe\">\n",
       "  <thead>\n",
       "    <tr style=\"text-align: right;\">\n",
       "      <th></th>\n",
       "      <th>Rank</th>\n",
       "      <th>Year</th>\n",
       "      <th>Runtime (Minutes)</th>\n",
       "      <th>Rating</th>\n",
       "      <th>Votes</th>\n",
       "      <th>Revenue (Millions)</th>\n",
       "      <th>Metascore</th>\n",
       "    </tr>\n",
       "  </thead>\n",
       "  <tbody>\n",
       "    <tr>\n",
       "      <th>count</th>\n",
       "      <td>260.000000</td>\n",
       "      <td>260.000000</td>\n",
       "      <td>260.000000</td>\n",
       "      <td>260.000000</td>\n",
       "      <td>2.600000e+02</td>\n",
       "      <td>246.000000</td>\n",
       "      <td>244.000000</td>\n",
       "    </tr>\n",
       "    <tr>\n",
       "      <th>mean</th>\n",
       "      <td>592.896154</td>\n",
       "      <td>2008.115385</td>\n",
       "      <td>115.830769</td>\n",
       "      <td>6.957692</td>\n",
       "      <td>2.589859e+05</td>\n",
       "      <td>98.641545</td>\n",
       "      <td>60.344262</td>\n",
       "    </tr>\n",
       "    <tr>\n",
       "      <th>std</th>\n",
       "      <td>256.899483</td>\n",
       "      <td>1.412217</td>\n",
       "      <td>19.970302</td>\n",
       "      <td>0.954394</td>\n",
       "      <td>2.210388e+05</td>\n",
       "      <td>103.489295</td>\n",
       "      <td>16.870736</td>\n",
       "    </tr>\n",
       "    <tr>\n",
       "      <th>min</th>\n",
       "      <td>40.000000</td>\n",
       "      <td>2006.000000</td>\n",
       "      <td>84.000000</td>\n",
       "      <td>1.900000</td>\n",
       "      <td>2.410000e+02</td>\n",
       "      <td>0.020000</td>\n",
       "      <td>15.000000</td>\n",
       "    </tr>\n",
       "    <tr>\n",
       "      <th>25%</th>\n",
       "      <td>416.250000</td>\n",
       "      <td>2007.000000</td>\n",
       "      <td>101.000000</td>\n",
       "      <td>6.500000</td>\n",
       "      <td>1.170815e+05</td>\n",
       "      <td>25.170000</td>\n",
       "      <td>48.750000</td>\n",
       "    </tr>\n",
       "    <tr>\n",
       "      <th>50%</th>\n",
       "      <td>611.500000</td>\n",
       "      <td>2008.000000</td>\n",
       "      <td>112.000000</td>\n",
       "      <td>7.100000</td>\n",
       "      <td>1.998800e+05</td>\n",
       "      <td>67.610000</td>\n",
       "      <td>61.500000</td>\n",
       "    </tr>\n",
       "    <tr>\n",
       "      <th>75%</th>\n",
       "      <td>815.250000</td>\n",
       "      <td>2009.000000</td>\n",
       "      <td>125.000000</td>\n",
       "      <td>7.700000</td>\n",
       "      <td>3.297092e+05</td>\n",
       "      <td>134.557500</td>\n",
       "      <td>73.000000</td>\n",
       "    </tr>\n",
       "    <tr>\n",
       "      <th>max</th>\n",
       "      <td>998.000000</td>\n",
       "      <td>2010.000000</td>\n",
       "      <td>191.000000</td>\n",
       "      <td>9.000000</td>\n",
       "      <td>1.791916e+06</td>\n",
       "      <td>760.510000</td>\n",
       "      <td>98.000000</td>\n",
       "    </tr>\n",
       "  </tbody>\n",
       "</table>\n",
       "</div>"
      ],
      "text/plain": [
       "             Rank         Year  Runtime (Minutes)      Rating         Votes  \\\n",
       "count  260.000000   260.000000         260.000000  260.000000  2.600000e+02   \n",
       "mean   592.896154  2008.115385         115.830769    6.957692  2.589859e+05   \n",
       "std    256.899483     1.412217          19.970302    0.954394  2.210388e+05   \n",
       "min     40.000000  2006.000000          84.000000    1.900000  2.410000e+02   \n",
       "25%    416.250000  2007.000000         101.000000    6.500000  1.170815e+05   \n",
       "50%    611.500000  2008.000000         112.000000    7.100000  1.998800e+05   \n",
       "75%    815.250000  2009.000000         125.000000    7.700000  3.297092e+05   \n",
       "max    998.000000  2010.000000         191.000000    9.000000  1.791916e+06   \n",
       "\n",
       "       Revenue (Millions)   Metascore  \n",
       "count          246.000000  244.000000  \n",
       "mean            98.641545   60.344262  \n",
       "std            103.489295   16.870736  \n",
       "min              0.020000   15.000000  \n",
       "25%             25.170000   48.750000  \n",
       "50%             67.610000   61.500000  \n",
       "75%            134.557500   73.000000  \n",
       "max            760.510000   98.000000  "
      ]
     },
     "execution_count": 150,
     "metadata": {},
     "output_type": "execute_result"
    }
   ],
   "source": [
    "movies.describe()"
   ]
  },
  {
   "cell_type": "markdown",
   "metadata": {},
   "source": [
    "The `describe` method displays below information for each of the columns.\n",
    "\n",
    "- the count or number of values\n",
    "- mean\n",
    "- standard deviation\n",
    "- minimum, maximum\n",
    "- 25%, 50%, and 75% quantile\n",
    "\n",
    "Please note that this information will be calculated only for the numeric values.\n",
    "\n",
    "We can also use the corresponding method to access this information one at a time. For example, to get the `mean` of a particular column, you can use the mean method on that column."
   ]
  },
  {
   "cell_type": "code",
   "execution_count": 151,
   "metadata": {
    "ExecuteTime": {
     "end_time": "2019-03-24T22:43:27.872762Z",
     "start_time": "2019-03-24T22:43:27.848782Z"
    }
   },
   "outputs": [
    {
     "data": {
      "text/plain": [
       "98.64154471544715"
      ]
     },
     "execution_count": 151,
     "metadata": {},
     "output_type": "execute_result"
    }
   ],
   "source": [
    "movies['Revenue (Millions)'].mean()"
   ]
  },
  {
   "cell_type": "markdown",
   "metadata": {},
   "source": [
    "Just like `mean`, there are methods available for each of the statistical information we want to access. You can the pandas cheat sheet."
   ]
  },
  {
   "cell_type": "markdown",
   "metadata": {},
   "source": [
    "## Reading files with no header and skipping records\n",
    "Earlier in this tutorial, we saw some ways to read a particular kind of Excel file that had headers and no rows that needed skipping. Sometimes, the Excel sheet doesn’t have any header row. For such instances, you can tell pandas not to consider the first row as header or columns names. And If the Excel sheet’s first few rows contain data that should not be read in, you can ask the `read_excel` method to skip a certain number of rows, starting from the top.\n",
    "\n",
    "This file obviously has no header and first 3 rows are not actual records and hence should not be read in. We can tell `read_excel` there is no `header` by setting argument `header` to `None` and we can skip first four rows by setting argument `skiprows` to 3."
   ]
  },
  {
   "cell_type": "code",
   "execution_count": 152,
   "metadata": {
    "ExecuteTime": {
     "end_time": "2019-03-24T22:43:28.528477Z",
     "start_time": "2019-03-24T22:43:27.887208Z"
    },
    "scrolled": false
   },
   "outputs": [
    {
     "data": {
      "text/html": [
       "<div>\n",
       "<style scoped>\n",
       "    .dataframe tbody tr th:only-of-type {\n",
       "        vertical-align: middle;\n",
       "    }\n",
       "\n",
       "    .dataframe tbody tr th {\n",
       "        vertical-align: top;\n",
       "    }\n",
       "\n",
       "    .dataframe thead th {\n",
       "        text-align: right;\n",
       "    }\n",
       "</style>\n",
       "<table border=\"1\" class=\"dataframe\">\n",
       "  <thead>\n",
       "    <tr style=\"text-align: right;\">\n",
       "      <th></th>\n",
       "      <th>0</th>\n",
       "      <th>1</th>\n",
       "      <th>2</th>\n",
       "      <th>3</th>\n",
       "      <th>4</th>\n",
       "      <th>5</th>\n",
       "      <th>6</th>\n",
       "      <th>7</th>\n",
       "      <th>8</th>\n",
       "      <th>9</th>\n",
       "      <th>10</th>\n",
       "      <th>11</th>\n",
       "    </tr>\n",
       "  </thead>\n",
       "  <tbody>\n",
       "    <tr>\n",
       "      <th>0</th>\n",
       "      <td>81</td>\n",
       "      <td>Inception</td>\n",
       "      <td>Action,Adventure,Sci-Fi</td>\n",
       "      <td>A thief, who steals corporate secrets through ...</td>\n",
       "      <td>Christopher Nolan</td>\n",
       "      <td>Leonardo DiCaprio, Joseph Gordon-Levitt, Ellen...</td>\n",
       "      <td>2010</td>\n",
       "      <td>148</td>\n",
       "      <td>8.8</td>\n",
       "      <td>1583625</td>\n",
       "      <td>292.57</td>\n",
       "      <td>74.0</td>\n",
       "    </tr>\n",
       "    <tr>\n",
       "      <th>1</th>\n",
       "      <td>139</td>\n",
       "      <td>Shutter Island</td>\n",
       "      <td>Mystery,Thriller</td>\n",
       "      <td>In 1954, a U.S. marshal investigates the disap...</td>\n",
       "      <td>Martin Scorsese</td>\n",
       "      <td>Leonardo DiCaprio, Emily Mortimer, Mark Ruffal...</td>\n",
       "      <td>2010</td>\n",
       "      <td>138</td>\n",
       "      <td>8.1</td>\n",
       "      <td>855604</td>\n",
       "      <td>127.97</td>\n",
       "      <td>63.0</td>\n",
       "    </tr>\n",
       "    <tr>\n",
       "      <th>2</th>\n",
       "      <td>142</td>\n",
       "      <td>Diary of a Wimpy Kid</td>\n",
       "      <td>Comedy,Family</td>\n",
       "      <td>The adventures of a teenager who is fresh out ...</td>\n",
       "      <td>Thor Freudenthal</td>\n",
       "      <td>Zachary Gordon, Robert Capron, Rachael Harris,...</td>\n",
       "      <td>2010</td>\n",
       "      <td>94</td>\n",
       "      <td>6.2</td>\n",
       "      <td>34184</td>\n",
       "      <td>64.00</td>\n",
       "      <td>56.0</td>\n",
       "    </tr>\n",
       "    <tr>\n",
       "      <th>3</th>\n",
       "      <td>159</td>\n",
       "      <td>Scott Pilgrim vs. the World</td>\n",
       "      <td>Action,Comedy,Fantasy</td>\n",
       "      <td>Scott Pilgrim must defeat his new girlfriend's...</td>\n",
       "      <td>Edgar Wright</td>\n",
       "      <td>Michael Cera, Mary Elizabeth Winstead, Kieran ...</td>\n",
       "      <td>2010</td>\n",
       "      <td>112</td>\n",
       "      <td>7.5</td>\n",
       "      <td>291457</td>\n",
       "      <td>31.49</td>\n",
       "      <td>69.0</td>\n",
       "    </tr>\n",
       "    <tr>\n",
       "      <th>4</th>\n",
       "      <td>220</td>\n",
       "      <td>Kick-Ass</td>\n",
       "      <td>Action,Comedy</td>\n",
       "      <td>Dave Lizewski is an unnoticed high school stud...</td>\n",
       "      <td>Matthew Vaughn</td>\n",
       "      <td>Aaron Taylor-Johnson, Nicolas Cage, Chlo√´ Gra...</td>\n",
       "      <td>2010</td>\n",
       "      <td>117</td>\n",
       "      <td>7.7</td>\n",
       "      <td>456749</td>\n",
       "      <td>48.04</td>\n",
       "      <td>66.0</td>\n",
       "    </tr>\n",
       "  </tbody>\n",
       "</table>\n",
       "</div>"
      ],
      "text/plain": [
       "    0                            1                        2   \\\n",
       "0   81                    Inception  Action,Adventure,Sci-Fi   \n",
       "1  139               Shutter Island         Mystery,Thriller   \n",
       "2  142         Diary of a Wimpy Kid            Comedy,Family   \n",
       "3  159  Scott Pilgrim vs. the World    Action,Comedy,Fantasy   \n",
       "4  220                     Kick-Ass            Action,Comedy   \n",
       "\n",
       "                                                  3                  4   \\\n",
       "0  A thief, who steals corporate secrets through ...  Christopher Nolan   \n",
       "1  In 1954, a U.S. marshal investigates the disap...    Martin Scorsese   \n",
       "2  The adventures of a teenager who is fresh out ...   Thor Freudenthal   \n",
       "3  Scott Pilgrim must defeat his new girlfriend's...       Edgar Wright   \n",
       "4  Dave Lizewski is an unnoticed high school stud...     Matthew Vaughn   \n",
       "\n",
       "                                                  5     6    7    8        9   \\\n",
       "0  Leonardo DiCaprio, Joseph Gordon-Levitt, Ellen...  2010  148  8.8  1583625   \n",
       "1  Leonardo DiCaprio, Emily Mortimer, Mark Ruffal...  2010  138  8.1   855604   \n",
       "2  Zachary Gordon, Robert Capron, Rachael Harris,...  2010   94  6.2    34184   \n",
       "3  Michael Cera, Mary Elizabeth Winstead, Kieran ...  2010  112  7.5   291457   \n",
       "4  Aaron Taylor-Johnson, Nicolas Cage, Chlo√´ Gra...  2010  117  7.7   456749   \n",
       "\n",
       "       10    11  \n",
       "0  292.57  74.0  \n",
       "1  127.97  63.0  \n",
       "2   64.00  56.0  \n",
       "3   31.49  69.0  \n",
       "4   48.04  66.0  "
      ]
     },
     "execution_count": 152,
     "metadata": {},
     "output_type": "execute_result"
    }
   ],
   "source": [
    "movies_skip_rows = pd.read_excel(\"movies-no-header-skip-rows.xlsx\", header=None, skiprows=3)\n",
    "movies_skip_rows.head(5)"
   ]
  },
  {
   "cell_type": "markdown",
   "metadata": {},
   "source": [
    "We skipped four rows from the sheet and used none of the rows as the header. Also, notice that one can combine different options in a single read statement. To skip rows at the bottom of the sheet, you can use option `skip_footer`, which works just like `skiprows`, the only difference being the rows are counted from the bottom upwards.\n",
    "\n",
    "The column names in the previous DataFrame are numeric and were allotted as default by the pandas. We can rename the column names to descriptive ones by calling the method `columns` on the DataFrame and passing the column names as a list."
   ]
  },
  {
   "cell_type": "code",
   "execution_count": 153,
   "metadata": {
    "ExecuteTime": {
     "end_time": "2019-03-24T22:43:28.659808Z",
     "start_time": "2019-03-24T22:43:28.543858Z"
    }
   },
   "outputs": [
    {
     "data": {
      "text/html": [
       "<div>\n",
       "<style scoped>\n",
       "    .dataframe tbody tr th:only-of-type {\n",
       "        vertical-align: middle;\n",
       "    }\n",
       "\n",
       "    .dataframe tbody tr th {\n",
       "        vertical-align: top;\n",
       "    }\n",
       "\n",
       "    .dataframe thead th {\n",
       "        text-align: right;\n",
       "    }\n",
       "</style>\n",
       "<table border=\"1\" class=\"dataframe\">\n",
       "  <thead>\n",
       "    <tr style=\"text-align: right;\">\n",
       "      <th></th>\n",
       "      <th>Rank</th>\n",
       "      <th>Title</th>\n",
       "      <th>Genre</th>\n",
       "      <th>Description</th>\n",
       "      <th>Director</th>\n",
       "      <th>Actors</th>\n",
       "      <th>Year</th>\n",
       "      <th>Runtime (Minutes)</th>\n",
       "      <th>Rating</th>\n",
       "      <th>Votes</th>\n",
       "      <th>Revenue (Millions)</th>\n",
       "      <th>Metascore</th>\n",
       "    </tr>\n",
       "  </thead>\n",
       "  <tbody>\n",
       "    <tr>\n",
       "      <th>0</th>\n",
       "      <td>81</td>\n",
       "      <td>Inception</td>\n",
       "      <td>Action,Adventure,Sci-Fi</td>\n",
       "      <td>A thief, who steals corporate secrets through ...</td>\n",
       "      <td>Christopher Nolan</td>\n",
       "      <td>Leonardo DiCaprio, Joseph Gordon-Levitt, Ellen...</td>\n",
       "      <td>2010</td>\n",
       "      <td>148</td>\n",
       "      <td>8.8</td>\n",
       "      <td>1583625</td>\n",
       "      <td>292.57</td>\n",
       "      <td>74.0</td>\n",
       "    </tr>\n",
       "    <tr>\n",
       "      <th>1</th>\n",
       "      <td>139</td>\n",
       "      <td>Shutter Island</td>\n",
       "      <td>Mystery,Thriller</td>\n",
       "      <td>In 1954, a U.S. marshal investigates the disap...</td>\n",
       "      <td>Martin Scorsese</td>\n",
       "      <td>Leonardo DiCaprio, Emily Mortimer, Mark Ruffal...</td>\n",
       "      <td>2010</td>\n",
       "      <td>138</td>\n",
       "      <td>8.1</td>\n",
       "      <td>855604</td>\n",
       "      <td>127.97</td>\n",
       "      <td>63.0</td>\n",
       "    </tr>\n",
       "    <tr>\n",
       "      <th>2</th>\n",
       "      <td>142</td>\n",
       "      <td>Diary of a Wimpy Kid</td>\n",
       "      <td>Comedy,Family</td>\n",
       "      <td>The adventures of a teenager who is fresh out ...</td>\n",
       "      <td>Thor Freudenthal</td>\n",
       "      <td>Zachary Gordon, Robert Capron, Rachael Harris,...</td>\n",
       "      <td>2010</td>\n",
       "      <td>94</td>\n",
       "      <td>6.2</td>\n",
       "      <td>34184</td>\n",
       "      <td>64.00</td>\n",
       "      <td>56.0</td>\n",
       "    </tr>\n",
       "    <tr>\n",
       "      <th>3</th>\n",
       "      <td>159</td>\n",
       "      <td>Scott Pilgrim vs. the World</td>\n",
       "      <td>Action,Comedy,Fantasy</td>\n",
       "      <td>Scott Pilgrim must defeat his new girlfriend's...</td>\n",
       "      <td>Edgar Wright</td>\n",
       "      <td>Michael Cera, Mary Elizabeth Winstead, Kieran ...</td>\n",
       "      <td>2010</td>\n",
       "      <td>112</td>\n",
       "      <td>7.5</td>\n",
       "      <td>291457</td>\n",
       "      <td>31.49</td>\n",
       "      <td>69.0</td>\n",
       "    </tr>\n",
       "    <tr>\n",
       "      <th>4</th>\n",
       "      <td>220</td>\n",
       "      <td>Kick-Ass</td>\n",
       "      <td>Action,Comedy</td>\n",
       "      <td>Dave Lizewski is an unnoticed high school stud...</td>\n",
       "      <td>Matthew Vaughn</td>\n",
       "      <td>Aaron Taylor-Johnson, Nicolas Cage, Chlo√´ Gra...</td>\n",
       "      <td>2010</td>\n",
       "      <td>117</td>\n",
       "      <td>7.7</td>\n",
       "      <td>456749</td>\n",
       "      <td>48.04</td>\n",
       "      <td>66.0</td>\n",
       "    </tr>\n",
       "  </tbody>\n",
       "</table>\n",
       "</div>"
      ],
      "text/plain": [
       "   Rank                        Title                    Genre  \\\n",
       "0    81                    Inception  Action,Adventure,Sci-Fi   \n",
       "1   139               Shutter Island         Mystery,Thriller   \n",
       "2   142         Diary of a Wimpy Kid            Comedy,Family   \n",
       "3   159  Scott Pilgrim vs. the World    Action,Comedy,Fantasy   \n",
       "4   220                     Kick-Ass            Action,Comedy   \n",
       "\n",
       "                                         Description           Director  \\\n",
       "0  A thief, who steals corporate secrets through ...  Christopher Nolan   \n",
       "1  In 1954, a U.S. marshal investigates the disap...    Martin Scorsese   \n",
       "2  The adventures of a teenager who is fresh out ...   Thor Freudenthal   \n",
       "3  Scott Pilgrim must defeat his new girlfriend's...       Edgar Wright   \n",
       "4  Dave Lizewski is an unnoticed high school stud...     Matthew Vaughn   \n",
       "\n",
       "                                              Actors  Year  Runtime (Minutes)  \\\n",
       "0  Leonardo DiCaprio, Joseph Gordon-Levitt, Ellen...  2010                148   \n",
       "1  Leonardo DiCaprio, Emily Mortimer, Mark Ruffal...  2010                138   \n",
       "2  Zachary Gordon, Robert Capron, Rachael Harris,...  2010                 94   \n",
       "3  Michael Cera, Mary Elizabeth Winstead, Kieran ...  2010                112   \n",
       "4  Aaron Taylor-Johnson, Nicolas Cage, Chlo√´ Gra...  2010                117   \n",
       "\n",
       "   Rating    Votes  Revenue (Millions)  Metascore  \n",
       "0     8.8  1583625              292.57       74.0  \n",
       "1     8.1   855604              127.97       63.0  \n",
       "2     6.2    34184               64.00       56.0  \n",
       "3     7.5   291457               31.49       69.0  \n",
       "4     7.7   456749               48.04       66.0  "
      ]
     },
     "execution_count": 153,
     "metadata": {},
     "output_type": "execute_result"
    }
   ],
   "source": [
    "movies_skip_rows.columns = ['Rank','Title','Genre','Description','Director','Actors','Year','Runtime (Minutes)','Rating','Votes','Revenue (Millions)','Metascore']\n",
    "movies_skip_rows.head()"
   ]
  },
  {
   "cell_type": "markdown",
   "metadata": {},
   "source": [
    "Now that we have seen how to read a subset of rows from the Excel file, we can learn how to read a subset of columns."
   ]
  },
  {
   "cell_type": "markdown",
   "metadata": {},
   "source": [
    "## Reading a subset of columns\n",
    "Although read_excel defaults to reading and importing all columns, you can choose to import only certain columns. By passing the list, we are telling the `read_excel` method to read only the columns specified as index (the first column being indexed zero)."
   ]
  },
  {
   "cell_type": "code",
   "execution_count": 154,
   "metadata": {
    "ExecuteTime": {
     "end_time": "2019-03-24T22:43:29.274305Z",
     "start_time": "2019-03-24T22:43:28.675064Z"
    },
    "scrolled": true
   },
   "outputs": [
    {
     "data": {
      "text/html": [
       "<div>\n",
       "<style scoped>\n",
       "    .dataframe tbody tr th:only-of-type {\n",
       "        vertical-align: middle;\n",
       "    }\n",
       "\n",
       "    .dataframe tbody tr th {\n",
       "        vertical-align: top;\n",
       "    }\n",
       "\n",
       "    .dataframe thead th {\n",
       "        text-align: right;\n",
       "    }\n",
       "</style>\n",
       "<table border=\"1\" class=\"dataframe\">\n",
       "  <thead>\n",
       "    <tr style=\"text-align: right;\">\n",
       "      <th></th>\n",
       "      <th>Rank</th>\n",
       "      <th>Title</th>\n",
       "      <th>Genre</th>\n",
       "      <th>Description</th>\n",
       "      <th>Director</th>\n",
       "      <th>Actors</th>\n",
       "      <th>Year</th>\n",
       "    </tr>\n",
       "  </thead>\n",
       "  <tbody>\n",
       "    <tr>\n",
       "      <th>0</th>\n",
       "      <td>81</td>\n",
       "      <td>Inception</td>\n",
       "      <td>Action,Adventure,Sci-Fi</td>\n",
       "      <td>A thief, who steals corporate secrets through ...</td>\n",
       "      <td>Christopher Nolan</td>\n",
       "      <td>Leonardo DiCaprio, Joseph Gordon-Levitt, Ellen...</td>\n",
       "      <td>2010</td>\n",
       "    </tr>\n",
       "    <tr>\n",
       "      <th>1</th>\n",
       "      <td>139</td>\n",
       "      <td>Shutter Island</td>\n",
       "      <td>Mystery,Thriller</td>\n",
       "      <td>In 1954, a U.S. marshal investigates the disap...</td>\n",
       "      <td>Martin Scorsese</td>\n",
       "      <td>Leonardo DiCaprio, Emily Mortimer, Mark Ruffal...</td>\n",
       "      <td>2010</td>\n",
       "    </tr>\n",
       "    <tr>\n",
       "      <th>2</th>\n",
       "      <td>142</td>\n",
       "      <td>Diary of a Wimpy Kid</td>\n",
       "      <td>Comedy,Family</td>\n",
       "      <td>The adventures of a teenager who is fresh out ...</td>\n",
       "      <td>Thor Freudenthal</td>\n",
       "      <td>Zachary Gordon, Robert Capron, Rachael Harris,...</td>\n",
       "      <td>2010</td>\n",
       "    </tr>\n",
       "    <tr>\n",
       "      <th>3</th>\n",
       "      <td>159</td>\n",
       "      <td>Scott Pilgrim vs. the World</td>\n",
       "      <td>Action,Comedy,Fantasy</td>\n",
       "      <td>Scott Pilgrim must defeat his new girlfriend's...</td>\n",
       "      <td>Edgar Wright</td>\n",
       "      <td>Michael Cera, Mary Elizabeth Winstead, Kieran ...</td>\n",
       "      <td>2010</td>\n",
       "    </tr>\n",
       "    <tr>\n",
       "      <th>4</th>\n",
       "      <td>220</td>\n",
       "      <td>Kick-Ass</td>\n",
       "      <td>Action,Comedy</td>\n",
       "      <td>Dave Lizewski is an unnoticed high school stud...</td>\n",
       "      <td>Matthew Vaughn</td>\n",
       "      <td>Aaron Taylor-Johnson, Nicolas Cage, Chlo√´ Gra...</td>\n",
       "      <td>2010</td>\n",
       "    </tr>\n",
       "  </tbody>\n",
       "</table>\n",
       "</div>"
      ],
      "text/plain": [
       "   Rank                        Title                    Genre  \\\n",
       "0    81                    Inception  Action,Adventure,Sci-Fi   \n",
       "1   139               Shutter Island         Mystery,Thriller   \n",
       "2   142         Diary of a Wimpy Kid            Comedy,Family   \n",
       "3   159  Scott Pilgrim vs. the World    Action,Comedy,Fantasy   \n",
       "4   220                     Kick-Ass            Action,Comedy   \n",
       "\n",
       "                                         Description           Director  \\\n",
       "0  A thief, who steals corporate secrets through ...  Christopher Nolan   \n",
       "1  In 1954, a U.S. marshal investigates the disap...    Martin Scorsese   \n",
       "2  The adventures of a teenager who is fresh out ...   Thor Freudenthal   \n",
       "3  Scott Pilgrim must defeat his new girlfriend's...       Edgar Wright   \n",
       "4  Dave Lizewski is an unnoticed high school stud...     Matthew Vaughn   \n",
       "\n",
       "                                              Actors  Year  \n",
       "0  Leonardo DiCaprio, Joseph Gordon-Levitt, Ellen...  2010  \n",
       "1  Leonardo DiCaprio, Emily Mortimer, Mark Ruffal...  2010  \n",
       "2  Zachary Gordon, Robert Capron, Rachael Harris,...  2010  \n",
       "3  Michael Cera, Mary Elizabeth Winstead, Kieran ...  2010  \n",
       "4  Aaron Taylor-Johnson, Nicolas Cage, Chlo√´ Gra...  2010  "
      ]
     },
     "execution_count": 154,
     "metadata": {},
     "output_type": "execute_result"
    }
   ],
   "source": [
    "movies_subset_columns = pd.read_excel(excel_file, usecols=[0,1,2,3,4,5,6])\n",
    "movies_subset_columns.head()"
   ]
  },
  {
   "cell_type": "markdown",
   "metadata": {},
   "source": [
    "## Applying formulas on the columns\n",
    "One of the much-used features of Excel is to apply formulas to create new columns from existing column values. In our Excel file, we have Revenue column. We can get Net earnings by subtracting taxes 19%. We could then apply this formula in the Excel file to all the rows. We can do this in pandas also as shown below."
   ]
  },
  {
   "cell_type": "code",
   "execution_count": 155,
   "metadata": {
    "ExecuteTime": {
     "end_time": "2019-03-24T22:43:31.071620Z",
     "start_time": "2019-03-24T22:43:29.288327Z"
    }
   },
   "outputs": [],
   "source": [
    "movies = pd.read_excel(\"IMDB-Movie-Data-full.xlsx\", header=0)\n",
    "\n",
    "movies[\"Net Earnings\"] = movies[\"Revenue (Millions)\"] * 0.81 # 19% taxes"
   ]
  },
  {
   "cell_type": "markdown",
   "metadata": {},
   "source": [
    "Above, we used pandas to create a new column called Net Earnings, and populated it with the difference of Gross Earnings and Budget. It’s worth noting the difference here in how formulas are treated in Excel versus pandas. In Excel, a formula lives in the cell and updates when the data changes – with Python, the calculations happen and the values are stored – if Gross Earnings for one movie was manually changed, Net Earnings won’t be updated.\n",
    "\n",
    "Let’s use the `sort_values` method to sort the data by the new column we created and visualize the top 10 movies by Net Earnings."
   ]
  },
  {
   "cell_type": "code",
   "execution_count": 156,
   "metadata": {
    "ExecuteTime": {
     "end_time": "2019-03-24T22:43:32.099544Z",
     "start_time": "2019-03-24T22:43:31.084184Z"
    }
   },
   "outputs": [
    {
     "data": {
      "image/png": "[encoded data removed]",
      "text/plain": [
       "<Figure size 432x288 with 1 Axes>"
      ]
     },
     "metadata": {
      "needs_background": "light"
     },
     "output_type": "display_data"
    }
   ],
   "source": [
    "sorted_movies = movies[['Net Earnings']].sort_values(['Net Earnings'], ascending=False)\n",
    "sorted_movies.head(10)['Net Earnings'].plot.barh()\n",
    "plt.show()"
   ]
  },
  {
   "cell_type": "markdown",
   "metadata": {},
   "source": [
    "## Pivot Table in pandas\n",
    "Advanced Excel users also often use pivot tables. A pivot table summarizes the data of another table by grouping the data on an index and applying operations such as sorting, summing, or averaging. You can use this feature in pandas too.\n",
    "\n",
    "We need to first identify the column or columns that will serve as the index, and the column(s) on which the summarizing formula will be applied. Let’s start small, by choosing Year as the index column and revenue as the summarization column and creating a separate DataFrame from this data."
   ]
  },
  {
   "cell_type": "code",
   "execution_count": 157,
   "metadata": {
    "ExecuteTime": {
     "end_time": "2019-03-24T22:43:32.168393Z",
     "start_time": "2019-03-24T22:43:32.112402Z"
    }
   },
   "outputs": [
    {
     "data": {
      "text/html": [
       "<div>\n",
       "<style scoped>\n",
       "    .dataframe tbody tr th:only-of-type {\n",
       "        vertical-align: middle;\n",
       "    }\n",
       "\n",
       "    .dataframe tbody tr th {\n",
       "        vertical-align: top;\n",
       "    }\n",
       "\n",
       "    .dataframe thead th {\n",
       "        text-align: right;\n",
       "    }\n",
       "</style>\n",
       "<table border=\"1\" class=\"dataframe\">\n",
       "  <thead>\n",
       "    <tr style=\"text-align: right;\">\n",
       "      <th></th>\n",
       "      <th>Year</th>\n",
       "      <th>Revenue (Millions)</th>\n",
       "    </tr>\n",
       "  </thead>\n",
       "  <tbody>\n",
       "    <tr>\n",
       "      <th>0</th>\n",
       "      <td>2014</td>\n",
       "      <td>333.13</td>\n",
       "    </tr>\n",
       "    <tr>\n",
       "      <th>1</th>\n",
       "      <td>2012</td>\n",
       "      <td>126.46</td>\n",
       "    </tr>\n",
       "    <tr>\n",
       "      <th>2</th>\n",
       "      <td>2016</td>\n",
       "      <td>138.12</td>\n",
       "    </tr>\n",
       "    <tr>\n",
       "      <th>3</th>\n",
       "      <td>2016</td>\n",
       "      <td>270.32</td>\n",
       "    </tr>\n",
       "    <tr>\n",
       "      <th>4</th>\n",
       "      <td>2016</td>\n",
       "      <td>325.02</td>\n",
       "    </tr>\n",
       "  </tbody>\n",
       "</table>\n",
       "</div>"
      ],
      "text/plain": [
       "   Year  Revenue (Millions)\n",
       "0  2014              333.13\n",
       "1  2012              126.46\n",
       "2  2016              138.12\n",
       "3  2016              270.32\n",
       "4  2016              325.02"
      ]
     },
     "execution_count": 157,
     "metadata": {},
     "output_type": "execute_result"
    }
   ],
   "source": [
    "movies_subset = movies[['Year', 'Revenue (Millions)']]\n",
    "movies_subset.head()"
   ]
  },
  {
   "cell_type": "markdown",
   "metadata": {},
   "source": [
    "We now call `pivot_table` on this subset of data. The method `pivot_table` takes a parameter `index`. As mentioned, we want to use Year as the index."
   ]
  },
  {
   "cell_type": "code",
   "execution_count": 158,
   "metadata": {
    "ExecuteTime": {
     "end_time": "2019-03-24T22:43:32.300903Z",
     "start_time": "2019-03-24T22:43:32.182621Z"
    }
   },
   "outputs": [
    {
     "data": {
      "text/html": [
       "<div>\n",
       "<style scoped>\n",
       "    .dataframe tbody tr th:only-of-type {\n",
       "        vertical-align: middle;\n",
       "    }\n",
       "\n",
       "    .dataframe tbody tr th {\n",
       "        vertical-align: top;\n",
       "    }\n",
       "\n",
       "    .dataframe thead th {\n",
       "        text-align: right;\n",
       "    }\n",
       "</style>\n",
       "<table border=\"1\" class=\"dataframe\">\n",
       "  <thead>\n",
       "    <tr style=\"text-align: right;\">\n",
       "      <th></th>\n",
       "      <th>Revenue (Millions)</th>\n",
       "    </tr>\n",
       "    <tr>\n",
       "      <th>Year</th>\n",
       "      <th></th>\n",
       "    </tr>\n",
       "  </thead>\n",
       "  <tbody>\n",
       "    <tr>\n",
       "      <th>2006</th>\n",
       "      <td>86.296667</td>\n",
       "    </tr>\n",
       "    <tr>\n",
       "      <th>2007</th>\n",
       "      <td>87.882245</td>\n",
       "    </tr>\n",
       "    <tr>\n",
       "      <th>2008</th>\n",
       "      <td>99.082745</td>\n",
       "    </tr>\n",
       "    <tr>\n",
       "      <th>2009</th>\n",
       "      <td>112.601277</td>\n",
       "    </tr>\n",
       "    <tr>\n",
       "      <th>2010</th>\n",
       "      <td>105.081579</td>\n",
       "    </tr>\n",
       "  </tbody>\n",
       "</table>\n",
       "</div>"
      ],
      "text/plain": [
       "      Revenue (Millions)\n",
       "Year                    \n",
       "2006           86.296667\n",
       "2007           87.882245\n",
       "2008           99.082745\n",
       "2009          112.601277\n",
       "2010          105.081579"
      ]
     },
     "execution_count": 158,
     "metadata": {},
     "output_type": "execute_result"
    }
   ],
   "source": [
    "earnings_by_year = movies_subset.pivot_table(index=['Year'])\n",
    "earnings_by_year.head()"
   ]
  },
  {
   "cell_type": "markdown",
   "metadata": {},
   "source": [
    "This gave us a pivot table with grouping on Year and summarization on the sum of Revenues. Notice, we didn’t need to specify Revenue column explicitly as pandas automatically identified it the values on which summarization should be applied.\n",
    "\n",
    "We can use this pivot table to create some data visualizations. We can call the `plot` method on the DataFrame to create a line plot and call the `show` method to display the plot in the notebook."
   ]
  },
  {
   "cell_type": "code",
   "execution_count": 159,
   "metadata": {
    "ExecuteTime": {
     "end_time": "2019-03-24T22:43:33.300193Z",
     "start_time": "2019-03-24T22:43:32.315163Z"
    }
   },
   "outputs": [
    {
     "data": {
      "image/png": "[encoded data removed]",
      "text/plain": [
       "<Figure size 432x288 with 1 Axes>"
      ]
     },
     "metadata": {
      "needs_background": "light"
     },
     "output_type": "display_data"
    }
   ],
   "source": [
    "earnings_by_year.plot()\n",
    "plt.show()"
   ]
  },
  {
   "cell_type": "markdown",
   "metadata": {},
   "source": [
    "We saw how to pivot with a single column as the index. Things will get more interesting if we can use multiple columns. Let’s create another DataFrame subset but this time we will choose the columns, Country, Language and Gross Earnings."
   ]
  },
  {
   "cell_type": "markdown",
   "metadata": {},
   "source": [
    "## Exporting the results to Excel\n",
    "If you’re going to be working with colleagues who use Excel, saving Excel files out of pandas is important. You can export or write a pandas DataFrame to an Excel file using pandas `to_excel` method. Pandas uses the `xlwt` Python module internally for writing to Excel files. The `to_excel` method is called on the DataFrame we want to export.We also need to pass a filename to which this DataFrame will be written."
   ]
  },
  {
   "cell_type": "code",
   "execution_count": 160,
   "metadata": {
    "ExecuteTime": {
     "end_time": "2019-03-24T22:43:36.285568Z",
     "start_time": "2019-03-24T22:43:33.313352Z"
    }
   },
   "outputs": [],
   "source": [
    "movies.to_excel('output.xlsx')"
   ]
  },
  {
   "cell_type": "markdown",
   "metadata": {},
   "source": [
    "By default, the index is also saved to the output file. However, sometimes the index doesn’t provide any useful information. For example, the movies DataFrame has a numeric auto-increment index, that was not part of the original Excel data."
   ]
  },
  {
   "cell_type": "code",
   "execution_count": 161,
   "metadata": {
    "ExecuteTime": {
     "end_time": "2019-03-24T22:43:36.406975Z",
     "start_time": "2019-03-24T22:43:36.298069Z"
    },
    "scrolled": false
   },
   "outputs": [
    {
     "data": {
      "text/html": [
       "<div>\n",
       "<style scoped>\n",
       "    .dataframe tbody tr th:only-of-type {\n",
       "        vertical-align: middle;\n",
       "    }\n",
       "\n",
       "    .dataframe tbody tr th {\n",
       "        vertical-align: top;\n",
       "    }\n",
       "\n",
       "    .dataframe thead th {\n",
       "        text-align: right;\n",
       "    }\n",
       "</style>\n",
       "<table border=\"1\" class=\"dataframe\">\n",
       "  <thead>\n",
       "    <tr style=\"text-align: right;\">\n",
       "      <th></th>\n",
       "      <th>Rank</th>\n",
       "      <th>Title</th>\n",
       "      <th>Genre</th>\n",
       "      <th>Description</th>\n",
       "      <th>Director</th>\n",
       "      <th>Actors</th>\n",
       "      <th>Year</th>\n",
       "      <th>Runtime (Minutes)</th>\n",
       "      <th>Rating</th>\n",
       "      <th>Votes</th>\n",
       "      <th>Revenue (Millions)</th>\n",
       "      <th>Metascore</th>\n",
       "      <th>Net Earnings</th>\n",
       "    </tr>\n",
       "  </thead>\n",
       "  <tbody>\n",
       "    <tr>\n",
       "      <th>0</th>\n",
       "      <td>1</td>\n",
       "      <td>Guardians of the Galaxy</td>\n",
       "      <td>Action,Adventure,Sci-Fi</td>\n",
       "      <td>A group of intergalactic criminals are forced ...</td>\n",
       "      <td>James Gunn</td>\n",
       "      <td>Chris Pratt, Vin Diesel, Bradley Cooper, Zoe S...</td>\n",
       "      <td>2014</td>\n",
       "      <td>121</td>\n",
       "      <td>8.1</td>\n",
       "      <td>757074</td>\n",
       "      <td>333.13</td>\n",
       "      <td>76.0</td>\n",
       "      <td>269.8353</td>\n",
       "    </tr>\n",
       "    <tr>\n",
       "      <th>1</th>\n",
       "      <td>2</td>\n",
       "      <td>Prometheus</td>\n",
       "      <td>Adventure,Mystery,Sci-Fi</td>\n",
       "      <td>Following clues to the origin of mankind, a te...</td>\n",
       "      <td>Ridley Scott</td>\n",
       "      <td>Noomi Rapace, Logan Marshall-Green, Michael Fa...</td>\n",
       "      <td>2012</td>\n",
       "      <td>124</td>\n",
       "      <td>7.0</td>\n",
       "      <td>485820</td>\n",
       "      <td>126.46</td>\n",
       "      <td>65.0</td>\n",
       "      <td>102.4326</td>\n",
       "    </tr>\n",
       "    <tr>\n",
       "      <th>2</th>\n",
       "      <td>3</td>\n",
       "      <td>Split</td>\n",
       "      <td>Horror,Thriller</td>\n",
       "      <td>Three girls are kidnapped by a man with a diag...</td>\n",
       "      <td>M. Night Shyamalan</td>\n",
       "      <td>James McAvoy, Anya Taylor-Joy, Haley Lu Richar...</td>\n",
       "      <td>2016</td>\n",
       "      <td>117</td>\n",
       "      <td>7.3</td>\n",
       "      <td>157606</td>\n",
       "      <td>138.12</td>\n",
       "      <td>62.0</td>\n",
       "      <td>111.8772</td>\n",
       "    </tr>\n",
       "    <tr>\n",
       "      <th>3</th>\n",
       "      <td>4</td>\n",
       "      <td>Sing</td>\n",
       "      <td>Animation,Comedy,Family</td>\n",
       "      <td>In a city of humanoid animals, a hustling thea...</td>\n",
       "      <td>Christophe Lourdelet</td>\n",
       "      <td>Matthew McConaughey,Reese Witherspoon, Seth Ma...</td>\n",
       "      <td>2016</td>\n",
       "      <td>108</td>\n",
       "      <td>7.2</td>\n",
       "      <td>60545</td>\n",
       "      <td>270.32</td>\n",
       "      <td>59.0</td>\n",
       "      <td>218.9592</td>\n",
       "    </tr>\n",
       "    <tr>\n",
       "      <th>4</th>\n",
       "      <td>5</td>\n",
       "      <td>Suicide Squad</td>\n",
       "      <td>Action,Adventure,Fantasy</td>\n",
       "      <td>A secret government agency recruits some of th...</td>\n",
       "      <td>David Ayer</td>\n",
       "      <td>Will Smith, Jared Leto, Margot Robbie, Viola D...</td>\n",
       "      <td>2016</td>\n",
       "      <td>123</td>\n",
       "      <td>6.2</td>\n",
       "      <td>393727</td>\n",
       "      <td>325.02</td>\n",
       "      <td>40.0</td>\n",
       "      <td>263.2662</td>\n",
       "    </tr>\n",
       "  </tbody>\n",
       "</table>\n",
       "</div>"
      ],
      "text/plain": [
       "   Rank                    Title                     Genre  \\\n",
       "0     1  Guardians of the Galaxy   Action,Adventure,Sci-Fi   \n",
       "1     2               Prometheus  Adventure,Mystery,Sci-Fi   \n",
       "2     3                    Split           Horror,Thriller   \n",
       "3     4                     Sing   Animation,Comedy,Family   \n",
       "4     5            Suicide Squad  Action,Adventure,Fantasy   \n",
       "\n",
       "                                         Description              Director  \\\n",
       "0  A group of intergalactic criminals are forced ...            James Gunn   \n",
       "1  Following clues to the origin of mankind, a te...          Ridley Scott   \n",
       "2  Three girls are kidnapped by a man with a diag...    M. Night Shyamalan   \n",
       "3  In a city of humanoid animals, a hustling thea...  Christophe Lourdelet   \n",
       "4  A secret government agency recruits some of th...            David Ayer   \n",
       "\n",
       "                                              Actors  Year  Runtime (Minutes)  \\\n",
       "0  Chris Pratt, Vin Diesel, Bradley Cooper, Zoe S...  2014                121   \n",
       "1  Noomi Rapace, Logan Marshall-Green, Michael Fa...  2012                124   \n",
       "2  James McAvoy, Anya Taylor-Joy, Haley Lu Richar...  2016                117   \n",
       "3  Matthew McConaughey,Reese Witherspoon, Seth Ma...  2016                108   \n",
       "4  Will Smith, Jared Leto, Margot Robbie, Viola D...  2016                123   \n",
       "\n",
       "   Rating   Votes  Revenue (Millions)  Metascore  Net Earnings  \n",
       "0     8.1  757074              333.13       76.0      269.8353  \n",
       "1     7.0  485820              126.46       65.0      102.4326  \n",
       "2     7.3  157606              138.12       62.0      111.8772  \n",
       "3     7.2   60545              270.32       59.0      218.9592  \n",
       "4     6.2  393727              325.02       40.0      263.2662  "
      ]
     },
     "execution_count": 161,
     "metadata": {},
     "output_type": "execute_result"
    }
   ],
   "source": [
    "movies.head()"
   ]
  },
  {
   "cell_type": "markdown",
   "metadata": {},
   "source": [
    "You can choose to skip the index by passing along index-False."
   ]
  },
  {
   "cell_type": "code",
   "execution_count": 162,
   "metadata": {
    "ExecuteTime": {
     "end_time": "2019-03-24T22:43:38.982333Z",
     "start_time": "2019-03-24T22:43:36.422001Z"
    }
   },
   "outputs": [],
   "source": [
    "movies.to_excel('output.xlsx', index=False)"
   ]
  },
  {
   "cell_type": "markdown",
   "metadata": {},
   "source": [
    "We need to be able to make our output files look nice before we can send it out to our co-workers. We can use pandas `ExcelWriter` class along with the `XlsxWriter` Python module to apply the formatting.\n",
    "\n",
    "We can do use these advanced output options by creating a `ExcelWriter` object and use this object to write to the Excel file. This is very limited in terms of formating."
   ]
  },
  {
   "cell_type": "code",
   "execution_count": 163,
   "metadata": {
    "ExecuteTime": {
     "end_time": "2019-03-24T22:43:40.126228Z",
     "start_time": "2019-03-24T22:43:38.993760Z"
    }
   },
   "outputs": [],
   "source": [
    "writer = pd.ExcelWriter('output.xlsx', engine='xlsxwriter')\n",
    "movies.to_excel(writer, index=False, sheet_name='report')\n",
    "workbook  = writer.book"
   ]
  },
  {
   "cell_type": "markdown",
   "metadata": {
    "ExecuteTime": {
     "end_time": "2019-03-24T14:24:13.607989Z",
     "start_time": "2019-03-24T14:24:13.575162Z"
    }
   },
   "source": [
    "Finally, we save the output file by calling the method `save` on the writer object."
   ]
  },
  {
   "cell_type": "code",
   "execution_count": 164,
   "metadata": {
    "ExecuteTime": {
     "end_time": "2019-03-24T22:43:41.540050Z",
     "start_time": "2019-03-24T22:43:40.136716Z"
    }
   },
   "outputs": [],
   "source": [
    "writer.save()"
   ]
  },
  {
   "cell_type": "markdown",
   "metadata": {
    "ExecuteTime": {
     "end_time": "2019-03-24T14:24:48.534993Z",
     "start_time": "2019-03-24T14:24:48.500909Z"
    }
   },
   "source": [
    "As an example, we saved the data with column headers set as bold. And the saved file looks like the image below."
   ]
  },
  {
   "cell_type": "markdown",
   "metadata": {
    "ExecuteTime": {
     "end_time": "2019-03-24T14:25:33.548383Z",
     "start_time": "2019-03-24T14:25:33.484836Z"
    }
   },
   "source": [
    "<div class='alert alert-warning' role='light'>\n",
    "XlsxWriter and Pandas provide very little support for formatting the output data from a dataframe apart from default formatting such as the header and index cells and any cells that contain dates or datetimes. In addition it isn’t possible to format any cells that already have a default format applied.\n",
    "\n",
    "If you require very controlled formatting of the dataframe output then you would probably be better off using Xlsxwriter directly with raw data taken from Pandas. This as the expenses series directly from a dat\n",
    "</div>"
   ]
  },
  {
   "cell_type": "code",
   "execution_count": 165,
   "metadata": {
    "ExecuteTime": {
     "end_time": "2019-03-24T22:43:41.851032Z",
     "start_time": "2019-03-24T22:43:41.550958Z"
    }
   },
   "outputs": [],
   "source": [
    "import xlsxwriter\n",
    "\n",
    "# Create a workbook and add a worksheet.\n",
    "workbook = xlsxwriter.Workbook('Expenses02.xlsx')\n",
    "worksheet = workbook.add_worksheet()\n",
    "\n",
    "# Add a bold format to use to highlight cells.\n",
    "bold = workbook.add_format({'bold': True})\n",
    "\n",
    "# Add a number format for cells with money.\n",
    "money = workbook.add_format({'num_format': '$#,##0'})\n",
    "\n",
    "# Write some data headers.\n",
    "worksheet.write('A1', 'Item', bold)\n",
    "worksheet.write('B1', 'Cost', bold)\n",
    "\n",
    "# Some data we want to write to the worksheet.\n",
    "expenses = (\n",
    " ['Rent', 1000],\n",
    " ['Gas',   100],\n",
    " ['Food',  300],\n",
    " ['Gym',    50],\n",
    ")\n",
    "\n",
    "# Start from the first cell below the headers.\n",
    "row = 1\n",
    "col = 0\n",
    "\n",
    "# Iterate over the data and write it out row by row.\n",
    "for item, cost in (expenses):\n",
    "    worksheet.write(row, col,     item)\n",
    "    worksheet.write(row, col + 1, cost, money)\n",
    "    row += 1\n",
    "\n",
    "# Write a total using a formula.\n",
    "worksheet.write(row, 0, 'Total',       bold)\n",
    "worksheet.write(row, 1, '=SUM(B2:B5)', money)\n",
    "\n",
    "workbook.close()"
   ]
  },
  {
   "cell_type": "markdown",
   "metadata": {
    "ExecuteTime": {
     "end_time": "2019-03-24T14:28:08.904995Z",
     "start_time": "2019-03-24T14:28:08.869842Z"
    }
   },
   "source": [
    "you can check out more at the [official documents](https://xlsxwriter.readthedocs.io/working_with_pandas.html) and also other libraries [here](https://github.com/python-excel)"
   ]
  }
 ],
 "metadata": {
  "kernelspec": {
   "display_name": "Python 3",
   "language": "python",
   "name": "dspxi"
  },
  "language_info": {
   "codemirror_mode": {
    "name": "ipython",
    "version": 3
   },
   "file_extension": ".py",
   "mimetype": "text/x-python",
   "name": "python",
   "nbconvert_exporter": "python",
   "pygments_lexer": "ipython3",
   "version": "3.6.8"
  },
  "toc": {
   "base_numbering": "3",
   "nav_menu": {},
   "number_sections": true,
   "sideBar": true,
   "skip_h1_title": false,
   "title_cell": "Table of Contents",
   "title_sidebar": "Contents",
   "toc_cell": true,
   "toc_position": {},
   "toc_section_display": true,
   "toc_window_display": true
  },
  "varInspector": {
   "cols": {
    "lenName": 16,
    "lenType": 16,
    "lenVar": 40
   },
   "kernels_config": {
    "python": {
     "delete_cmd_postfix": "",
     "delete_cmd_prefix": "del ",
     "library": "var_list.py",
     "varRefreshCmd": "print(var_dic_list())"
    },
    "r": {
     "delete_cmd_postfix": ") ",
     "delete_cmd_prefix": "rm(",
     "library": "var_list.r",
     "varRefreshCmd": "cat(var_dic_list()) "
    }
   },
   "types_to_exclude": [
    "module",
    "function",
    "builtin_function_or_method",
    "instance",
    "_Feature"
   ],
   "window_display": false
  }
 },
 "nbformat": 4,
 "nbformat_minor": 2
}
