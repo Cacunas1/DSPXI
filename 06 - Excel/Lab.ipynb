{
 "cells": [
  {
   "cell_type": "code",
   "execution_count": 1,
   "metadata": {
    "ExecuteTime": {
     "end_time": "2019-03-24T11:41:44.010436Z",
     "start_time": "2019-03-24T11:41:43.243716Z"
    }
   },
   "outputs": [],
   "source": [
    "# Import `pyexcel`\n",
    "import pyexcel\n",
    "\n",
    "# Get an array from the data\n",
    "my_array = pyexcel.get_array(file_name=\"test.xlsx\")"
   ]
  },
  {
   "cell_type": "markdown",
   "metadata": {},
   "source": [
    "You can also get your data in an ordered dictionary of lists. You can use the get_dict() function:"
   ]
  },
  {
   "cell_type": "code",
   "execution_count": 3,
   "metadata": {
    "ExecuteTime": {
     "end_time": "2019-03-24T11:42:20.594721Z",
     "start_time": "2019-03-24T11:42:20.386973Z"
    }
   },
   "outputs": [],
   "source": [
    "# Import `OrderedDict` module \n",
    "from pyexcel._compact import OrderedDict\n",
    "\n",
    "# Get your data in an ordered dictionary of lists\n",
    "my_dict = pyexcel.get_dict(file_name=\"test.xlsx\", name_columns_by_row=0)\n",
    "\n",
    "# Get your data in a dictionary of 2D arrays\n",
    "book_dict = pyexcel.get_book_dict(file_name=\"test.xlsx\")"
   ]
  },
  {
   "cell_type": "code",
   "execution_count": 11,
   "metadata": {
    "ExecuteTime": {
     "end_time": "2019-03-24T11:48:00.749044Z",
     "start_time": "2019-03-24T11:47:59.321927Z"
    }
   },
   "outputs": [
    {
     "data": {
      "text/html": [
       "<div>\n",
       "<style scoped>\n",
       "    .dataframe tbody tr th:only-of-type {\n",
       "        vertical-align: middle;\n",
       "    }\n",
       "\n",
       "    .dataframe tbody tr th {\n",
       "        vertical-align: top;\n",
       "    }\n",
       "\n",
       "    .dataframe thead th {\n",
       "        text-align: right;\n",
       "    }\n",
       "</style>\n",
       "<table border=\"1\" class=\"dataframe\">\n",
       "  <thead>\n",
       "    <tr style=\"text-align: right;\">\n",
       "      <th></th>\n",
       "      <th>ID</th>\n",
       "      <th>AGE</th>\n",
       "      <th>SCORE</th>\n",
       "    </tr>\n",
       "  </thead>\n",
       "  <tbody>\n",
       "    <tr>\n",
       "      <th>0</th>\n",
       "      <td>1</td>\n",
       "      <td>22</td>\n",
       "      <td>5</td>\n",
       "    </tr>\n",
       "    <tr>\n",
       "      <th>1</th>\n",
       "      <td>2</td>\n",
       "      <td>15</td>\n",
       "      <td>6</td>\n",
       "    </tr>\n",
       "    <tr>\n",
       "      <th>2</th>\n",
       "      <td>3</td>\n",
       "      <td>28</td>\n",
       "      <td>9</td>\n",
       "    </tr>\n",
       "  </tbody>\n",
       "</table>\n",
       "</div>"
      ],
      "text/plain": [
       "   ID  AGE  SCORE\n",
       "0   1   22      5\n",
       "1   2   15      6\n",
       "2   3   28      9"
      ]
     },
     "execution_count": 11,
     "metadata": {},
     "output_type": "execute_result"
    }
   ],
   "source": [
    "import pandas as pd\n",
    "pd.DataFrame.from_dict(my_dict)"
   ]
  },
  {
   "cell_type": "code",
   "execution_count": 39,
   "metadata": {
    "ExecuteTime": {
     "end_time": "2019-03-24T12:01:08.476413Z",
     "start_time": "2019-03-24T12:01:08.413819Z"
    }
   },
   "outputs": [
    {
     "name": "stdout",
     "output_type": "stream",
     "text": [
      "[['ID', 'AGE', 'SCORE'], [1, 22, 5], [2, 15, 6], [3, 28, 9]]\n",
      "[['X', 'Y', 'Z'], [1, 2, 3], [4, 5, 6], [7, 8, 9]]\n",
      "[['M', 'N', 'O', 'P'], [10, 11, 12, 13], [14, 15, 16, 17], [18, 19, 20, 21]]\n"
     ]
    }
   ],
   "source": [
    "#import pandas as pd\n",
    "#pd.DataFrame.from_dict(book_dict)\n",
    "book_dict['Sheet1']\n",
    "for sheet in book_dict:\n",
    "    data =  book_dict[sheet]\n",
    "    #print (pd.DataFrame(data[1:], columns=book_dict[sheet][0]).set_index('ID'))\n",
    "    #print (pd.DataFrame.from_dict(book_dict[sheet],orient='index'))\n",
    "    #break\n",
    "    print (data)"
   ]
  },
  {
   "cell_type": "code",
   "execution_count": null,
   "metadata": {},
   "outputs": [],
   "source": []
  }
 ],
 "metadata": {
  "kernelspec": {
   "display_name": "Python 3",
   "language": "python",
   "name": "dspxi"
  },
  "language_info": {
   "codemirror_mode": {
    "name": "ipython",
    "version": 3
   },
   "file_extension": ".py",
   "mimetype": "text/x-python",
   "name": "python",
   "nbconvert_exporter": "python",
   "pygments_lexer": "ipython3",
   "version": "3.6.8"
  },
  "toc": {
   "base_numbering": 1,
   "nav_menu": {},
   "number_sections": true,
   "sideBar": true,
   "skip_h1_title": false,
   "title_cell": "Table of Contents",
   "title_sidebar": "Contents",
   "toc_cell": false,
   "toc_position": {},
   "toc_section_display": true,
   "toc_window_display": false
  },
  "varInspector": {
   "cols": {
    "lenName": 16,
    "lenType": 16,
    "lenVar": 40
   },
   "kernels_config": {
    "python": {
     "delete_cmd_postfix": "",
     "delete_cmd_prefix": "del ",
     "library": "var_list.py",
     "varRefreshCmd": "print(var_dic_list())"
    },
    "r": {
     "delete_cmd_postfix": ") ",
     "delete_cmd_prefix": "rm(",
     "library": "var_list.r",
     "varRefreshCmd": "cat(var_dic_list()) "
    }
   },
   "types_to_exclude": [
    "module",
    "function",
    "builtin_function_or_method",
    "instance",
    "_Feature"
   ],
   "window_display": false
  }
 },
 "nbformat": 4,
 "nbformat_minor": 2
}
